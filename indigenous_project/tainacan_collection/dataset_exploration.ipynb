{
 "cells": [
  {
   "cell_type": "markdown",
   "id": "7fff4a76-0b6d-465e-9f3b-e6fb7af5eb6c",
   "metadata": {},
   "source": [
    "## Exploring the Numbers"
   ]
  },
  {
   "cell_type": "code",
   "execution_count": null,
   "id": "ad54d83b-f807-40e5-b297-fd046fa68fa8",
   "metadata": {},
   "outputs": [],
   "source": [
    "import pandas as pd\n",
    "\n",
    "# Loading dataset\n",
    "ind_df = pd.read_csv('data/indigenous_collection.csv', index_col='id')\n",
    "print(f'Dataframe columns: \\n{ind_df.columns}')"
   ]
  },
  {
   "cell_type": "code",
   "execution_count": null,
   "id": "2cc2eb2e-64a5-4bf5-bbfa-0b1c68c6b985",
   "metadata": {},
   "outputs": [],
   "source": [
    "# How many item do we have?\n",
    "print(f'Amount of items: {len(ind_df)}')\n",
    "\n",
    "# How many items per category?\n",
    "print(f'Amount of items per category: \\n{ind_df.groupby([\"categoria\"]).count()[\"url\"]}')"
   ]
  },
  {
   "cell_type": "code",
   "execution_count": null,
   "id": "349be5d6-0b25-4b40-afd9-80de7df96490",
   "metadata": {},
   "outputs": [],
   "source": [
    "# How many items with images do we have?\n",
    "print(f'Amount of items with images: {len(ind_df[ind_df[\"thumbnail\"].notna()])}')\n",
    "\n",
    "# How many items with images do we have per category?\n",
    "print(f'Amount of items with image per category: \\n{ind_df.groupby([\"categoria\"]).count()[\"thumbnail\"]}')"
   ]
  },
  {
   "cell_type": "code",
   "execution_count": null,
   "id": "fa6b27b5-524d-4159-b46b-b833800cc839",
   "metadata": {
    "scrolled": true
   },
   "outputs": [],
   "source": [
    "pd.set_option('display.max_rows', None)\n",
    "\n",
    "# How many items do we have per community?\n",
    "print(f'Amount of items per community: \\n{ind_df.groupby([\"povo\"]).count()[\"url\"]}')"
   ]
  },
  {
   "cell_type": "code",
   "execution_count": null,
   "id": "cb1c9ec2-3939-4d4b-8996-29938044eb58",
   "metadata": {
    "scrolled": true
   },
   "outputs": [],
   "source": [
    "# How many items do we have per category per community?\n",
    "print(f'Amount of items per category per community: \\n{ind_df.groupby([\"categoria\", \"povo\"]).count()[\"url\"]}')"
   ]
  },
  {
   "cell_type": "code",
   "execution_count": null,
   "id": "e93a6672-44b9-44d6-915b-7466373b06fd",
   "metadata": {
    "scrolled": true
   },
   "outputs": [],
   "source": [
    "# How many items with image do we have per category per community?\n",
    "print(f'Amount of items with image per category per community: \\n{ind_df.groupby([\"categoria\", \"povo\"]).count()[\"thumbnail\"]}')"
   ]
  },
  {
   "cell_type": "code",
   "execution_count": null,
   "id": "32d406f1-0d9b-4f9c-aa62-61bf1256efc6",
   "metadata": {},
   "outputs": [],
   "source": [
    "# Function to answer three basic questions about a column\n",
    "# 1. How many unique values of the column do we have?\n",
    "# 2. How many items have that column?\n",
    "# 2. How many items do we have per unique value of the column?\n",
    "def column_basic_info(column):\n",
    "    n_unique_items = ind_df[column].nunique()\n",
    "    print('Amount of unique ' + column + f': {n_unique_items}')\n",
    "    print('Amount of items with an associated ' + column + f': {sum(ind_df[column].notna())}')\n",
    "    \n",
    "    if n_unique_items < len(ind_df)/4:\n",
    "        print('Amount of items per ' + column + f': \\n{ind_df.groupby([column]).count()[\"url\"]}')\n",
    "    \n",
    "    print()"
   ]
  },
  {
   "cell_type": "code",
   "execution_count": null,
   "id": "70d3d70d-99c3-4d77-9beb-4447b091bb3e",
   "metadata": {
    "scrolled": true
   },
   "outputs": [],
   "source": [
    "# Exploring basic infor about other columns\n",
    "# avoid_columns = ['url', 'thumbnail', 'categoria', 'povo']\n",
    "# unique_columns = ['numero_do_item', 'descricao', 'image_path']\n",
    "other_columns = [col for col in ind_df.columns]\n",
    "\n",
    "for col in other_columns:\n",
    "    column_basic_info(col)"
   ]
  },
  {
   "cell_type": "code",
   "execution_count": null,
   "id": "b9410119-b9f0-4f08-8764-50886dc1a316",
   "metadata": {},
   "outputs": [],
   "source": [
    "ind_df.columns"
   ]
  },
  {
   "cell_type": "markdown",
   "id": "5bf6ca34-0d8e-406f-b5a2-f150636ea9d8",
   "metadata": {},
   "source": [
    "## Organizing and Filtering Dataset"
   ]
  },
  {
   "cell_type": "code",
   "execution_count": null,
   "id": "af436a1b-703d-4c43-a6d2-4d47dc4e2869",
   "metadata": {},
   "outputs": [],
   "source": [
    "# Explanation of each column\n",
    "# url               -> Link to the object in Tainacan's archive.\n",
    "# thumbnail         -> Link to thumbnail image of element. NaN if there's no image associated with the object.\n",
    "# creation_date     -> Creation date of the object in Tainacan's archive. This is an internal variable from the platform.\n",
    "# modification_date -> Date of last modification of the object in Tainacan's archive. This is an internal variable from the platform.\n",
    "# numero_do_item    -> String identifying the item. It has multiple formats (DD.D.DD, DD.D.DDC, D, DD, DDD, DDDD, DDDDC, DDDDCCC and more).\n",
    "# tripticos         -> No relevant explanation (D.DD or DD.DD).\n",
    "# categoria         -> Category of the item. There are ten different and well-defined of these.\n",
    "# nome_do_item      -> Name of the object. Sometimes its followed by an observation in parenthesis.\n",
    "# nome_do_item_dic  -> New version of 'nome_do_item_de_acordo_com_o_dicionario'. Name of the item according to dictionary. \n",
    "#                      A second and more generic name of the object.\n",
    "# colecao           -> Name of the collection the item belongs to.\n",
    "# coletor           -> Person or institution responsible for collecting the item.\n",
    "# doador            -> Person or institution responsible for donating the item to the museum.\n",
    "# modo_de_aquisicao -> How the item was obtained, either bought, donated, exchanged, another way or unknown.\n",
    "# data_de_aquisicao -> When the item was acquired by the museum.\n",
    "# ano_de_aquisicao  -> New version of 'ano_de_aquisicao_do_objeto'. The year in which the item was acquired by the museum.\n",
    "# data_de_confeccao -> New version of 'data_de_confeccao_do_item'. When the item was made.\n",
    "# autoria           -> Person or institutions that made the item. Sometimes its followed by an observation in parenthesis.\n",
    "# nome_etnico       -> New version of 'nome_etnico_do_item'. Indigenous name of the item. Normally the noun itself is inside quotes and\n",
    "#                      sometimes more information can be found on the string.\n",
    "# descricao         -> Description of the object. Commonly includes material, parts that it is made of (or how it was made), and \n",
    "#                      functionality\n",
    "# dimensoes         -> Dimensions of the object.\n",
    "# funcao            -> Function of the object.\n",
    "# materia-prima     -> Material the object is made of. Materials are subdivided in a few categories: animal, plant and synthetic.\n",
    "# "
   ]
  },
  {
   "cell_type": "code",
   "execution_count": null,
   "id": "68562830-6aad-4a94-a9e5-e9e5696605bf",
   "metadata": {
    "scrolled": true
   },
   "outputs": [],
   "source": [
    "import re\n",
    "\n",
    "# Fixing data types\n",
    "ind_df['creation_date'] = pd.to_datetime(ind_df['creation_date'])\n",
    "ind_df['modification_date'] = pd.to_datetime(ind_df['modification_date'])\n",
    "\n",
    "# Fixing name\n",
    "ind_df.rename(columns={'nome_do_item_de_acordo_com_o_dicionario': 'nome_do_item_dic'}, inplace=True)\n",
    "\n",
    "# Extracting correct date when possible\n",
    "def parse_dates_1(date_str):\n",
    "    try:\n",
    "        return pd.to_datetime(date_str)\n",
    "    except:\n",
    "        # Possible formats that are not completly random\n",
    "        for fmt in (\"%Y%m%d\", \"%Y%m00\", \"$Y\", \"%Y0\", \"%Y00\", \"%Y000\", \"%Y0000\", \"%Y00000\", \"%Y000000\", \"%Y%m%dE7\"):\n",
    "            try:\n",
    "                return pd.to_datetime(date_str.replace('.',''), format=fmt)\n",
    "            except ValueError:\n",
    "                continue\n",
    "        return pd.NaT\n",
    "ind_df['data_de_aquisicao'] = ind_df['data_de_aquisicao'].apply(parse_dates_1)\n",
    "\n",
    "# Fixing name and extracting correct year when possible\n",
    "ind_df.rename(columns={'ano_de_aquisicao_do_objeto': 'ano_de_aquisicao'}, inplace=True)\n",
    "def extract_year(date):\n",
    "    return pd.to_datetime(date).year if pd.notnull(date) else pd.NaT\n",
    "ind_df['ano_de_aquisicao'] = ind_df['ano_de_aquisicao'].apply(extract_year)\n",
    "\n",
    "# Fixing name and extracting correct date\n",
    "ind_df.rename(columns={'data_de_confeccao_do_item': 'data_de_confeccao'}, inplace=True)\n",
    "def parse_dates_2(date):\n",
    "    # Is it already a date?\n",
    "    try:\n",
    "        return pd.to_datetime(date).date()\n",
    "    except:\n",
    "        pass\n",
    "\n",
    "    # Remove '?' and try to match an year\n",
    "    date = date.replace('?', '')\n",
    "    try:\n",
    "        if len(date) == 4 and date.isdigit():\n",
    "            return pd.to_datetime(f'{date}-01-01').date()\n",
    "    except:\n",
    "        pass\n",
    "\n",
    "    # Do we have a date of the type '<month_in_portuguese> of YYYY'?\n",
    "    try:\n",
    "        date = date_entry.lower().strip()\n",
    "        months_pt = {\n",
    "            'janeiro': '01', 'fevereiro': '02', 'março': '03', 'abril': '04',\n",
    "            'maio': '05', 'junho': '06', 'julho': '07', 'agosto': '08',\n",
    "            'setembro': '09', 'outubro': '10', 'novembro': '11', 'dezembro': '12'\n",
    "        }\n",
    "        for month_pt, month_num in months_pt.items():\n",
    "            if month_pt in date:\n",
    "                year = ''.join(filter(str.isdigit, date))\n",
    "                return pd.to_datetime(f'{year}-{month_num}-01').date()\n",
    "    except:\n",
    "        pass\n",
    "\n",
    "    # Do we have multiple years split by '|'?\n",
    "    if '|' in date:\n",
    "        years = date.split('|')\n",
    "        years = [year.strip() for year in years if year.strip().isdigit()]\n",
    "        return [pd.to_datetime(f'{year}-01-01').date() for year in years]\n",
    "\n",
    "    # Do we have multiple years split by '/'?\n",
    "    elif '/' in date:\n",
    "        years = date.split('/')\n",
    "        years = [year.strip() for year in years if year.strip().isdigit()]\n",
    "        return [pd.to_datetime(f'{year}-01-01').date() for year in years]\n",
    "    \n",
    "    return pd.NaT\n",
    "ind_df['data_de_confeccao'] = ind_df['data_de_confeccao'].apply(parse_dates_2)\n",
    "\n",
    "# Fixing name\n",
    "ind_df.rename(columns={'nome_etnico_do_item': 'nome_etnico'}, inplace=True)\n",
    "\n",
    "# Extracting dimensions of the object [length, width, height, diameter]\n",
    "all_dimensions = []\n",
    "for index, value in ind_df['dimensoes'].items():\n",
    "    dimensions = [.0, .0, .0, .0]\n",
    "\n",
    "    # Do I even have information do be extracted?\n",
    "    if type(value) is not str:\n",
    "        all_dimensions.append(pd.NA)\n",
    "    \n",
    "    else:\n",
    "        try:\n",
    "            # Fix typos and change ',' to '.' for type casting later\n",
    "            string_dimensions = value.replace(',o', ',0')\n",
    "            string_dimensions = string_dimensions.replace(',', '.')\n",
    "\n",
    "            # Matching numbers and studying context to decide what we are measuring (length, width, height or diameter)\n",
    "            numbers = re.findall(r'\\d+\\.\\d', string_dimensions)\n",
    "            for number in numbers:\n",
    "                num_pos = string_dimensions.find(number)\n",
    "                context = string_dimensions[num_pos:min(num_pos+len(number)+18, len(string_dimensions))].lower()\n",
    "\n",
    "                # Checking if we have meters or centimeters\n",
    "                if len(re.findall(r'(?<!c)m', string_dimensions[num_pos:min(num_pos+len(number)+4, len(string_dimensions))])) > 0:\n",
    "                    number = float(number)*100\n",
    "                else:\n",
    "                    number = float(number)\n",
    "                \n",
    "                if 'comprimento' in context:\n",
    "                    dimensions[0] = number\n",
    "                elif 'largura' in context:\n",
    "                    dimensions[1] = number\n",
    "                elif 'altura' in context:\n",
    "                    dimensions[2] = number\n",
    "                elif 'diametro' in context:\n",
    "                    dimensions[3] = number\n",
    "        except Exception as e:\n",
    "            print(number, context, e)\n",
    "            all_dimensions.append(pd.NA)\n",
    "            continue\n",
    "\n",
    "        # Last sanity check to account for degenerate strings\n",
    "        if sum(dimensions) != .0:\n",
    "            all_dimensions.append(dimensions)\n",
    "        else:\n",
    "            all_dimensions.append(pd.NA)\n",
    "ind_df['dimensoes'] = all_dimensions"
   ]
  }
 ],
 "metadata": {
  "kernelspec": {
   "display_name": "Python 3 (ipykernel)",
   "language": "python",
   "name": "python3"
  },
  "language_info": {
   "codemirror_mode": {
    "name": "ipython",
    "version": 3
   },
   "file_extension": ".py",
   "mimetype": "text/x-python",
   "name": "python",
   "nbconvert_exporter": "python",
   "pygments_lexer": "ipython3",
   "version": "3.10.15"
  }
 },
 "nbformat": 4,
 "nbformat_minor": 5
}
