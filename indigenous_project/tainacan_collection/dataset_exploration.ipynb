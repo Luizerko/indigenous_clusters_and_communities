{
 "cells": [
  {
   "cell_type": "markdown",
   "id": "7fff4a76-0b6d-465e-9f3b-e6fb7af5eb6c",
   "metadata": {},
   "source": [
    "## Exploring the Numbers"
   ]
  },
  {
   "cell_type": "code",
   "execution_count": null,
   "id": "ad54d83b-f807-40e5-b297-fd046fa68fa8",
   "metadata": {},
   "outputs": [],
   "source": [
    "import pandas as pd\n",
    "\n",
    "# Loading dataset\n",
    "ind_df = pd.read_csv('data/indigenous_collection.csv', index_col='id')\n",
    "print(f'Dataframe columns: \\n{ind_df.columns}')"
   ]
  },
  {
   "cell_type": "code",
   "execution_count": null,
   "id": "2cc2eb2e-64a5-4bf5-bbfa-0b1c68c6b985",
   "metadata": {},
   "outputs": [],
   "source": [
    "# How many item do we have?\n",
    "print(f'Amount of items: {len(ind_df)}')\n",
    "\n",
    "# How many items per category?\n",
    "print(f'Amount of items per category: \\n{ind_df.groupby([\"categoria\"]).count()[\"url\"]}')"
   ]
  },
  {
   "cell_type": "code",
   "execution_count": null,
   "id": "349be5d6-0b25-4b40-afd9-80de7df96490",
   "metadata": {},
   "outputs": [],
   "source": [
    "# How many items with images do we have?\n",
    "print(f'Amount of items with images: {len(ind_df[ind_df[\"thumbnail\"].notna()])}')\n",
    "\n",
    "# How many items with images do we have per category?\n",
    "print(f'Amount of items with image per category: \\n{ind_df.groupby([\"categoria\"]).count()[\"thumbnail\"]}')"
   ]
  },
  {
   "cell_type": "code",
   "execution_count": null,
   "id": "fa6b27b5-524d-4159-b46b-b833800cc839",
   "metadata": {
    "scrolled": true
   },
   "outputs": [],
   "source": [
    "pd.set_option('display.max_rows', None)\n",
    "\n",
    "# How many items do we have per community?\n",
    "print(f'Amount of items per community: \\n{ind_df.groupby([\"povo\"]).count()[\"url\"]}')"
   ]
  },
  {
   "cell_type": "code",
   "execution_count": null,
   "id": "cb1c9ec2-3939-4d4b-8996-29938044eb58",
   "metadata": {},
   "outputs": [],
   "source": [
    "# How many items do we have per category per community?\n",
    "print(f'Amount of items per category per community: \\n{ind_df.groupby([\"categoria\", \"povo\"]).count()[\"url\"]}')"
   ]
  },
  {
   "cell_type": "code",
   "execution_count": null,
   "id": "e93a6672-44b9-44d6-915b-7466373b06fd",
   "metadata": {
    "scrolled": true
   },
   "outputs": [],
   "source": [
    "# How many items with image do we have per category per community?\n",
    "print(f'Amount of items with image per category per community: \\n{ind_df.groupby([\"categoria\", \"povo\"]).count()[\"thumbnail\"]}')"
   ]
  },
  {
   "cell_type": "code",
   "execution_count": null,
   "id": "32d406f1-0d9b-4f9c-aa62-61bf1256efc6",
   "metadata": {},
   "outputs": [],
   "source": [
    "# Function to answer three basic questions about a column\n",
    "# 1. How many unique values of the column do we have?\n",
    "# 2. How many items have that column?\n",
    "# 2. How many items do we have per unique value of the column?\n",
    "def column_basic_info(column):\n",
    "    n_unique_items = ind_df[column].nunique()\n",
    "    print('Amount of unique ' + column + f': {n_unique_items}')\n",
    "    print('Amount of items with an associated ' + column + f': {sum(ind_df[column].notna())}')\n",
    "    \n",
    "    if n_unique_items < len(ind_df)/4:\n",
    "        print('Amount of items per ' + column + f': \\n{ind_df.groupby([column]).count()[\"url\"]}')\n",
    "    \n",
    "    print()"
   ]
  },
  {
   "cell_type": "code",
   "execution_count": null,
   "id": "70d3d70d-99c3-4d77-9beb-4447b091bb3e",
   "metadata": {
    "scrolled": true
   },
   "outputs": [],
   "source": [
    "# Exploring basic infor about other columns\n",
    "avoid_columns = ['url', 'thumbnail', 'categoria', 'povo']\n",
    "unique_columns = ['numero_do_item', 'descricao', 'image_path']\n",
    "other_columns = [col for col in ind_df.columns if col not in avoid_columns]\n",
    "\n",
    "for col in other_columns:\n",
    "    column_basic_info(col)"
   ]
  },
  {
   "cell_type": "code",
   "execution_count": null,
   "id": "b9410119-b9f0-4f08-8764-50886dc1a316",
   "metadata": {},
   "outputs": [],
   "source": [
    "ind_df.columns"
   ]
  },
  {
   "cell_type": "markdown",
   "id": "5bf6ca34-0d8e-406f-b5a2-f150636ea9d8",
   "metadata": {},
   "source": [
    "## Processing Columns"
   ]
  },
  {
   "cell_type": "code",
   "execution_count": null,
   "id": "68562830-6aad-4a94-a9e5-e9e5696605bf",
   "metadata": {},
   "outputs": [],
   "source": []
  }
 ],
 "metadata": {
  "kernelspec": {
   "display_name": "Python 3 (ipykernel)",
   "language": "python",
   "name": "python3"
  },
  "language_info": {
   "codemirror_mode": {
    "name": "ipython",
    "version": 3
   },
   "file_extension": ".py",
   "mimetype": "text/x-python",
   "name": "python",
   "nbconvert_exporter": "python",
   "pygments_lexer": "ipython3",
   "version": "3.10.15"
  }
 },
 "nbformat": 4,
 "nbformat_minor": 5
}
