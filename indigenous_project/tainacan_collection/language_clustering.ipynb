{
 "cells": [
  {
   "cell_type": "code",
   "execution_count": 1,
   "id": "12e8d3d3-5137-4c49-a9c7-4ef40f64c737",
   "metadata": {},
   "outputs": [
    {
     "name": "stdout",
     "output_type": "stream",
     "text": [
      "Dataframe columns: \n",
      "Index(['url', 'thumbnail', 'creation_date', 'modification_date',\n",
      "       'numero_do_item', 'tripticos', 'categoria', 'nome_do_item',\n",
      "       'nome_do_item_dic', 'colecao', 'coletor', 'doador', 'modo_de_aquisicao',\n",
      "       'data_de_aquisicao', 'ano_de_aquisicao', 'data_de_confeccao', 'autoria',\n",
      "       'nome_etnico', 'descricao', 'dimensoes', 'funcao', 'materia_prima',\n",
      "       'tecnica_confeccao', 'descritor_tematico', 'descritor_comum',\n",
      "       'numero_de_pecas', 'itens_relacionados', 'responsavel_guarda',\n",
      "       'inst_detentora', 'povo', 'autoidentificacao', 'lingua',\n",
      "       'estado_de_origem', 'geolocalizacao', 'pais_de_origem', 'exposicao',\n",
      "       'referencias', 'disponibilidade', 'qualificacao', 'historia_adm',\n",
      "       'notas_gerais', 'observacao', 'conservacao', 'image_path'],\n",
      "      dtype='object')\n"
     ]
    }
   ],
   "source": [
    "import pandas as pd\n",
    "\n",
    "# Loading dataset\n",
    "ind_df = pd.read_csv('data/indigenous_collection_processed.csv', index_col='id')\n",
    "print(f'Dataframe columns: \\n{ind_df.columns}')"
   ]
  },
  {
   "cell_type": "code",
   "execution_count": 2,
   "id": "c7ccfb45-9155-48a9-b5fa-fbf4e585822c",
   "metadata": {},
   "outputs": [],
   "source": [
    "import importlib\n",
    "from IPython.core.magic import register_cell_magic\n",
    "\n",
    "# Creating skip cell command\n",
    "@register_cell_magic\n",
    "def skip(line, cell):\n",
    "    return"
   ]
  },
  {
   "cell_type": "code",
   "execution_count": 3,
   "id": "0915c122-a4e2-4a09-896f-0c1579ae45c9",
   "metadata": {},
   "outputs": [],
   "source": [
    "# Centralizing main imports so we can run the models separately\n",
    "import random\n",
    "from tqdm.notebook import tqdm\n",
    "from PIL import Image\n",
    "\n",
    "import numpy as np\n",
    "import torch\n",
    "import torch.nn as nn\n",
    "import torch.optim as optim\n",
    "from torch.utils.data import DataLoader\n",
    "from torchvision import transforms\n",
    "\n",
    "import matplotlib.pyplot as plt\n",
    "\n",
    "from image_training_utils import *\n",
    "\n",
    "# import language_training_utils\n",
    "# importlib.reload(language_training_utils)\n",
    "# from language_training_utils import *"
   ]
  },
  {
   "cell_type": "markdown",
   "id": "2a033d0f-bc94-45f8-8d78-5e6b93d6e582",
   "metadata": {},
   "source": [
    "# Language Clustering"
   ]
  },
  {
   "cell_type": "markdown",
   "id": "f46409cc-bfb6-4c8d-a12c-262e0b046f26",
   "metadata": {},
   "source": []
  },
  {
   "cell_type": "code",
   "execution_count": 19,
   "id": "0658c8b5-60d5-4050-ae67-edf51130a47d",
   "metadata": {},
   "outputs": [
    {
     "name": "stdout",
     "output_type": "stream",
     "text": [
      "\n"
     ]
    },
    {
     "data": {
      "text/html": [
       "<div>\n",
       "<style scoped>\n",
       "    .dataframe tbody tr th:only-of-type {\n",
       "        vertical-align: middle;\n",
       "    }\n",
       "\n",
       "    .dataframe tbody tr th {\n",
       "        vertical-align: top;\n",
       "    }\n",
       "\n",
       "    .dataframe thead th {\n",
       "        text-align: right;\n",
       "    }\n",
       "</style>\n",
       "<table border=\"1\" class=\"dataframe\">\n",
       "  <thead>\n",
       "    <tr style=\"text-align: right;\">\n",
       "      <th></th>\n",
       "      <th>povo</th>\n",
       "      <th>x</th>\n",
       "      <th>y</th>\n",
       "    </tr>\n",
       "    <tr>\n",
       "      <th>id</th>\n",
       "      <th></th>\n",
       "      <th></th>\n",
       "      <th></th>\n",
       "    </tr>\n",
       "  </thead>\n",
       "  <tbody>\n",
       "    <tr>\n",
       "      <th>3577</th>\n",
       "      <td>terra indígena amanayé</td>\n",
       "      <td>-3.937602</td>\n",
       "      <td>-48.692308</td>\n",
       "    </tr>\n",
       "    <tr>\n",
       "      <th>3584</th>\n",
       "      <td>terra indígena apinayé</td>\n",
       "      <td>-6.108303</td>\n",
       "      <td>-47.653070</td>\n",
       "    </tr>\n",
       "    <tr>\n",
       "      <th>3587</th>\n",
       "      <td>terra indígena apurinã km-124 br-317</td>\n",
       "      <td>-9.309621</td>\n",
       "      <td>-67.218019</td>\n",
       "    </tr>\n",
       "    <tr>\n",
       "      <th>3588</th>\n",
       "      <td>terra indígena apurinã do igarapé são joão</td>\n",
       "      <td>-5.606535</td>\n",
       "      <td>-63.134029</td>\n",
       "    </tr>\n",
       "    <tr>\n",
       "      <th>3589</th>\n",
       "      <td>terra indígena apurinã do igarapé tauamirim</td>\n",
       "      <td>-5.679143</td>\n",
       "      <td>-62.994287</td>\n",
       "    </tr>\n",
       "    <tr>\n",
       "      <th>...</th>\n",
       "      <td>...</td>\n",
       "      <td>...</td>\n",
       "      <td>...</td>\n",
       "    </tr>\n",
       "    <tr>\n",
       "      <th>3974</th>\n",
       "      <td>terra indígena jarara</td>\n",
       "      <td>-22.925718</td>\n",
       "      <td>-54.609567</td>\n",
       "    </tr>\n",
       "    <tr>\n",
       "      <th>3979</th>\n",
       "      <td>terra indígena tremembé de almofala</td>\n",
       "      <td>-2.962672</td>\n",
       "      <td>-39.826768</td>\n",
       "    </tr>\n",
       "    <tr>\n",
       "      <th>4000</th>\n",
       "      <td>reserva indígena tuxá de inajá/fazenda funil</td>\n",
       "      <td>-8.774932</td>\n",
       "      <td>-37.697034</td>\n",
       "    </tr>\n",
       "    <tr>\n",
       "      <th>4016</th>\n",
       "      <td>terra indígena yanomami</td>\n",
       "      <td>2.598900</td>\n",
       "      <td>-62.774261</td>\n",
       "    </tr>\n",
       "    <tr>\n",
       "      <th>4033</th>\n",
       "      <td>terra indígena urubu branco</td>\n",
       "      <td>-10.716916</td>\n",
       "      <td>-51.246168</td>\n",
       "    </tr>\n",
       "  </tbody>\n",
       "</table>\n",
       "<p>65 rows × 3 columns</p>\n",
       "</div>"
      ],
      "text/plain": [
       "                                              povo          x          y\n",
       "id                                                                      \n",
       "3577                        terra indígena amanayé  -3.937602 -48.692308\n",
       "3584                        terra indígena apinayé  -6.108303 -47.653070\n",
       "3587          terra indígena apurinã km-124 br-317  -9.309621 -67.218019\n",
       "3588    terra indígena apurinã do igarapé são joão  -5.606535 -63.134029\n",
       "3589   terra indígena apurinã do igarapé tauamirim  -5.679143 -62.994287\n",
       "...                                            ...        ...        ...\n",
       "3974                         terra indígena jarara -22.925718 -54.609567\n",
       "3979           terra indígena tremembé de almofala  -2.962672 -39.826768\n",
       "4000  reserva indígena tuxá de inajá/fazenda funil  -8.774932 -37.697034\n",
       "4016                       terra indígena yanomami   2.598900 -62.774261\n",
       "4033                   terra indígena urubu branco -10.716916 -51.246168\n",
       "\n",
       "[65 rows x 3 columns]"
      ]
     },
     "execution_count": 19,
     "metadata": {},
     "output_type": "execute_result"
    }
   ],
   "source": [
    "import ast\n",
    "\n",
    "print()\n",
    "ind_geo = pd.read_csv('data/terras_indigenas_geolocation_raw.csv', index_col='id')\n",
    "ind_geo['povo'] = ind_geo['povo'].str.lower()\n",
    "all_x, all_y = [], []\n",
    "for index, row in ind_geo.iterrows():\n",
    "    y, x = ast.literal_eval(row['coordenadas'])\n",
    "    all_x.append(x)\n",
    "    all_y.append(y)\n",
    "ind_geo['x'] = all_x\n",
    "ind_geo['y'] = all_y\n",
    "ind_geo = ind_geo.drop(columns=['coordenadas'])\n",
    "ind_geo.to_csv('data/terras_indigenas_geolocation_processed.csv')\n",
    "\n",
    "ind_geo[ind_geo['povo'].str.contains('|'.join(ind_df['povo'].dropna().unique()), na=False)]"
   ]
  }
 ],
 "metadata": {
  "kernelspec": {
   "display_name": "Python 3 (ipykernel)",
   "language": "python",
   "name": "python3"
  },
  "language_info": {
   "codemirror_mode": {
    "name": "ipython",
    "version": 3
   },
   "file_extension": ".py",
   "mimetype": "text/x-python",
   "name": "python",
   "nbconvert_exporter": "python",
   "pygments_lexer": "ipython3",
   "version": "3.10.15"
  }
 },
 "nbformat": 4,
 "nbformat_minor": 5
}
