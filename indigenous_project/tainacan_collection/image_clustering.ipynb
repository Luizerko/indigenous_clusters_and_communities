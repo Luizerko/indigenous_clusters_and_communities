{
 "cells": [
  {
   "cell_type": "code",
   "execution_count": 1,
   "id": "6ef9795d-0158-4db9-8f3a-ec9139c1f258",
   "metadata": {},
   "outputs": [
    {
     "name": "stdout",
     "output_type": "stream",
     "text": [
      "Dataframe columns: \n",
      "Index(['url', 'thumbnail', 'creation_date', 'modification_date',\n",
      "       'numero_do_item', 'tripticos', 'categoria', 'nome_do_item',\n",
      "       'nome_do_item_dic', 'colecao', 'coletor', 'doador', 'modo_de_aquisicao',\n",
      "       'data_de_aquisicao', 'ano_de_aquisicao', 'data_de_confeccao', 'autoria',\n",
      "       'nome_etnico', 'descricao', 'dimensoes', 'funcao', 'materia_prima',\n",
      "       'tecnica_confeccao', 'descritor_tematico', 'descritor_comum',\n",
      "       'numero_de_pecas', 'itens_relacionados', 'responsavel_guarda',\n",
      "       'inst_detentora', 'povo', 'autoidentificacao', 'lingua',\n",
      "       'estado_de_origem', 'geolocalizacao', 'pais_de_origem', 'exposicao',\n",
      "       'referencias', 'disponibilidade', 'qualificacao', 'historia_adm',\n",
      "       'notas_gerais', 'observacao', 'conservacao', 'image_path'],\n",
      "      dtype='object')\n"
     ]
    }
   ],
   "source": [
    "import pandas as pd\n",
    "\n",
    "# Loading dataset\n",
    "ind_df = pd.read_csv('data/indigenous_collection_processed.csv', index_col='id')\n",
    "print(f'Dataframe columns: \\n{ind_df.columns}')"
   ]
  },
  {
   "cell_type": "code",
   "execution_count": 2,
   "id": "dc645b59-5f75-4644-8482-a2aeb836d2ae",
   "metadata": {},
   "outputs": [],
   "source": [
    "import importlib\n",
    "from IPython.core.magic import register_cell_magic\n",
    "\n",
    "# Creating skip cell command\n",
    "@register_cell_magic\n",
    "def skip(line, cell):\n",
    "    return"
   ]
  },
  {
   "cell_type": "markdown",
   "id": "561deae7-07e5-412b-86b4-4f42b9ce3b52",
   "metadata": {},
   "source": [
    "# Image Clustering"
   ]
  },
  {
   "cell_type": "markdown",
   "id": "79dfc3e7-84fa-48da-a625-239a17b0e021",
   "metadata": {},
   "source": [
    "Clustering experiments with image feature extractors. The idea is to fine-tune some pre-trained models on our dataset and then remove the last layer of the model to cluster on the embedding space projections."
   ]
  },
  {
   "cell_type": "markdown",
   "id": "6ecfe485-3be5-4694-8198-c50a3d03555e",
   "metadata": {},
   "source": [
    "## Dataset Preparation"
   ]
  },
  {
   "cell_type": "markdown",
   "id": "31a1f9c8-c490-4d69-a6e1-f8aa2d1280e7",
   "metadata": {},
   "source": [
    "For fine-tuning the model on our dataset, we are going to try a few different labels and study how they affect the generated emebdding space. For now, we focus *povo* and *categoria*."
   ]
  },
  {
   "cell_type": "code",
   "execution_count": 3,
   "id": "7ce8b405-dd10-44cd-8d6c-31d4c4d81131",
   "metadata": {},
   "outputs": [
    {
     "name": "stdout",
     "output_type": "stream",
     "text": [
      "1 corrupted images\n"
     ]
    }
   ],
   "source": [
    "from PIL import Image\n",
    "\n",
    "# Filtering out corrupted images\n",
    "corrupted_images = []\n",
    "for index, row in ind_df.loc[ind_df['image_path'].notna()].iterrows():\n",
    "    try:\n",
    "        Image.open(row['image_path'])\n",
    "    except Exception as e:\n",
    "        corrupted_images.append(row['image_path'])\n",
    "        ind_df.loc[index, 'image_path'] = pd.NA\n",
    "print(f'{len(corrupted_images)} corrupted images')\n",
    "\n",
    "# Creating 'image_path_br' column\n",
    "ind_df['image_path_br'] = ind_df['image_path'].values\n",
    "ind_df.loc[ind_df['image_path_br'].notna(), 'image_path_br'] = \\\n",
    "    ind_df.loc[ind_df['image_path_br'].notna(), \\\n",
    "               'image_path'].apply(lambda path: \\\n",
    "                                   f\"data/br_images/{path.split('/')[-1].split('.')[0]}.png\")"
   ]
  },
  {
   "cell_type": "markdown",
   "id": "dd9804fc-d317-492a-88c1-72cad645cfb4",
   "metadata": {},
   "source": [
    "## ViT Base Patch-16"
   ]
  },
  {
   "cell_type": "markdown",
   "id": "99dd4318-0161-463e-94dc-ba1987cdb366",
   "metadata": {},
   "source": [
    "### Pre-trained Embedding Space"
   ]
  },
  {
   "cell_type": "code",
   "execution_count": 4,
   "id": "8eb70f6d-7d44-40f5-b2f5-94053a767665",
   "metadata": {
    "scrolled": true
   },
   "outputs": [],
   "source": [
    "import torch\n",
    "from torchvision import transforms\n",
    "from training_utils import preparing_image_labels, ImageDataset\n",
    "\n",
    "# Getting the proper device\n",
    "device = torch.device(\"cuda\" if torch.cuda.is_available() else \"cpu\")\n",
    "\n",
    "# Building dataset for column 'povo' (though no specific column is used on off-the-shelf model)\n",
    "transform = transforms.Compose([\n",
    "    transforms.ToTensor(),\n",
    "    transforms.Resize((224, 224)),\n",
    "    transforms.Normalize(mean=[0.5, 0.5, 0.5], std=[0.5, 0.5, 0.5])\n",
    "])\n",
    "labels, name_to_num, num_to_name = preparing_image_labels(ind_df, 'povo')\n",
    "dataset = ImageDataset(labels, transform=transform, augment=False)"
   ]
  },
  {
   "cell_type": "code",
   "execution_count": 5,
   "id": "34e247fc-988b-4850-b908-ed363357f2b7",
   "metadata": {
    "scrolled": true
   },
   "outputs": [
    {
     "name": "stderr",
     "output_type": "stream",
     "text": [
      "Computing embeddings: 100%|████| 23/23 [03:00<00:00,  7.87s/it]\n",
      "/home/lui/anaconda3/envs/ind_thesis/lib/python3.10/site-packages/sklearn/utils/deprecation.py:151: FutureWarning: 'force_all_finite' was renamed to 'ensure_all_finite' in 1.6 and will be removed in 1.8.\n",
      "  warnings.warn(\n"
     ]
    }
   ],
   "source": [
    "# Projecting data onto the off-the-shelf pre-trained embedding space from ViT\n",
    "from tqdm import tqdm\n",
    "import numpy as np\n",
    "from torch.utils.data import DataLoader\n",
    "from transformers import ViTImageProcessor, ViTModel\n",
    "from training_utils import get_vit_embeddings, data_projections\n",
    "\n",
    "# Loading model\n",
    "model = ViTModel.from_pretrained('google/vit-base-patch16-224-in21k')\n",
    "model.to(device)\n",
    "\n",
    "# Getting data\n",
    "dataloader = DataLoader(dataset, batch_size=512, shuffle=True, num_workers=0, pin_memory=True)\n",
    "\n",
    "# Computing image embeddings\n",
    "image_embeddings, _ = get_vit_embeddings(model, dataloader, device)\n",
    "image_embeddings = np.concatenate(image_embeddings, axis=0)\n",
    "\n",
    "# Computing data projection\n",
    "vanilla_vit_trimap, vanilla_vit_tsne, vanilla_vit_umap = data_projections(image_embeddings)"
   ]
  },
  {
   "cell_type": "code",
   "execution_count": 6,
   "id": "4e4ef9ea-b565-4e07-b343-c0a32c8709a6",
   "metadata": {},
   "outputs": [],
   "source": [
    "from training_utils import clean_mem\n",
    "\n",
    "# Cleaning up memory\n",
    "clean_mem([model, image_embeddings])"
   ]
  },
  {
   "cell_type": "markdown",
   "id": "3f18e80f-1305-4675-8f89-e70f6ee00187",
   "metadata": {},
   "source": [
    "### Fine-tuning Embedding Space"
   ]
  },
  {
   "cell_type": "code",
   "execution_count": 7,
   "id": "397cc9e7-c214-4327-bc09-827d8b0413c2",
   "metadata": {},
   "outputs": [],
   "source": [
    "# Creating our own ViT classifier head for fine-tuning\n",
    "import torch.nn as nn\n",
    "\n",
    "class ViTClassifier(nn.Module):\n",
    "    def __init__(self, num_classes):\n",
    "        super(ViTClassifier, self).__init__()\n",
    "        self.vit = ViTModel.from_pretrained('google/vit-base-patch16-224-in21k')\n",
    "        self.classifier = nn.Linear(self.vit.config.hidden_size, num_classes)\n",
    "\n",
    "    def forward(self, x):\n",
    "        outputs = self.vit(x)\n",
    "        \n",
    "        # Do I get the last_hidden_state of CLS token or the pooler_output?\n",
    "        embeddings = outputs['last_hidden_state'][:, 0, :]\n",
    "        # embeddings = outputs['pooler_output']\n",
    "\n",
    "        logits = self.classifier(embeddings)\n",
    "        return logits"
   ]
  },
  {
   "cell_type": "markdown",
   "id": "a0093a1e-f85f-48b9-b75e-391fb8cd390b",
   "metadata": {},
   "source": [
    "#### *povo* Column"
   ]
  },
  {
   "cell_type": "code",
   "execution_count": 8,
   "id": "9f1eed02-7da5-4671-8136-390d5530246d",
   "metadata": {},
   "outputs": [
    {
     "name": "stdout",
     "output_type": "stream",
     "text": [
      "Quantile X Data Percentage:\n",
      "Q-10: 1.00, 99.84% of data\n",
      "Q-25: 4.00, 99.18% of data\n",
      "Q-50: 19.00, 95.96% of data\n",
      "Q-75: 65.75, 83.18% of data\n",
      "Q-90: 158.20, 63.25% of data\n",
      "\n"
     ]
    }
   ],
   "source": [
    "# Studying data distribution to filter out rare classes\n",
    "from training_utils import study_class_distribution\n",
    "\n",
    "categories, categories_keys, categories_freq, qs, masks = study_class_distribution(labels)\n",
    "\n",
    "# Filtering classes so that we retain around 85% of data\n",
    "filtered_categories = {}\n",
    "filtered_categories_names = {}\n",
    "for c in masks[3][0]:\n",
    "    filtered_categories[categories_keys[c]] = categories[categories_keys[c]]\n",
    "    filtered_categories_names[num_to_name[categories_keys[c]]] = categories[categories_keys[c]]"
   ]
  },
  {
   "cell_type": "code",
   "execution_count": 9,
   "id": "fd6a5e63-5680-4a09-a96e-c6fbb91b28b1",
   "metadata": {},
   "outputs": [],
   "source": [
    "# Filtering dataframe for selected categories\n",
    "from training_utils import filter_image_data_distribution\n",
    "\n",
    "threshold_multiplier = 2\n",
    "minority_classes, majority_classes, labels_minority, labels_majority, \\\n",
    "augmented_dataset = filter_image_data_distribution(ind_df, filtered_categories_names, \\\n",
    "                                                   transform, threshold_multiplier, 'povo')"
   ]
  },
  {
   "cell_type": "code",
   "execution_count": 10,
   "id": "fa94d49e-e893-4a83-8917-b34f6a83031e",
   "metadata": {},
   "outputs": [
    {
     "data": {
      "image/png": "[encoded data removed]",
      "text/plain": [
       "<Figure size 1000x400 with 2 Axes>"
      ]
     },
     "metadata": {},
     "output_type": "display_data"
    }
   ],
   "source": [
    "# Plotting old and new class distributions\n",
    "from training_utils import plot_class_distributions\n",
    "\n",
    "plot_class_distributions(categories, filtered_categories, labels_minority, labels_majority, \\\n",
    "                         threshold_multiplier, 'povo')"
   ]
  },
  {
   "cell_type": "code",
   "execution_count": 11,
   "id": "be368210-2317-4991-aac4-12dc1fd6e9dc",
   "metadata": {},
   "outputs": [],
   "source": [
    "# Because the dataset is still unbalanced, we also create class weights for the loss function\n",
    "from training_utils import compute_class_weights\n",
    "\n",
    "class_weights = compute_class_weights(filtered_categories, labels_minority, labels_majority, \\\n",
    "                                      device, threshold_multiplier)"
   ]
  },
  {
   "cell_type": "code",
   "execution_count": 12,
   "id": "08fe3bdc-df2c-40ed-b0c7-a2ac7989e256",
   "metadata": {
    "scrolled": true
   },
   "outputs": [
    {
     "name": "stderr",
     "output_type": "stream",
     "text": [
      "Training model:   3%|▎       | 1/30 [04:05<1:58:47, 245.77s/it]"
     ]
    },
    {
     "name": "stdout",
     "output_type": "stream",
     "text": [
      "Best model saved at epoch 1\n",
      "Epoch 1, Loss: 1035.6897, Validation Accuracy: 0.3477\n"
     ]
    },
    {
     "name": "stderr",
     "output_type": "stream",
     "text": [
      "Training model:   7%|▌       | 2/30 [08:12<1:55:02, 246.51s/it]"
     ]
    },
    {
     "name": "stdout",
     "output_type": "stream",
     "text": [
      "Best model saved at epoch 2\n",
      "Epoch 2, Loss: 770.8634, Validation Accuracy: 0.4323\n"
     ]
    },
    {
     "name": "stderr",
     "output_type": "stream",
     "text": [
      "Training model:  10%|▊       | 3/30 [12:19<1:50:55, 246.49s/it]"
     ]
    },
    {
     "name": "stdout",
     "output_type": "stream",
     "text": [
      "Best model saved at epoch 3\n",
      "Epoch 3, Loss: 599.8006, Validation Accuracy: 0.5092\n"
     ]
    },
    {
     "name": "stderr",
     "output_type": "stream",
     "text": [
      "Training model:  13%|█       | 4/30 [16:22<1:46:13, 245.14s/it]"
     ]
    },
    {
     "name": "stdout",
     "output_type": "stream",
     "text": [
      "Best model saved at epoch 4\n",
      "Epoch 4, Loss: 456.0876, Validation Accuracy: 0.5618\n"
     ]
    },
    {
     "name": "stderr",
     "output_type": "stream",
     "text": [
      "Training model:  17%|█▎      | 5/30 [20:26<1:41:55, 244.61s/it]"
     ]
    },
    {
     "name": "stdout",
     "output_type": "stream",
     "text": [
      "Best model saved at epoch 5\n",
      "Epoch 5, Loss: 334.0623, Validation Accuracy: 0.6056\n"
     ]
    },
    {
     "name": "stderr",
     "output_type": "stream",
     "text": [
      "Training model:  20%|█▌      | 6/30 [24:26<1:37:16, 243.19s/it]"
     ]
    },
    {
     "name": "stdout",
     "output_type": "stream",
     "text": [
      "Best model saved at epoch 6\n",
      "Epoch 6, Loss: 227.3082, Validation Accuracy: 0.6357\n"
     ]
    },
    {
     "name": "stderr",
     "output_type": "stream",
     "text": [
      "Training model:  23%|█▊      | 7/30 [28:16<1:31:34, 238.90s/it]"
     ]
    },
    {
     "name": "stdout",
     "output_type": "stream",
     "text": [
      "Best model saved at epoch 7\n",
      "Epoch 7, Loss: 149.6042, Validation Accuracy: 0.6505\n"
     ]
    },
    {
     "name": "stderr",
     "output_type": "stream",
     "text": [
      "Training model:  27%|██▏     | 8/30 [32:05<1:26:24, 235.67s/it]"
     ]
    },
    {
     "name": "stdout",
     "output_type": "stream",
     "text": [
      "Best model saved at epoch 8\n",
      "Epoch 8, Loss: 99.0797, Validation Accuracy: 0.6529\n"
     ]
    },
    {
     "name": "stderr",
     "output_type": "stream",
     "text": [
      "Training model:  30%|██▍     | 9/30 [35:53<1:21:39, 233.31s/it]"
     ]
    },
    {
     "name": "stdout",
     "output_type": "stream",
     "text": [
      "Epoch 9, Loss: 74.3908, Validation Accuracy: 0.6481\n"
     ]
    },
    {
     "name": "stderr",
     "output_type": "stream",
     "text": [
      "Training model:  33%|██▎    | 10/30 [39:47<1:17:51, 233.58s/it]"
     ]
    },
    {
     "name": "stdout",
     "output_type": "stream",
     "text": [
      "Best model saved at epoch 10\n",
      "Epoch 10, Loss: 60.5553, Validation Accuracy: 0.6606\n"
     ]
    },
    {
     "name": "stderr",
     "output_type": "stream",
     "text": [
      "Training model:  37%|██▌    | 11/30 [43:46<1:14:31, 235.36s/it]"
     ]
    },
    {
     "name": "stdout",
     "output_type": "stream",
     "text": [
      "Epoch 11, Loss: 42.1373, Validation Accuracy: 0.6576\n"
     ]
    },
    {
     "name": "stderr",
     "output_type": "stream",
     "text": [
      "Training model:  40%|██▊    | 12/30 [47:46<1:10:57, 236.54s/it]"
     ]
    },
    {
     "name": "stdout",
     "output_type": "stream",
     "text": [
      "Epoch 12, Loss: 31.9929, Validation Accuracy: 0.6499\n"
     ]
    },
    {
     "name": "stderr",
     "output_type": "stream",
     "text": [
      "Training model:  43%|███    | 13/30 [51:43<1:07:05, 236.82s/it]"
     ]
    },
    {
     "name": "stdout",
     "output_type": "stream",
     "text": [
      "Epoch 13, Loss: 30.5088, Validation Accuracy: 0.6570\n"
     ]
    },
    {
     "name": "stderr",
     "output_type": "stream",
     "text": [
      "Training model:  47%|███▎   | 14/30 [55:45<1:03:31, 238.21s/it]"
     ]
    },
    {
     "name": "stdout",
     "output_type": "stream",
     "text": [
      "Best model saved at epoch 14\n",
      "Epoch 14, Loss: 16.0892, Validation Accuracy: 0.6688\n"
     ]
    },
    {
     "name": "stderr",
     "output_type": "stream",
     "text": [
      "Training model:  50%|████▌    | 15/30 [59:47<59:52, 239.47s/it]"
     ]
    },
    {
     "name": "stdout",
     "output_type": "stream",
     "text": [
      "Best model saved at epoch 15\n",
      "Epoch 15, Loss: 10.3293, Validation Accuracy: 0.6706\n"
     ]
    },
    {
     "name": "stderr",
     "output_type": "stream",
     "text": [
      "Training model:  53%|███▋   | 16/30 [1:03:49<56:05, 240.36s/it]"
     ]
    },
    {
     "name": "stdout",
     "output_type": "stream",
     "text": [
      "Epoch 16, Loss: 7.5967, Validation Accuracy: 0.6700\n"
     ]
    },
    {
     "name": "stderr",
     "output_type": "stream",
     "text": [
      "Training model:  57%|███▉   | 17/30 [1:07:47<51:54, 239.60s/it]"
     ]
    },
    {
     "name": "stdout",
     "output_type": "stream",
     "text": [
      "Epoch 17, Loss: 5.9722, Validation Accuracy: 0.6700\n"
     ]
    },
    {
     "name": "stderr",
     "output_type": "stream",
     "text": [
      "Training model:  60%|████▏  | 18/30 [1:11:43<47:40, 238.37s/it]"
     ]
    },
    {
     "name": "stdout",
     "output_type": "stream",
     "text": [
      "Epoch 18, Loss: 4.8871, Validation Accuracy: 0.6688\n"
     ]
    },
    {
     "name": "stderr",
     "output_type": "stream",
     "text": [
      "Training model:  63%|████▍  | 19/30 [1:15:40<43:39, 238.17s/it]"
     ]
    },
    {
     "name": "stdout",
     "output_type": "stream",
     "text": [
      "Epoch 19, Loss: 4.0923, Validation Accuracy: 0.6706\n"
     ]
    },
    {
     "name": "stderr",
     "output_type": "stream",
     "text": [
      "Training model:  67%|████▋  | 20/30 [1:19:37<39:35, 237.59s/it]"
     ]
    },
    {
     "name": "stdout",
     "output_type": "stream",
     "text": [
      "Best model saved at epoch 20\n",
      "Epoch 20, Loss: 3.3501, Validation Accuracy: 0.6718\n"
     ]
    },
    {
     "name": "stderr",
     "output_type": "stream",
     "text": [
      "Training model:  70%|████▉  | 21/30 [1:23:30<35:25, 236.21s/it]"
     ]
    },
    {
     "name": "stdout",
     "output_type": "stream",
     "text": [
      "Best model saved at epoch 21\n",
      "Epoch 21, Loss: 2.7755, Validation Accuracy: 0.6765\n"
     ]
    },
    {
     "name": "stderr",
     "output_type": "stream",
     "text": [
      "Training model:  73%|█████▏ | 22/30 [1:27:22<31:20, 235.12s/it]"
     ]
    },
    {
     "name": "stdout",
     "output_type": "stream",
     "text": [
      "Epoch 22, Loss: 2.3444, Validation Accuracy: 0.6742\n"
     ]
    },
    {
     "name": "stderr",
     "output_type": "stream",
     "text": [
      "Training model:  77%|█████▎ | 23/30 [1:31:15<27:20, 234.29s/it]"
     ]
    },
    {
     "name": "stdout",
     "output_type": "stream",
     "text": [
      "Epoch 23, Loss: 1.9682, Validation Accuracy: 0.6742\n"
     ]
    },
    {
     "name": "stderr",
     "output_type": "stream",
     "text": [
      "Training model:  80%|█████▌ | 24/30 [1:35:08<23:23, 233.89s/it]"
     ]
    },
    {
     "name": "stdout",
     "output_type": "stream",
     "text": [
      "Best model saved at epoch 24\n",
      "Epoch 24, Loss: 1.7017, Validation Accuracy: 0.6783\n"
     ]
    },
    {
     "name": "stderr",
     "output_type": "stream",
     "text": [
      "Training model:  83%|█████▊ | 25/30 [1:39:00<19:26, 233.37s/it]"
     ]
    },
    {
     "name": "stdout",
     "output_type": "stream",
     "text": [
      "Epoch 25, Loss: 1.4816, Validation Accuracy: 0.6653\n"
     ]
    },
    {
     "name": "stderr",
     "output_type": "stream",
     "text": [
      "Training model:  87%|██████ | 26/30 [1:42:52<15:31, 232.93s/it]"
     ]
    },
    {
     "name": "stdout",
     "output_type": "stream",
     "text": [
      "Epoch 26, Loss: 1.2482, Validation Accuracy: 0.6730\n"
     ]
    },
    {
     "name": "stderr",
     "output_type": "stream",
     "text": [
      "Training model:  90%|██████▎| 27/30 [1:46:47<11:41, 233.81s/it]"
     ]
    },
    {
     "name": "stdout",
     "output_type": "stream",
     "text": [
      "Epoch 27, Loss: 1.0887, Validation Accuracy: 0.6765\n"
     ]
    },
    {
     "name": "stderr",
     "output_type": "stream",
     "text": [
      "Training model:  93%|██████▌| 28/30 [1:50:45<07:50, 235.03s/it]"
     ]
    },
    {
     "name": "stdout",
     "output_type": "stream",
     "text": [
      "Epoch 28, Loss: 1.0062, Validation Accuracy: 0.6777\n"
     ]
    },
    {
     "name": "stderr",
     "output_type": "stream",
     "text": [
      "Training model:  97%|██████▊| 29/30 [1:54:44<03:56, 236.00s/it]"
     ]
    },
    {
     "name": "stdout",
     "output_type": "stream",
     "text": [
      "Epoch 29, Loss: 0.9176, Validation Accuracy: 0.6700\n"
     ]
    },
    {
     "name": "stderr",
     "output_type": "stream",
     "text": [
      "Training model: 100%|███████| 30/30 [1:58:42<00:00, 237.43s/it]\n"
     ]
    },
    {
     "name": "stdout",
     "output_type": "stream",
     "text": [
      "Epoch 30, Loss: 0.8814, Validation Accuracy: 0.6730\n"
     ]
    },
    {
     "data": {
      "image/png": "[encoded data removed]",
      "text/plain": [
       "<Figure size 800x400 with 2 Axes>"
      ]
     },
     "metadata": {},
     "output_type": "display_data"
    },
    {
     "name": "stdout",
     "output_type": "stream",
     "text": [
      "Per class precision: [0.720703125, 0.39990234375, 0.333251953125, 0.53857421875, 0.63623046875, 0.47607421875, 0.94140625, 0.466552734375, 0.85693359375, 0.85693359375, 0.53125, 0.9091796875, 0.0, 0.2142333984375, 0.0, 0.0, 0.7578125, 0.428466796875, 0.80908203125, 0.46142578125, 0.0, 0.60009765625, 0.68017578125, 0.9443359375, 0.7998046875, 0.10528564453125, 0.7998046875, 0.6875, 0.66650390625, 0.7001953125, 0.5, 0.0, 0.5, 0.5712890625, 1.0, 0.75, 0.83349609375, 0.0, 0.0, 0.0, 0.4443359375, 0.60009765625, 0.1666259765625, 0.83349609375, 1.0, 0.71044921875, 0.7392578125, 1.0, 0.0, 0.0, 0.375, 0.888671875, 0.39990234375, 0.5, 1.0, 0.7744140625, 0.39990234375, 0.56103515625, 0.5, 0.0, 0.5, 0.5, 0.162841796875, 0.0, 0.0, 0.333251953125, 0.54150390625, 0.75, 0.0, 0.0, 0.0, 0.625, 0.0, 0.5, 0.70947265625, 0.673828125, 0.0, 0.7998046875, 0.0, 0.54541015625, 0.0, 1.0, 0.0, 0.85693359375, 0.0, 0.5, 0.333251953125, 1.0, 0.5556640625, 0.0, 0.0, 0.0, 0.66650390625, 0.0, 0.0, 1.0, 1.0, 0.333251953125, 0.0, 0.0, 0.0, 0.0, 0.0, 0.75, 0.0, 0.60009765625, 1.0, 0.0, 0.0, 0.0, 0.5, 0.0, 0.0, 0.0, 0.0, 0.0, 0.5, 1.0, 1.0, 0.0, 0.0, 0.0, 0.0, 0.75, 1.0, 0.0, 0.0, 0.0, 0.0, 0.0, 0.0, 0.0, 0.0, 0.0, 0.0, 0.0, 0.0, 0.0, 0.0, 0.0, 0.0, 0.0, 0.0, 0.0, 0.0, 0.0, 0.0, 0.0, 0.0, 0.0, 0.0, 0.0, 0.0, 1.0, 0.0, 0.0, 0.0, 0.0, 0.0, 0.0, 0.0, 0.0, 0.0, 0.0, 0.0, 0.0, 0.0, 0.0, 0.0, 0.0, 0.0, 0.0, 0.0, 0.0, 0.0, 0.0, 0.0, 0.0, 0.0, 0.0, 0.0, 0.0, 0.0, 0.0, 0.0, 0.0, 0.0]\n",
      "\n",
      "Per class recall: [0.7880859375, 0.5, 0.47216796875, 0.68310546875, 0.66650390625, 0.66650390625, 0.888671875, 0.466552734375, 0.75, 0.8603515625, 0.70849609375, 0.76904296875, 0.0, 0.272705078125, 0.0, 0.0, 0.78125, 0.428466796875, 0.8271484375, 0.60009765625, 0.0, 0.428466796875, 0.7392578125, 0.9443359375, 0.4443359375, 0.1666259765625, 0.72705078125, 0.7333984375, 0.28564453125, 0.53857421875, 0.375, 0.0, 0.5, 0.333251953125, 0.25, 0.5, 0.88232421875, 0.0, 0.0, 0.0, 0.363525390625, 0.428466796875, 0.125, 0.83349609375, 0.333251953125, 0.7294921875, 0.796875, 0.71435546875, 0.0, 0.0, 0.5, 0.72705078125, 0.3076171875, 0.357177734375, 0.333251953125, 0.63134765625, 0.5, 0.71875, 0.333251953125, 0.0, 0.5, 0.25, 0.35009765625, 0.0, 0.0, 0.199951171875, 0.4814453125, 0.66650390625, 0.0, 0.0, 0.0, 0.76904296875, 0.0, 0.5, 0.6875, 0.794921875, 0.0, 0.7998046875, 0.0, 0.54541015625, 0.0, 0.5, 0.0, 0.75, 0.0, 0.5, 0.39990234375, 1.0, 0.5, 0.0, 0.0, 0.0, 1.0, 0.0, 0.0, 0.5, 0.66650390625, 0.1666259765625, 0.0, 0.0, 0.0, 0.0, 0.0, 0.428466796875, 0.0, 0.428466796875, 0.5, 0.0, 0.0, 0.0, 0.5, 0.0, 0.0, 0.0, 0.0, 0.0, 0.333251953125, 1.0, 0.5, 0.0, 0.0, 0.0, 0.0, 1.0, 0.888671875, 0.0, 0.0, 0.0, 0.0, 0.0, 0.0, 0.0, 0.0, 0.0, 0.0, 0.0, 0.0, 0.0, 0.0, 0.0, 0.0, 0.0, 0.0, 0.0, 0.0, 0.0, 0.0, 0.0, 0.0, 0.0, 0.0, 0.0, 0.0, 0.7998046875, 0.0, 0.0, 0.0, 0.0, 0.0, 0.0, 0.0, 0.0, 0.0, 0.0, 0.0, 0.0, 0.0, 0.0, 0.0, 0.0, 0.0, 0.0, 0.0, 0.0, 0.0, 0.0, 0.0, 0.0, 0.0, 0.0, 0.0, 0.0, 0.0, 0.0, 0.0, 0.0, 0.0]\n",
      "\n"
     ]
    },
    {
     "name": "stderr",
     "output_type": "stream",
     "text": [
      "/home/lui/Documents/uva/thesis/indigenous_project/tainacan_collection/training_utils.py:394: FutureWarning: You are using `torch.load` with `weights_only=False` (the current default value), which uses the default pickle module implicitly. It is possible to construct malicious pickle data which will execute arbitrary code during unpickling (See https://github.com/pytorch/pytorch/blob/main/SECURITY.md#untrusted-models for more details). In a future release, the default value for `weights_only` will be flipped to `True`. This limits the functions that could be executed during unpickling. Arbitrary objects will no longer be allowed to be loaded via this mode unless they are explicitly allowlisted by the user via `torch.serialization.add_safe_globals`. We recommend you start setting `weights_only=True` for any use case where you don't have full control of the loaded file. Please open an issue on GitHub for any issues related to this experimental feature.\n",
      "  checkpoint = torch.load('data/models_weights/' + model_name + '.pth', map_location=device)\n"
     ]
    },
    {
     "name": "stdout",
     "output_type": "stream",
     "text": [
      "Test accuracy: 0.686170220375061\n",
      "\n",
      "Test per class precisions: [0.8734177350997925, 0.23076923191547394, 0.2666666805744171, 0.5945945978164673, 0.1666666716337204, 0.4285714328289032, 0.9655172228813171, 1.0, 1.0, 0.9182389974594116, 0.5263158082962036, 0.5714285969734192, 1.0, 0.2142857164144516, 0.0, 0.0, 0.8421052694320679, 0.6666666865348816, 0.7071823477745056, 0.3333333432674408, 0.0, 1.0, 0.875, 0.800000011920929, 0.75, 0.1764705926179886, 1.0, 0.47058823704719543, 0.0, 0.75, 1.0, 0.0, 0.0, 0.5, 0.0, 0.75, 0.7777777910232544, 0.0, 1.0, 0.0, 0.75, 0.75, 0.25, 0.5, 0.0, 0.7692307829856873, 0.9024389982223511, 0.8999999761581421, 0.0, 0.0, 1.0, 0.800000011920929, 0.5, 0.2857142984867096, 0.0, 0.7142857313156128, 1.0, 0.48571428656578064, 0.0, 0.0, 0.6666666865348816, 0.0, 0.3333333432674408, 1.0, 0.0, 0.75, 0.6111111044883728, 0.5714285969734192, 0.0, 0.0, 0.75, 0.375, 0.0, 0.3333333432674408, 0.5625, 0.6571428775787354, 0.0, 1.0, 0.0, 0.380952388048172, 0.0, 1.0, 0.0, 0.0, 0.0, 1.0, 0.5, 0.0, 0.7083333134651184, 0.0, 1.0, 0.0, 1.0, 0.0, 0.0, 1.0, 1.0, 0.5, 0.0, 0.0, 0.0, 0.0, 1.0, 1.0, 0.0, 1.0, 1.0, 0.0, 0.0, 0.0, 0.0, 0.0, 0.0, 0.0, 0.0, 0.0, 0.0, 0.0, 1.0, 0.0, 0.0, 0.0, 0.0, 0.0, 1.0, 0.5, 0.0, 0.0, 0.0, 0.0, 0.0, 0.0, 0.0, 0.0, 0.0, 0.0, 0.0, 0.0, 0.0, 0.0, 0.0, 0.0, 0.0, 0.0, 0.0, 0.0, 0.0, 0.0, 0.0, 0.0, 0.0, 1.0, 0.0, 0.0, 0.0, 0.0, 0.0, 0.0, 0.0, 0.0, 0.0, 0.0, 0.0, 0.0, 0.0, 0.0, 0.0, 0.0, 0.0, 0.0, 0.0, 0.0, 0.0, 0.0, 0.0, 0.0, 0.0, 0.0, 0.0, 0.0, 0.0, 0.0, 0.0, 0.0, 0.0, 0.0, 0.0]\n",
      "\n",
      "Test per class recalls: [0.7931034564971924, 0.375, 0.5333333611488342, 0.6875, 0.4000000059604645, 0.375, 1.0, 0.4615384638309479, 0.3333333432674408, 0.8848484754562378, 0.5555555820465088, 0.4444444477558136, 0.6000000238418579, 0.30000001192092896, 0.0, 0.0, 0.800000011920929, 0.5, 0.8767123222351074, 0.5555555820465088, 0.0, 0.7142857313156128, 0.699999988079071, 0.7272727489471436, 0.6000000238418579, 0.375, 1.0, 0.7272727489471436, 0.0, 0.6666666865348816, 0.1428571492433548, 0.0, 0.0, 0.5, 0.0, 0.6666666865348816, 0.7777777910232544, 0.0, 0.25, 0.0, 0.4285714328289032, 0.30000001192092896, 0.2857142984867096, 0.75, 0.0, 0.7407407164573669, 0.7400000095367432, 1.0, 0.0, 0.0, 0.1666666716337204, 1.0, 0.1428571492433548, 0.4000000059604645, 0.0, 0.6521739363670349, 0.800000011920929, 0.8095238208770752, 0.0, 0.0, 0.4000000059604645, 0.0, 0.2857142984867096, 1.0, 0.0, 0.5, 0.42307692766189575, 0.800000011920929, 0.0, 0.0, 0.6000000238418579, 0.5, 0.0, 0.3333333432674408, 0.692307710647583, 0.8518518805503845, 0.0, 0.800000011920929, 0.0, 0.42105263471603394, 0.0, 1.0, 0.0, 0.0, 0.0, 1.0, 1.0, 0.0, 0.9444444179534912, 0.0, 1.0, 0.0, 0.5, 0.0, 0.0, 1.0, 1.0, 0.1428571492433548, 0.0, 0.0, 0.0, 0.0, 0.3333333432674408, 0.25, 0.0, 0.6666666865348816, 1.0, 0.0, 0.0, 0.0, 0.0, 0.0, 0.0, 0.0, 0.0, 0.0, 0.0, 0.0, 1.0, 0.0, 0.0, 0.0, 0.0, 0.0, 0.8571428656578064, 1.0, 0.0, 0.0, 0.0, 0.0, 0.0, 0.0, 0.0, 0.0, 0.0, 0.0, 0.0, 0.0, 0.0, 0.0, 0.0, 0.0, 0.0, 0.0, 0.0, 0.0, 0.0, 0.0, 0.0, 0.0, 0.0, 1.0, 0.0, 0.0, 0.0, 0.0, 0.0, 0.0, 0.0, 0.0, 0.0, 0.0, 0.0, 0.0, 0.0, 0.0, 0.0, 0.0, 0.0, 0.0, 0.0, 0.0, 0.0, 0.0, 0.0, 0.0, 0.0, 0.0, 0.0, 0.0, 0.0, 0.0, 0.0, 0.0, 0.0, 0.0, 0.0]\n",
      "\n"
     ]
    }
   ],
   "source": [
    "# import training_utils\n",
    "# importlib.reload(training_utils)\n",
    "from training_utils import execute_train_test\n",
    "import torch.nn as nn\n",
    "import torch.optim as optim\n",
    "\n",
    "# Setting-up training, executing training and then running tests\n",
    "batch_size = 32\n",
    "epochs = 30\n",
    "num_classes = ind_df['povo'].nunique()\n",
    "model = ViTClassifier(num_classes).to(device)\n",
    "criterion = nn.CrossEntropyLoss()\n",
    "opt = optim.Adam(model.parameters(), lr=5e-5, weight_decay=1e-5)\n",
    "model_name = 'vit_povo'\n",
    "column_name = 'povo'\n",
    "\n",
    "execute_train_test(dataset, device, batch_size, epochs, num_classes, model, criterion, opt, \\\n",
    "                   model_name, column_name)"
   ]
  },
  {
   "cell_type": "code",
   "execution_count": 13,
   "id": "15cadd8d-96a2-4f7a-aa6f-6164a8787dcb",
   "metadata": {},
   "outputs": [],
   "source": [
    "# Cleaning up memory\n",
    "clean_mem([model, image_embeddings])"
   ]
  },
  {
   "cell_type": "code",
   "execution_count": 14,
   "id": "0871d528-56a5-4773-8e47-92426a19c1cb",
   "metadata": {
    "scrolled": true
   },
   "outputs": [
    {
     "name": "stderr",
     "output_type": "stream",
     "text": [
      "Training model:   3%|▎       | 1/30 [07:15<3:30:34, 435.67s/it]"
     ]
    },
    {
     "name": "stdout",
     "output_type": "stream",
     "text": [
      "Best model saved at epoch 1\n",
      "Epoch 1, Loss: 1162.4972, Validation Accuracy: 0.5573\n"
     ]
    },
    {
     "name": "stderr",
     "output_type": "stream",
     "text": [
      "Training model:   7%|▌       | 2/30 [14:31<3:23:23, 435.86s/it]"
     ]
    },
    {
     "name": "stdout",
     "output_type": "stream",
     "text": [
      "Best model saved at epoch 2\n",
      "Epoch 2, Loss: 622.3442, Validation Accuracy: 0.7973\n"
     ]
    },
    {
     "name": "stderr",
     "output_type": "stream",
     "text": [
      "Training model:  10%|▊       | 3/30 [21:47<3:16:08, 435.86s/it]"
     ]
    },
    {
     "name": "stdout",
     "output_type": "stream",
     "text": [
      "Best model saved at epoch 3\n",
      "Epoch 3, Loss: 221.4282, Validation Accuracy: 0.9020\n"
     ]
    },
    {
     "name": "stderr",
     "output_type": "stream",
     "text": [
      "Training model:  13%|█       | 4/30 [28:55<3:07:34, 432.85s/it]"
     ]
    },
    {
     "name": "stdout",
     "output_type": "stream",
     "text": [
      "Best model saved at epoch 4\n",
      "Epoch 4, Loss: 69.7850, Validation Accuracy: 0.9484\n"
     ]
    },
    {
     "name": "stderr",
     "output_type": "stream",
     "text": [
      "Training model:  17%|█▎      | 5/30 [36:05<2:59:53, 431.76s/it]"
     ]
    },
    {
     "name": "stdout",
     "output_type": "stream",
     "text": [
      "Epoch 5, Loss: 34.2593, Validation Accuracy: 0.9421\n"
     ]
    },
    {
     "name": "stderr",
     "output_type": "stream",
     "text": [
      "Training model:  20%|█▌      | 6/30 [43:09<2:51:37, 429.07s/it]"
     ]
    },
    {
     "name": "stdout",
     "output_type": "stream",
     "text": [
      "Best model saved at epoch 6\n",
      "Epoch 6, Loss: 25.1524, Validation Accuracy: 0.9663\n"
     ]
    },
    {
     "name": "stderr",
     "output_type": "stream",
     "text": [
      "Training model:  23%|█▊      | 7/30 [50:19<2:44:35, 429.39s/it]"
     ]
    },
    {
     "name": "stdout",
     "output_type": "stream",
     "text": [
      "Epoch 7, Loss: 13.1737, Validation Accuracy: 0.9599\n"
     ]
    },
    {
     "name": "stderr",
     "output_type": "stream",
     "text": [
      "Training model:  27%|██▏     | 8/30 [57:27<2:37:18, 429.03s/it]"
     ]
    },
    {
     "name": "stdout",
     "output_type": "stream",
     "text": [
      "Epoch 8, Loss: 15.3804, Validation Accuracy: 0.9207\n"
     ]
    },
    {
     "name": "stderr",
     "output_type": "stream",
     "text": [
      "Training model:  30%|█▊    | 9/30 [1:04:24<2:28:51, 425.31s/it]"
     ]
    },
    {
     "name": "stdout",
     "output_type": "stream",
     "text": [
      "Epoch 9, Loss: 23.4324, Validation Accuracy: 0.9421\n"
     ]
    },
    {
     "name": "stderr",
     "output_type": "stream",
     "text": [
      "Training model:  30%|█▊    | 9/30 [1:11:12<2:46:09, 474.75s/it]\n"
     ]
    },
    {
     "name": "stdout",
     "output_type": "stream",
     "text": [
      "Early-stopping training!\n"
     ]
    },
    {
     "data": {
      "image/png": "[encoded data removed]",
      "text/plain": [
       "<Figure size 800x400 with 2 Axes>"
      ]
     },
     "metadata": {},
     "output_type": "display_data"
    },
    {
     "name": "stdout",
     "output_type": "stream",
     "text": [
      "Per class precision: [0.94580078125, 0.94580078125, 0.9091796875, 0.95751953125, 1.0, 0.810546875, 0.91455078125, 0.8271484375, 0.94580078125, 0.96240234375, 0.953125, 0.9638671875, 0.94140625, 0.96142578125, 0.98193359375, 0.8974609375, 0.83349609375, 0.9609375, 0.96533203125, 0.96826171875, 0.888671875, 0.958984375, 1.0, 0.95849609375, 1.0, 1.0, 0.94140625, 0.9033203125, 1.0, 0.7607421875, 0.97412109375, 1.0, 1.0, 0.92236328125, 0.88671875, 0.9912109375, 0.91259765625, 0.93115234375, 0.96875]\n",
      "\n",
      "Per class recall: [0.97216796875, 0.8642578125, 0.96142578125, 0.95751953125, 1.0, 0.90380859375, 0.98681640625, 1.0, 0.94580078125, 1.0, 0.96826171875, 0.9638671875, 0.94140625, 0.96142578125, 0.96484375, 0.94580078125, 0.9091796875, 0.97998046875, 0.91796875, 1.0, 1.0, 0.9208984375, 0.755859375, 0.8681640625, 1.0, 0.990234375, 1.0, 0.96533203125, 1.0, 0.96435546875, 1.0, 1.0, 0.9228515625, 0.87939453125, 0.98828125, 0.94873046875, 0.87939453125, 0.84814453125, 0.939453125]\n",
      "\n",
      "Test accuracy: 0.9625223278999329\n",
      "\n",
      "Test per class precisions: [0.9333333373069763, 0.8846153616905212, 0.8484848737716675, 0.9629629850387573, 0.9710144996643066, 0.9444444179534912, 0.9677419066429138, 0.9090909361839294, 0.8857142925262451, 0.9701492786407471, 1.0, 1.0, 1.0, 0.9166666865348816, 0.9459459185600281, 1.0, 0.949999988079071, 0.9861111044883728, 1.0, 0.98591548204422, 1.0, 1.0, 0.9387755393981934, 1.0, 1.0, 1.0, 0.9142857193946838, 0.9722222089767456, 1.0, 1.0, 1.0, 1.0, 0.9436619877815247, 0.9740259647369385, 0.9272727370262146, 0.9420289993286133, 0.9354838728904724, 0.9848484992980957, 0.9538461565971375]\n",
      "\n",
      "Test per class recalls: [0.9333333373069763, 0.9200000166893005, 0.9333333373069763, 0.9629629850387573, 1.0, 0.9189189076423645, 1.0, 1.0, 0.96875, 0.9701492786407471, 0.95652174949646, 1.0, 0.9599999785423279, 1.0, 1.0, 0.949999988079071, 1.0, 0.9861111044883728, 1.0, 0.9722222089767456, 1.0, 0.9464285969734192, 0.9200000166893005, 0.9767441749572754, 1.0, 1.0, 1.0, 0.9210526347160339, 1.0, 0.9736841917037964, 1.0, 1.0, 0.9710144996643066, 0.9259259104728699, 0.9622641801834106, 0.9701492786407471, 0.9666666388511658, 0.9027777910232544, 0.8857142925262451]\n",
      "\n"
     ]
    },
    {
     "name": "stderr",
     "output_type": "stream",
     "text": [
      "Computing embeddings: 100%|███████| 23/23 [02:44<00:00,  7.14s/it]\n",
      "/home/lui/anaconda3/envs/ind_thesis/lib/python3.10/site-packages/sklearn/utils/deprecation.py:151: FutureWarning: 'force_all_finite' was renamed to 'ensure_all_finite' in 1.6 and will be removed in 1.8.\n",
      "  warnings.warn(\n"
     ]
    }
   ],
   "source": [
    "from training_utils import compute_classifier_embeddings\n",
    "\n",
    "# Retraining model with augmented dataset to see the difference in the results\n",
    "batch_size = 32\n",
    "epochs = 30\n",
    "num_classes = len(filtered_categories)\n",
    "model = ViTClassifier(num_classes).to(device)\n",
    "criterion = nn.CrossEntropyLoss(weight=class_weights)\n",
    "opt = optim.Adam(model.parameters(), lr=5e-5, weight_decay=1e-5)\n",
    "model_name = 'balanced_vit_povo'\n",
    "column_name = 'povo'\n",
    "\n",
    "execute_train_test(augmented_dataset, device, batch_size, epochs, num_classes, model, \\\n",
    "                   criterion, opt, model_name, column_name)\n",
    "\n",
    "povo_vit_trimap, povo_vit_tsne, \\\n",
    "povo_vit_umap, image_indices = compute_classifier_embeddings(dataloader, model, device)"
   ]
  },
  {
   "cell_type": "code",
   "execution_count": 15,
   "id": "799005dd-9445-498d-839e-b4ab7999f97b",
   "metadata": {},
   "outputs": [],
   "source": [
    "# Cleaning up memory\n",
    "clean_mem([model, image_embeddings])"
   ]
  },
  {
   "cell_type": "markdown",
   "id": "ef0a9205-5eaf-4bbe-ba8c-79f0d81653d8",
   "metadata": {},
   "source": [
    "#### *categoria* Column"
   ]
  },
  {
   "cell_type": "code",
   "execution_count": 16,
   "id": "04fade66-3cd8-4a50-a8f1-da9b84b1f780",
   "metadata": {},
   "outputs": [
    {
     "name": "stdout",
     "output_type": "stream",
     "text": [
      "Quantile X Data Percentage:\n",
      "Q-10: 216.60, 99.71% of data\n",
      "Q-25: 507.50, 93.33% of data\n",
      "Q-50: 1060.50, 79.68% of data\n",
      "Q-75: 1344.50, 58.09% of data\n",
      "Q-90: 2270.70, 26.50% of data\n",
      "\n"
     ]
    }
   ],
   "source": [
    "# Now rebalancing the 'categoria' column\n",
    "labels, name_to_num, num_to_name = preparing_image_labels(ind_df, 'categoria')\n",
    "dataset = ImageDataset(labels, transform=transform)\n",
    "dataloader = DataLoader(dataset, batch_size=512, shuffle=True, num_workers=0, pin_memory=True)\n",
    "\n",
    "categories, categories_keys, categories_freq, qs, masks = study_class_distribution(labels)\n",
    "\n",
    "# Filtering out 'etnobotânica' and 'armas'\n",
    "filter_out = [name_to_num['armas'], name_to_num['etnobotânica']]\n",
    "filtered_categories = {}\n",
    "filtered_categories_names = {}\n",
    "for c in set(name_to_num.values()) - set(filter_out):\n",
    "    filtered_categories[categories_keys[c]] = categories[categories_keys[c]]\n",
    "    filtered_categories_names[num_to_name[categories_keys[c]]] = categories[categories_keys[c]]"
   ]
  },
  {
   "cell_type": "code",
   "execution_count": 17,
   "id": "9493d23c-372a-4c29-a1b1-13bb41f7f1f9",
   "metadata": {},
   "outputs": [],
   "source": [
    "# Filtering dataframe for selected categories\n",
    "threshold_multiplier = 1.5\n",
    "minority_classes, majority_classes, labels_minority, labels_majority, \\\n",
    "augmented_dataset = filter_image_data_distribution(ind_df, filtered_categories_names, \\\n",
    "                                                   transform, threshold_multiplier, \\\n",
    "                                                   'categoria')"
   ]
  },
  {
   "cell_type": "code",
   "execution_count": 18,
   "id": "051ce382-430c-4026-8484-145c1da501d1",
   "metadata": {},
   "outputs": [
    {
     "data": {
      "image/png": "[encoded data removed]",
      "text/plain": [
       "<Figure size 1000x400 with 2 Axes>"
      ]
     },
     "metadata": {},
     "output_type": "display_data"
    }
   ],
   "source": [
    "# Plotting old and new class distributions\n",
    "from training_utils import plot_class_distributions\n",
    "\n",
    "plot_class_distributions(categories, filtered_categories, labels_minority, labels_majority, \\\n",
    "                         threshold_multiplier, 'categoria')"
   ]
  },
  {
   "cell_type": "code",
   "execution_count": 19,
   "id": "3f03e8aa-db16-4cfc-a7f3-3b0dc41f4186",
   "metadata": {},
   "outputs": [],
   "source": [
    "# Because the dataset is still unbalanced, we also create class weights for the loss function\n",
    "from training_utils import compute_class_weights\n",
    "\n",
    "class_weights = compute_class_weights(filtered_categories, labels_minority, labels_majority, \\\n",
    "                                      device, threshold_multiplier)"
   ]
  },
  {
   "cell_type": "code",
   "execution_count": null,
   "id": "b47f319d-f46f-4197-bc9b-7006224bac68",
   "metadata": {
    "scrolled": true
   },
   "outputs": [
    {
     "name": "stderr",
     "output_type": "stream",
     "text": [
      "Training model:   3%|▎          | 1/30 [03:51<1:51:40, 231.06s/it]"
     ]
    },
    {
     "name": "stdout",
     "output_type": "stream",
     "text": [
      "Best model saved at epoch 1\n",
      "Epoch 1, Loss: 381.2599, Validation Accuracy: 0.7221\n"
     ]
    }
   ],
   "source": [
    "# Setting-up training, executing training and then running tests\n",
    "batch_size = 32\n",
    "epochs = 30\n",
    "num_classes = ind_df['categoria'].nunique()\n",
    "model = ViTClassifier(num_classes).to(device)\n",
    "criterion = nn.CrossEntropyLoss()\n",
    "opt = optim.Adam(model.parameters(), lr=2e-5, weight_decay=1e-5)\n",
    "model_name = 'vit_categoria'\n",
    "column_name = 'categoria'\n",
    "\n",
    "execute_train_test(dataset, device, batch_size, epochs, num_classes, model, criterion, opt, \\\n",
    "                   model_name, column_name)"
   ]
  },
  {
   "cell_type": "code",
   "execution_count": null,
   "id": "b870b664-c0e4-43b1-b2a0-b96bfd2461cf",
   "metadata": {},
   "outputs": [],
   "source": [
    "# Cleaning up memory\n",
    "clean_mem([model, image_embeddings])"
   ]
  },
  {
   "cell_type": "code",
   "execution_count": null,
   "id": "4ddf8fac-6f67-4ea7-ab8c-8d2be9add2e1",
   "metadata": {},
   "outputs": [],
   "source": [
    "# Retraining model with augmented dataset to see the difference in the results\n",
    "batch_size = 32\n",
    "epochs = 30\n",
    "num_classes = len(filtered_categories)\n",
    "model = ViTClassifier(num_classes).to(device)\n",
    "criterion = nn.CrossEntropyLoss()\n",
    "opt = optim.Adam(model.parameters(), lr=2e-5, weight_decay=1e-5)\n",
    "model_name = 'balanced_vit_categoria'\n",
    "column_name = 'categoria'\n",
    "\n",
    "execute_train_test(augmented_dataset, device, batch_size, epochs, num_classes, model, \\\n",
    "                   criterion, opt, model_name, column_name)\n",
    "\n",
    "categoria_vit_trimap, categoria_vit_tsne, \\\n",
    "categoria_vit_umap, image_indices = compute_classifier_embeddings(dataloader, model, device)"
   ]
  },
  {
   "cell_type": "code",
   "execution_count": null,
   "id": "8f58fdaa-04d0-44fc-93a0-5ebbf9b7a4d0",
   "metadata": {},
   "outputs": [],
   "source": [
    "# Cleaning up memory\n",
    "clean_mem([model, image_embeddings])"
   ]
  },
  {
   "cell_type": "markdown",
   "id": "81730faf-1ab3-4473-9268-04b25559bc14",
   "metadata": {},
   "source": [
    "### Visualizing and Comparing Projections"
   ]
  },
  {
   "cell_type": "code",
   "execution_count": null,
   "id": "7622319c-08ac-475d-8376-c66bd3e76fec",
   "metadata": {},
   "outputs": [],
   "source": [
    "from training_utils import normalize\n",
    "\n",
    "# Normalizing data for later plot on tool\n",
    "norm_factor = 12\n",
    "vanilla_vit_trimap = normalize(vanilla_vit_trimap, norm_factor)\n",
    "vanilla_vit_tsne = normalize(vanilla_vit_tsne, norm_factor)\n",
    "vanilla_vit_umap = normalize(vanilla_vit_umap, norm_factor)\n",
    "\n",
    "povo_vit_trimap = normalize(povo_vit_trimap, norm_factor)\n",
    "povo_vit_tsne = normalize(povo_vit_tsne, norm_factor)\n",
    "povo_vit_umap = normalize(povo_vit_umap, norm_factor)\n",
    "\n",
    "categoria_vit_trimap = normalize(categoria_vit_trimap, norm_factor)\n",
    "categoria_vit_tsne = normalize(categoria_vit_tsne, norm_factor)\n",
    "categoria_vit_umap = normalize(categoria_vit_umap, norm_factor)"
   ]
  },
  {
   "cell_type": "code",
   "execution_count": null,
   "id": "63fce310-fb5f-4218-afb7-5ffcb02dbf1a",
   "metadata": {},
   "outputs": [],
   "source": [
    "# Visualizing resulting projections\n",
    "plt.figure(figsize=(12,8))\n",
    "plt.suptitle('Comparing Projections of ViT Models')\n",
    "\n",
    "# Plotting vanilla ViT projections\n",
    "for i, (vanilla_vit, proj_name) in enumerate(zip([vanilla_vit_trimap, \\\n",
    "                                                  vanilla_vit_tsne, vanilla_vit_umap], \\\n",
    "                                                 ['TriMap', 't-SNE', 'UMAP'])):\n",
    "    plt.subplot(3, 3, i+1)\n",
    "    plt.scatter(vanilla_vit[:, 0], vanilla_vit[:, 1], c='b')\n",
    "    plt.title(\"Vanilla ViT with \" + proj_name)\n",
    "    plt.xlabel(\"\")\n",
    "    plt.ylabel(\"\")\n",
    "    plt.xticks([])\n",
    "    plt.yticks([])\n",
    "\n",
    "# Plotting ViT fine-tuned on 'povo' projections\n",
    "for i, (povo_vit, proj_name) in enumerate(zip([povo_vit_trimap, \\\n",
    "                                               povo_vit_tsne, povo_vit_umap], \\\n",
    "                                              ['TriMap', 't-SNE', 'UMAP'])):\n",
    "    plt.subplot(3, 3, i+4)\n",
    "    plt.scatter(povo_vit[:, 0], povo_vit[:, 1], c='r')\n",
    "    plt.title(\"ViT Fine-Tuned on 'povo' with \" + proj_name)\n",
    "    plt.xlabel(\"\")\n",
    "    plt.ylabel(\"\")\n",
    "    plt.xticks([])\n",
    "    plt.yticks([])\n",
    "\n",
    "# Plotting ViT fine-tuned on 'categoria' projections\n",
    "for i, (categoria_vit, proj_name) in enumerate(zip([categoria_vit_trimap, \\\n",
    "                                                    categoria_vit_tsne, categoria_vit_umap], \\\n",
    "                                                   ['TriMap', 't-SNE', 'UMAP'])):\n",
    "    plt.subplot(3, 3, i+7)\n",
    "    plt.scatter(categoria_vit[:, 0], categoria_vit[:, 1], c='g')\n",
    "    plt.title(\"ViT Fine-Tuned on 'categoria' with \" + proj_name)\n",
    "    plt.xlabel(\"\")\n",
    "    plt.ylabel(\"\")\n",
    "    plt.xticks([])\n",
    "    plt.yticks([])\n",
    "\n",
    "plt.tight_layout()\n",
    "plt.show()"
   ]
  },
  {
   "cell_type": "markdown",
   "id": "2d358406-41c1-40ba-8580-398ff90a1872",
   "metadata": {},
   "source": [
    "### Visualizing Clusters"
   ]
  },
  {
   "cell_type": "code",
   "execution_count": null,
   "id": "1a072ba0-1e61-4288-b4ff-27ad22e1c3dc",
   "metadata": {},
   "outputs": [],
   "source": [
    "# Filtering dataframe to get only the part that contains images\n",
    "filtered_df = ind_df.loc[ind_df['image_path'].notna()]\n",
    "\n",
    "# Building colormap for cluster visualization\n",
    "column = 'categoria' # 'povo', 'categoria', 'ano_de_aquisicao'\n",
    "unique_values = filtered_df[column].unique()\n",
    "colors = plt.cm.gnuplot(np.linspace(0, 1, len(unique_values)))\n",
    "color_dict = {cluster: colors[i] for i, cluster in enumerate(unique_values)}\n",
    "\n",
    "# Reordering projections to match the original dataframe order\n",
    "categoria_vit_umap = categoria_vit_umap[np.argsort(image_indices)]\n",
    "\n",
    "# Plotting projections with clusters\n",
    "plt.figure(figsize=(10,4))\n",
    "\n",
    "for cluster in unique_values:\n",
    "    mask = filtered_df.index[filtered_df[column] == cluster].tolist()\n",
    "    sequential_indices = np.array([filtered_df.index.get_loc(idx) for idx in mask])\n",
    "    plt.scatter(categoria_vit_umap[sequential_indices, 0], \\\n",
    "                categoria_vit_umap[sequential_indices, 1], \n",
    "                color=color_dict[cluster], label=f\"{cluster.title()}\", alpha=0.7)\n",
    "\n",
    "plt.title(f\"Visualizing Clusters for Categoria on UMAP Projection\")\n",
    "plt.xlabel(\"\")\n",
    "plt.ylabel(\"\")\n",
    "plt.xticks([])\n",
    "plt.yticks([])\n",
    "plt.legend(title=\"Clusters\", bbox_to_anchor=(1.05, 1), loc=\"upper left\", \\\n",
    "           fontsize=8, frameon=True)\n",
    "\n",
    "plt.tight_layout()\n",
    "plt.show()"
   ]
  },
  {
   "cell_type": "code",
   "execution_count": 38,
   "id": "4cda5f78-4cf1-4d8f-b366-48c92c2b340e",
   "metadata": {},
   "outputs": [
    {
     "data": {
      "text/plain": [
       "array([2591, 4851, 9029, ..., 4677, 6248,  431])"
      ]
     },
     "execution_count": 38,
     "metadata": {},
     "output_type": "execute_result"
    }
   ],
   "source": [
    "categoria_vit_umap = categoria_vit_umap[np.argsort(image_indices)]"
   ]
  },
  {
   "cell_type": "code",
   "execution_count": 37,
   "id": "1d81720c-0ad5-43ef-aaa8-0a27e7d96698",
   "metadata": {},
   "outputs": [
    {
     "name": "stdout",
     "output_type": "stream",
     "text": [
      "{0: 'utensílios e implementos de materiais ecléticos', 1: 'adornos de materiais ecléticos, indumentária e toucador', 2: 'instrumentos musicais e de sinalização', 3: 'cordões e tecidos', 4: 'adornos plumários', 5: 'armas', 6: 'trançados', 7: 'cerâmica', 8: 'objetos rituais, mágicos e lúdicos', 9: 'etnobotânica'}\n",
      "{'utensílios e implementos de materiais ecléticos': 0, 'adornos de materiais ecléticos, indumentária e toucador': 1, 'instrumentos musicais e de sinalização': 2, 'cordões e tecidos': 3, 'adornos plumários': 4, 'armas': 5, 'trançados': 6, 'cerâmica': 7, 'objetos rituais, mágicos e lúdicos': 8, 'etnobotânica': 9}\n"
     ]
    }
   ],
   "source": [
    "np.unique(list(labels.values()))\n",
    "print(num_to_name)\n",
    "print(name_to_num)"
   ]
  },
  {
   "cell_type": "code",
   "execution_count": 40,
   "id": "0aa67146-3566-4c89-b9ee-7fa183cabeb0",
   "metadata": {},
   "outputs": [
    {
     "name": "stdout",
     "output_type": "stream",
     "text": [
      "True\n"
     ]
    }
   ],
   "source": [
    "# Saving outputs for visualization tool\n",
    "# print(labels)\n",
    "mask1 = filtered_df.index[filtered_df[column] == unique_values[5]].tolist()\n",
    "mask2 = filtered_df.index[filtered_df[column] == unique_values[8]].tolist()\n",
    "\n",
    "sequence1 = np.array([filtered_df.index.get_loc(idx) for idx in mask1])\n",
    "sequence2 = np.array([filtered_df.index.get_loc(idx) for idx in mask2])\n",
    "\n",
    "print(len(set(sequence1).union(set(sequence2))) == len(sequence1)+len(sequence2))"
   ]
  }
 ],
 "metadata": {
  "kernelspec": {
   "display_name": "Python 3 (ipykernel)",
   "language": "python",
   "name": "python3"
  },
  "language_info": {
   "codemirror_mode": {
    "name": "ipython",
    "version": 3
   },
   "file_extension": ".py",
   "mimetype": "text/x-python",
   "name": "python",
   "nbconvert_exporter": "python",
   "pygments_lexer": "ipython3",
   "version": "3.10.15"
  }
 },
 "nbformat": 4,
 "nbformat_minor": 5
}
