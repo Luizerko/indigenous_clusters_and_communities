{
 "cells": [
  {
   "cell_type": "code",
   "execution_count": 1,
   "id": "6ef9795d-0158-4db9-8f3a-ec9139c1f258",
   "metadata": {},
   "outputs": [
    {
     "name": "stdout",
     "output_type": "stream",
     "text": [
      "Dataframe columns: \n",
      "Index(['url', 'thumbnail', 'creation_date', 'modification_date',\n",
      "       'numero_do_item', 'tripticos', 'categoria', 'nome_do_item',\n",
      "       'nome_do_item_dic', 'colecao', 'coletor', 'doador', 'modo_de_aquisicao',\n",
      "       'data_de_aquisicao', 'ano_de_aquisicao', 'data_de_confeccao', 'autoria',\n",
      "       'nome_etnico', 'descricao', 'dimensoes', 'funcao', 'materia_prima',\n",
      "       'tecnica_confeccao', 'descritor_tematico', 'descritor_comum',\n",
      "       'numero_de_pecas', 'itens_relacionados', 'responsavel_guarda',\n",
      "       'inst_detentora', 'povo', 'autoidentificacao', 'lingua',\n",
      "       'estado_de_origem', 'geolocalizacao', 'pais_de_origem', 'exposicao',\n",
      "       'referencias', 'disponibilidade', 'qualificacao', 'historia_adm',\n",
      "       'notas_gerais', 'observacao', 'conservacao', 'image_path'],\n",
      "      dtype='object')\n"
     ]
    }
   ],
   "source": [
    "import pandas as pd\n",
    "\n",
    "# Loading dataset\n",
    "ind_df = pd.read_csv('data/indigenous_collection_processed.csv', index_col='id')\n",
    "print(f'Dataframe columns: \\n{ind_df.columns}')"
   ]
  },
  {
   "cell_type": "code",
   "execution_count": 2,
   "id": "dc645b59-5f75-4644-8482-a2aeb836d2ae",
   "metadata": {},
   "outputs": [],
   "source": [
    "import importlib\n",
    "from IPython.core.magic import register_cell_magic\n",
    "\n",
    "# Creating skip cell command\n",
    "@register_cell_magic\n",
    "def skip(line, cell):\n",
    "    return"
   ]
  },
  {
   "cell_type": "markdown",
   "id": "561deae7-07e5-412b-86b4-4f42b9ce3b52",
   "metadata": {},
   "source": [
    "# Image Clustering"
   ]
  },
  {
   "cell_type": "markdown",
   "id": "79dfc3e7-84fa-48da-a625-239a17b0e021",
   "metadata": {},
   "source": [
    "Clustering experiments with image feature extractors. The idea is to fine-tune some pre-trained models on our dataset and then remove the last layer of the model to cluster on the embedding space projections."
   ]
  },
  {
   "cell_type": "markdown",
   "id": "6ecfe485-3be5-4694-8198-c50a3d03555e",
   "metadata": {},
   "source": [
    "## Dataset Preparation"
   ]
  },
  {
   "cell_type": "markdown",
   "id": "31a1f9c8-c490-4d69-a6e1-f8aa2d1280e7",
   "metadata": {},
   "source": [
    "For fine-tuning the model on our dataset, we are going to try a few different labels and study how they affect the generated emebdding space. For now, we focus *povo* and *categoria*."
   ]
  },
  {
   "cell_type": "code",
   "execution_count": 3,
   "id": "7ce8b405-dd10-44cd-8d6c-31d4c4d81131",
   "metadata": {},
   "outputs": [
    {
     "name": "stdout",
     "output_type": "stream",
     "text": [
      "1 corrupted images\n"
     ]
    }
   ],
   "source": [
    "from PIL import Image\n",
    "\n",
    "# Filtering out corrupted images\n",
    "corrupted_images = []\n",
    "for index, row in ind_df.loc[ind_df['image_path'].notna()].iterrows():\n",
    "    try:\n",
    "        Image.open(row['image_path'])\n",
    "    except Exception as e:\n",
    "        corrupted_images.append(row['image_path'])\n",
    "        ind_df.loc[index, 'image_path'] = pd.NA\n",
    "print(f'{len(corrupted_images)} corrupted images')\n",
    "\n",
    "# Creating 'image_path_br' column\n",
    "ind_df['image_path_br'] = ind_df['image_path'].values\n",
    "ind_df.loc[ind_df['image_path_br'].notna(), 'image_path_br'] = \\\n",
    "    ind_df.loc[ind_df['image_path_br'].notna(), \\\n",
    "               'image_path'].apply(lambda path: \\\n",
    "                                   f\"data/br_images/{path.split('/')[-1].split('.')[0]}.png\")"
   ]
  },
  {
   "cell_type": "markdown",
   "id": "dd9804fc-d317-492a-88c1-72cad645cfb4",
   "metadata": {},
   "source": [
    "## ViT Base Patch-16"
   ]
  },
  {
   "cell_type": "markdown",
   "id": "99dd4318-0161-463e-94dc-ba1987cdb366",
   "metadata": {},
   "source": [
    "### Pre-trained Embedding Space"
   ]
  },
  {
   "cell_type": "code",
   "execution_count": 4,
   "id": "8eb70f6d-7d44-40f5-b2f5-94053a767665",
   "metadata": {
    "scrolled": true
   },
   "outputs": [],
   "source": [
    "import torch\n",
    "from torchvision import transforms\n",
    "from training_utils import preparing_image_labels, ImageDataset\n",
    "\n",
    "# Getting the proper device\n",
    "device = torch.device(\"cuda\" if torch.cuda.is_available() else \"cpu\")\n",
    "\n",
    "# Building dataset for column 'povo' (though no specific column is used on off-the-shelf model)\n",
    "transform = transforms.Compose([\n",
    "    transforms.ToTensor(),\n",
    "    transforms.Resize((224, 224)),\n",
    "    transforms.Normalize(mean=[0.5, 0.5, 0.5], std=[0.5, 0.5, 0.5])\n",
    "])\n",
    "povo_labels, name_to_num, num_to_name = preparing_image_labels(ind_df, 'povo')\n",
    "povo_dataset = ImageDataset(povo_labels, transform=transform, augment=False)"
   ]
  },
  {
   "cell_type": "code",
   "execution_count": 5,
   "id": "34e247fc-988b-4850-b908-ed363357f2b7",
   "metadata": {
    "scrolled": true
   },
   "outputs": [
    {
     "name": "stderr",
     "output_type": "stream",
     "text": [
      "Computing embeddings: 100%|███████| 23/23 [02:49<00:00,  7.38s/it]\n",
      "/home/lui/anaconda3/envs/ind_thesis/lib/python3.10/site-packages/sklearn/utils/deprecation.py:151: FutureWarning: 'force_all_finite' was renamed to 'ensure_all_finite' in 1.6 and will be removed in 1.8.\n",
      "  warnings.warn(\n"
     ]
    }
   ],
   "source": [
    "# Projecting data onto the off-the-shelf pre-trained embedding space from ViT\n",
    "from tqdm import tqdm\n",
    "import numpy as np\n",
    "from torch.utils.data import DataLoader\n",
    "from transformers import ViTImageProcessor, ViTModel\n",
    "from training_utils import get_vit_embeddings, data_projections\n",
    "\n",
    "# Loading model\n",
    "model = ViTModel.from_pretrained('google/vit-base-patch16-224-in21k')\n",
    "model.to(device)\n",
    "\n",
    "# Getting data\n",
    "povo_dataloader = DataLoader(povo_dataset, batch_size=512, shuffle=True, num_workers=0, \\\n",
    "                             pin_memory=True)\n",
    "\n",
    "# Computing image embeddings\n",
    "image_embeddings, _ = get_vit_embeddings(model, povo_dataloader, device)\n",
    "image_embeddings = np.concatenate(image_embeddings, axis=0)\n",
    "\n",
    "# Computing data projection\n",
    "vanilla_vit_trimap, vanilla_vit_tsne, vanilla_vit_umap = data_projections(image_embeddings)"
   ]
  },
  {
   "cell_type": "code",
   "execution_count": 6,
   "id": "4e4ef9ea-b565-4e07-b343-c0a32c8709a6",
   "metadata": {},
   "outputs": [],
   "source": [
    "from training_utils import clean_mem\n",
    "\n",
    "# Cleaning up memory\n",
    "clean_mem([model, image_embeddings])"
   ]
  },
  {
   "cell_type": "markdown",
   "id": "3f18e80f-1305-4675-8f89-e70f6ee00187",
   "metadata": {},
   "source": [
    "### Fine-tuning Embedding Space"
   ]
  },
  {
   "cell_type": "code",
   "execution_count": 7,
   "id": "397cc9e7-c214-4327-bc09-827d8b0413c2",
   "metadata": {},
   "outputs": [],
   "source": [
    "# Creating our own ViT classifier head for fine-tuning\n",
    "import torch.nn as nn\n",
    "\n",
    "class ViTClassifier(nn.Module):\n",
    "    def __init__(self, num_classes):\n",
    "        super(ViTClassifier, self).__init__()\n",
    "        self.vit = ViTModel.from_pretrained('google/vit-base-patch16-224-in21k')\n",
    "        self.classifier = nn.Linear(self.vit.config.hidden_size, num_classes)\n",
    "\n",
    "    def forward(self, x):\n",
    "        outputs = self.vit(x)\n",
    "        \n",
    "        # Do I get the last_hidden_state of CLS token or the pooler_output?\n",
    "        embeddings = outputs['last_hidden_state'][:, 0, :]\n",
    "        # embeddings = outputs['pooler_output']\n",
    "\n",
    "        logits = self.classifier(embeddings)\n",
    "        return logits"
   ]
  },
  {
   "cell_type": "markdown",
   "id": "a0093a1e-f85f-48b9-b75e-391fb8cd390b",
   "metadata": {},
   "source": [
    "#### *povo* Column"
   ]
  },
  {
   "cell_type": "code",
   "execution_count": 8,
   "id": "9f1eed02-7da5-4671-8136-390d5530246d",
   "metadata": {},
   "outputs": [
    {
     "name": "stdout",
     "output_type": "stream",
     "text": [
      "Quantile X Data Percentage:\n",
      "Q-10: 1.00, 99.84% of data\n",
      "Q-25: 4.00, 99.18% of data\n",
      "Q-50: 19.00, 95.96% of data\n",
      "Q-75: 65.75, 83.18% of data\n",
      "Q-90: 158.20, 63.25% of data\n",
      "\n"
     ]
    }
   ],
   "source": [
    "# Studying data distribution to filter out rare classes\n",
    "from training_utils import study_class_distribution\n",
    "\n",
    "categories, categories_keys, categories_freq, qs, masks = study_class_distribution(povo_labels)\n",
    "\n",
    "# Filtering classes so that we retain around 85% of data\n",
    "filtered_categories = {}\n",
    "filtered_categories_names = {}\n",
    "for c in masks[3][0]:\n",
    "    filtered_categories[categories_keys[c]] = categories[categories_keys[c]]\n",
    "    filtered_categories_names[num_to_name[categories_keys[c]]] = categories[categories_keys[c]]"
   ]
  },
  {
   "cell_type": "code",
   "execution_count": 9,
   "id": "fd6a5e63-5680-4a09-a96e-c6fbb91b28b1",
   "metadata": {},
   "outputs": [],
   "source": [
    "# Filtering dataframe for selected categories\n",
    "from training_utils import filter_image_data_distribution\n",
    "\n",
    "threshold_multiplier = 2\n",
    "minority_classes, majority_classes, labels_minority, labels_majority, \\\n",
    "povo_augmented_dataset = filter_image_data_distribution(ind_df, filtered_categories_names, \\\n",
    "                                                        transform, threshold_multiplier, \\\n",
    "                                                        'povo')"
   ]
  },
  {
   "cell_type": "code",
   "execution_count": 10,
   "id": "fa94d49e-e893-4a83-8917-b34f6a83031e",
   "metadata": {},
   "outputs": [
    {
     "data": {
      "image/png": "[encoded data removed]",
      "text/plain": [
       "<Figure size 1000x400 with 2 Axes>"
      ]
     },
     "metadata": {},
     "output_type": "display_data"
    }
   ],
   "source": [
    "# Plotting old and new class distributions\n",
    "from training_utils import plot_class_distributions\n",
    "\n",
    "plot_class_distributions(categories, filtered_categories, labels_minority, labels_majority, \\\n",
    "                         threshold_multiplier, 'povo')"
   ]
  },
  {
   "cell_type": "code",
   "execution_count": 11,
   "id": "be368210-2317-4991-aac4-12dc1fd6e9dc",
   "metadata": {},
   "outputs": [],
   "source": [
    "# Because the dataset is still unbalanced, we also create class weights for the loss function\n",
    "from training_utils import compute_class_weights\n",
    "\n",
    "povo_class_weights = compute_class_weights(filtered_categories, labels_minority, \\\n",
    "                                           labels_majority, device, threshold_multiplier)"
   ]
  },
  {
   "cell_type": "code",
   "execution_count": 12,
   "id": "08fe3bdc-df2c-40ed-b0c7-a2ac7989e256",
   "metadata": {
    "scrolled": true
   },
   "outputs": [
    {
     "name": "stderr",
     "output_type": "stream",
     "text": [
      "Training model:   3%|▎          | 1/30 [03:53<1:53:01, 233.84s/it]"
     ]
    },
    {
     "name": "stdout",
     "output_type": "stream",
     "text": [
      "Best model saved at epoch 1\n",
      "Epoch 1, Loss: 1038.7674, Validation Accuracy: 0.3554\n"
     ]
    },
    {
     "name": "stderr",
     "output_type": "stream",
     "text": [
      "Training model:   7%|▋          | 2/30 [07:50<1:49:47, 235.28s/it]"
     ]
    },
    {
     "name": "stdout",
     "output_type": "stream",
     "text": [
      "Best model saved at epoch 2\n",
      "Epoch 2, Loss: 770.6525, Validation Accuracy: 0.4376\n"
     ]
    },
    {
     "name": "stderr",
     "output_type": "stream",
     "text": [
      "Training model:  10%|█          | 3/30 [11:44<1:45:44, 234.97s/it]"
     ]
    },
    {
     "name": "stdout",
     "output_type": "stream",
     "text": [
      "Best model saved at epoch 3\n",
      "Epoch 3, Loss: 600.9693, Validation Accuracy: 0.5098\n"
     ]
    },
    {
     "name": "stderr",
     "output_type": "stream",
     "text": [
      "Training model:  13%|█▍         | 4/30 [15:38<1:41:32, 234.32s/it]"
     ]
    },
    {
     "name": "stdout",
     "output_type": "stream",
     "text": [
      "Best model saved at epoch 4\n",
      "Epoch 4, Loss: 455.9261, Validation Accuracy: 0.5748\n"
     ]
    },
    {
     "name": "stderr",
     "output_type": "stream",
     "text": [
      "Training model:  17%|█▊         | 5/30 [19:30<1:37:25, 233.83s/it]"
     ]
    },
    {
     "name": "stdout",
     "output_type": "stream",
     "text": [
      "Best model saved at epoch 5\n",
      "Epoch 5, Loss: 335.1338, Validation Accuracy: 0.6132\n"
     ]
    },
    {
     "name": "stderr",
     "output_type": "stream",
     "text": [
      "Training model:  20%|██▏        | 6/30 [23:24<1:33:29, 233.73s/it]"
     ]
    },
    {
     "name": "stdout",
     "output_type": "stream",
     "text": [
      "Best model saved at epoch 6\n",
      "Epoch 6, Loss: 235.3715, Validation Accuracy: 0.6499\n"
     ]
    },
    {
     "name": "stderr",
     "output_type": "stream",
     "text": [
      "Training model:  23%|██▌        | 7/30 [27:15<1:29:17, 232.93s/it]"
     ]
    },
    {
     "name": "stdout",
     "output_type": "stream",
     "text": [
      "Best model saved at epoch 7\n",
      "Epoch 7, Loss: 157.5005, Validation Accuracy: 0.6546\n"
     ]
    },
    {
     "name": "stderr",
     "output_type": "stream",
     "text": [
      "Training model:  27%|██▉        | 8/30 [31:07<1:25:16, 232.59s/it]"
     ]
    },
    {
     "name": "stdout",
     "output_type": "stream",
     "text": [
      "Best model saved at epoch 8\n",
      "Epoch 8, Loss: 104.8705, Validation Accuracy: 0.6736\n"
     ]
    },
    {
     "name": "stderr",
     "output_type": "stream",
     "text": [
      "Training model:  30%|███▎       | 9/30 [34:57<1:21:05, 231.68s/it]"
     ]
    },
    {
     "name": "stdout",
     "output_type": "stream",
     "text": [
      "Epoch 9, Loss: 76.4356, Validation Accuracy: 0.6706\n"
     ]
    },
    {
     "name": "stderr",
     "output_type": "stream",
     "text": [
      "Training model:  33%|███▎      | 10/30 [38:44<1:16:43, 230.19s/it]"
     ]
    },
    {
     "name": "stdout",
     "output_type": "stream",
     "text": [
      "Epoch 10, Loss: 48.7823, Validation Accuracy: 0.6665\n"
     ]
    },
    {
     "name": "stderr",
     "output_type": "stream",
     "text": [
      "Training model:  37%|███▋      | 11/30 [42:32<1:12:40, 229.50s/it]"
     ]
    },
    {
     "name": "stdout",
     "output_type": "stream",
     "text": [
      "Best model saved at epoch 11\n",
      "Epoch 11, Loss: 32.5395, Validation Accuracy: 0.6789\n"
     ]
    },
    {
     "name": "stderr",
     "output_type": "stream",
     "text": [
      "Training model:  40%|████      | 12/30 [46:19<1:08:36, 228.72s/it]"
     ]
    },
    {
     "name": "stdout",
     "output_type": "stream",
     "text": [
      "Epoch 12, Loss: 23.3121, Validation Accuracy: 0.6706\n"
     ]
    },
    {
     "name": "stderr",
     "output_type": "stream",
     "text": [
      "Training model:  43%|████▎     | 13/30 [50:05<1:04:37, 228.11s/it]"
     ]
    },
    {
     "name": "stdout",
     "output_type": "stream",
     "text": [
      "Epoch 13, Loss: 17.6574, Validation Accuracy: 0.6747\n"
     ]
    },
    {
     "name": "stderr",
     "output_type": "stream",
     "text": [
      "Training model:  47%|████▋     | 14/30 [53:52<1:00:41, 227.61s/it]"
     ]
    },
    {
     "name": "stdout",
     "output_type": "stream",
     "text": [
      "Epoch 14, Loss: 12.9322, Validation Accuracy: 0.6765\n"
     ]
    },
    {
     "name": "stderr",
     "output_type": "stream",
     "text": [
      "Training model:  50%|██████      | 15/30 [57:39<56:51, 227.41s/it]"
     ]
    },
    {
     "name": "stdout",
     "output_type": "stream",
     "text": [
      "Epoch 15, Loss: 9.7116, Validation Accuracy: 0.6753\n"
     ]
    },
    {
     "name": "stderr",
     "output_type": "stream",
     "text": [
      "Training model:  53%|█████▎    | 16/30 [1:01:27<53:07, 227.67s/it]"
     ]
    },
    {
     "name": "stdout",
     "output_type": "stream",
     "text": [
      "Best model saved at epoch 16\n",
      "Epoch 16, Loss: 7.4262, Validation Accuracy: 0.6795\n"
     ]
    },
    {
     "name": "stderr",
     "output_type": "stream",
     "text": [
      "Training model:  57%|█████▋    | 17/30 [1:05:14<49:18, 227.56s/it]"
     ]
    },
    {
     "name": "stdout",
     "output_type": "stream",
     "text": [
      "Epoch 17, Loss: 5.8732, Validation Accuracy: 0.6736\n"
     ]
    },
    {
     "name": "stderr",
     "output_type": "stream",
     "text": [
      "Training model:  60%|██████    | 18/30 [1:09:01<45:28, 227.34s/it]"
     ]
    },
    {
     "name": "stdout",
     "output_type": "stream",
     "text": [
      "Epoch 18, Loss: 4.7871, Validation Accuracy: 0.6759\n"
     ]
    },
    {
     "name": "stderr",
     "output_type": "stream",
     "text": [
      "Training model:  63%|██████▎   | 19/30 [1:12:50<41:44, 227.71s/it]"
     ]
    },
    {
     "name": "stdout",
     "output_type": "stream",
     "text": [
      "Best model saved at epoch 19\n",
      "Epoch 19, Loss: 3.8838, Validation Accuracy: 0.6836\n"
     ]
    },
    {
     "name": "stderr",
     "output_type": "stream",
     "text": [
      "Training model:  67%|██████▋   | 20/30 [1:16:37<37:55, 227.53s/it]"
     ]
    },
    {
     "name": "stdout",
     "output_type": "stream",
     "text": [
      "Epoch 20, Loss: 3.1775, Validation Accuracy: 0.6807\n"
     ]
    },
    {
     "name": "stderr",
     "output_type": "stream",
     "text": [
      "Training model:  70%|███████   | 21/30 [1:20:24<34:06, 227.42s/it]"
     ]
    },
    {
     "name": "stdout",
     "output_type": "stream",
     "text": [
      "Epoch 21, Loss: 2.6288, Validation Accuracy: 0.6795\n"
     ]
    },
    {
     "name": "stderr",
     "output_type": "stream",
     "text": [
      "Training model:  73%|███████▎  | 22/30 [1:24:11<30:18, 227.37s/it]"
     ]
    },
    {
     "name": "stdout",
     "output_type": "stream",
     "text": [
      "Epoch 22, Loss: 2.2367, Validation Accuracy: 0.6824\n"
     ]
    },
    {
     "name": "stderr",
     "output_type": "stream",
     "text": [
      "Training model:  77%|███████▋  | 23/30 [1:27:59<26:31, 227.36s/it]"
     ]
    },
    {
     "name": "stdout",
     "output_type": "stream",
     "text": [
      "Epoch 23, Loss: 1.9126, Validation Accuracy: 0.6765\n"
     ]
    },
    {
     "name": "stderr",
     "output_type": "stream",
     "text": [
      "Training model:  80%|████████  | 24/30 [1:31:46<22:44, 227.35s/it]"
     ]
    },
    {
     "name": "stdout",
     "output_type": "stream",
     "text": [
      "Epoch 24, Loss: 1.6473, Validation Accuracy: 0.6771\n"
     ]
    },
    {
     "name": "stderr",
     "output_type": "stream",
     "text": [
      "Training model:  83%|████████▎ | 25/30 [1:35:33<18:56, 227.33s/it]"
     ]
    },
    {
     "name": "stdout",
     "output_type": "stream",
     "text": [
      "Epoch 25, Loss: 1.4565, Validation Accuracy: 0.6813\n"
     ]
    },
    {
     "name": "stderr",
     "output_type": "stream",
     "text": [
      "Training model:  83%|████████▎ | 25/30 [1:39:20<19:52, 238.40s/it]"
     ]
    },
    {
     "name": "stdout",
     "output_type": "stream",
     "text": [
      "Early-stopping training!\n"
     ]
    },
    {
     "name": "stderr",
     "output_type": "stream",
     "text": [
      "\n"
     ]
    },
    {
     "data": {
      "image/png": "[encoded data removed]",
      "text/plain": [
       "<Figure size 800x400 with 2 Axes>"
      ]
     },
     "metadata": {},
     "output_type": "display_data"
    },
    {
     "name": "stderr",
     "output_type": "stream",
     "text": [
      "/home/lui/Documents/uva/thesis/indigenous_project/tainacan_collection/training_utils.py:395: FutureWarning: You are using `torch.load` with `weights_only=False` (the current default value), which uses the default pickle module implicitly. It is possible to construct malicious pickle data which will execute arbitrary code during unpickling (See https://github.com/pytorch/pytorch/blob/main/SECURITY.md#untrusted-models for more details). In a future release, the default value for `weights_only` will be flipped to `True`. This limits the functions that could be executed during unpickling. Arbitrary objects will no longer be allowed to be loaded via this mode unless they are explicitly allowlisted by the user via `torch.serialization.add_safe_globals`. We recommend you start setting `weights_only=True` for any use case where you don't have full control of the loaded file. Please open an issue on GitHub for any issues related to this experimental feature.\n",
      "  checkpoint = torch.load('data/models_weights/' + model_name + '.pth', map_location=device)\n"
     ]
    },
    {
     "name": "stdout",
     "output_type": "stream",
     "text": [
      "Per class precision: [0.8759765625, 0.320068359375, 0.425048828125, 0.5947265625, 0.53857421875, 0.407470703125, 0.970703125, 0.5, 0.85693359375, 0.8876953125, 0.45947265625, 0.5, 0.0, 0.2666015625, 0.0, 0.0, 0.87109375, 0.428466796875, 0.69970703125, 0.416748046875, 0.0, 0.66650390625, 0.68017578125, 0.89453125, 0.71435546875, 0.22216796875, 0.77783203125, 0.78564453125, 1.0, 0.66650390625, 0.60009765625, 0.0, 0.75, 0.75, 0.5, 0.7998046875, 0.875, 0.0, 0.0, 0.0, 0.5, 0.46142578125, 1.0, 0.58837890625, 1.0, 0.61376953125, 0.77978515625, 0.7333984375, 0.0, 0.0, 0.375, 0.5712890625, 0.1290283203125, 0.54541015625, 1.0, 0.82373046875, 0.5, 0.5791015625, 0.25, 0.0, 0.83349609375, 0.5, 0.1785888671875, 1.0, 0.0, 0.333251953125, 0.60009765625, 0.363525390625, 0.0, 0.0, 0.0, 0.7998046875, 0.0, 0.5, 0.77783203125, 0.8046875, 0.0, 0.5712890625, 0.0, 0.45703125, 0.0, 1.0, 0.0, 1.0, 0.0, 0.5, 0.5, 1.0, 0.5498046875, 0.0, 0.0, 0.0, 1.0, 0.0, 0.0, 0.0, 1.0, 0.39990234375, 0.0, 0.0, 0.0, 0.0, 0.0, 0.7998046875, 0.0, 0.5, 1.0, 0.0, 0.0, 0.0, 0.0, 0.0, 0.0, 0.0, 0.0, 0.0, 1.0, 0.0, 1.0, 0.0, 0.0, 0.0, 0.0, 1.0, 0.7998046875, 0.0, 0.0, 0.0, 0.0, 0.0, 0.0, 0.0, 0.0, 0.0, 0.0, 0.0, 0.0, 0.0, 0.0, 0.0, 0.0, 0.0, 0.0, 0.0, 0.0, 0.0, 0.0, 0.0, 0.0, 0.0, 0.0, 0.0, 0.0, 1.0, 0.0, 0.0, 0.0, 0.0, 0.0, 0.0, 0.0, 0.0, 0.0, 0.0, 0.0, 0.0, 0.0, 0.0, 0.0, 0.0, 0.0, 0.0, 0.0, 0.0, 0.0, 0.0, 0.0, 0.0, 0.0, 0.0, 0.0, 0.0, 0.0, 0.0, 0.0, 0.0, 0.0]\n",
      "\n",
      "Per class recall: [0.77978515625, 0.5, 0.47216796875, 0.53662109375, 0.66650390625, 0.7333984375, 0.91650390625, 0.60009765625, 0.75, 0.8486328125, 0.70849609375, 0.615234375, 0.0, 0.363525390625, 0.0, 0.0, 0.84375, 0.428466796875, 0.8681640625, 0.5, 0.0, 0.5712890625, 0.7392578125, 0.9443359375, 0.5556640625, 0.1666259765625, 0.63623046875, 0.7333984375, 0.142822265625, 0.615234375, 0.375, 0.0, 0.75, 0.25, 0.125, 0.66650390625, 0.82373046875, 0.0, 0.0, 0.0, 0.272705078125, 0.85693359375, 0.25, 0.83349609375, 0.333251953125, 0.7294921875, 0.609375, 0.78564453125, 0.0, 0.0, 0.5, 0.72705078125, 0.3076171875, 0.428466796875, 0.1666259765625, 0.73681640625, 1.0, 0.6875, 0.333251953125, 0.0, 0.625, 0.5, 0.25, 0.333251953125, 0.0, 0.199951171875, 0.5556640625, 0.4443359375, 0.0, 0.0, 0.0, 0.615234375, 0.0, 0.375, 0.65625, 0.84619140625, 0.0, 0.7998046875, 0.0, 0.48486328125, 0.0, 0.5, 0.0, 0.625, 0.0, 0.5, 0.60009765625, 1.0, 0.5498046875, 0.0, 0.0, 0.0, 1.0, 0.0, 0.0, 0.0, 0.333251953125, 0.333251953125, 0.0, 0.0, 0.0, 0.0, 0.0, 0.5712890625, 0.0, 0.428466796875, 1.0, 0.0, 0.0, 0.0, 0.0, 0.0, 0.0, 0.0, 0.0, 0.0, 0.333251953125, 0.0, 0.5, 0.0, 0.0, 0.0, 0.0, 1.0, 0.888671875, 0.0, 0.0, 0.0, 0.0, 0.0, 0.0, 0.0, 0.0, 0.0, 0.0, 0.0, 0.0, 0.0, 0.0, 0.0, 0.0, 0.0, 0.0, 0.0, 0.0, 0.0, 0.0, 0.0, 0.0, 0.0, 0.0, 0.0, 0.0, 0.39990234375, 0.0, 0.0, 0.0, 0.0, 0.0, 0.0, 0.0, 0.0, 0.0, 0.0, 0.0, 0.0, 0.0, 0.0, 0.0, 0.0, 0.0, 0.0, 0.0, 0.0, 0.0, 0.0, 0.0, 0.0, 0.0, 0.0, 0.0, 0.0, 0.0, 0.0, 0.0, 0.0, 0.0]\n",
      "\n",
      "Test accuracy: 0.6897163391113281\n",
      "\n",
      "Test per class precisions: [0.8481012582778931, 0.3076923191547394, 0.125, 0.5641025900840759, 0.30000001192092896, 0.5, 0.9629629850387573, 0.8571428656578064, 1.0, 0.9333333373069763, 0.4166666567325592, 0.6666666865348816, 0.75, 0.5, 0.0, 0.0, 0.9411764740943909, 0.75, 0.7283236980438232, 0.3636363744735718, 1.0, 0.8333333134651184, 0.8888888955116272, 0.8999999761581421, 0.800000011920929, 0.4000000059604645, 0.5, 0.6153846383094788, 0.0, 0.6666666865348816, 0.4444444477558136, 0.0, 0.0, 0.0, 0.0, 0.8571428656578064, 0.7777777910232544, 1.0, 1.0, 0.0, 0.800000011920929, 0.5, 0.2857142984867096, 0.625, 0.0, 0.6000000238418579, 0.8409090638160706, 0.800000011920929, 0.0, 0.0, 0.5, 0.8888888955116272, 0.13333334028720856, 0.27272728085517883, 1.0, 0.7727272510528564, 1.0, 0.7777777910232544, 0.0, 0.0, 0.5, 0.0, 0.25, 1.0, 0.0, 0.5, 0.625, 0.800000011920929, 0.0, 0.0, 1.0, 0.5714285969734192, 0.0, 0.0, 0.6875, 0.8888888955116272, 0.0, 0.4444444477558136, 0.0, 0.375, 0.0, 1.0, 0.0, 0.5, 0.0, 1.0, 0.5, 0.0, 0.6190476417541504, 0.0, 1.0, 0.0, 1.0, 0.0, 0.0, 1.0, 1.0, 0.30000001192092896, 0.0, 0.0, 0.0, 0.0, 1.0, 1.0, 0.0, 1.0, 1.0, 0.0, 0.0, 0.0, 0.0, 0.0, 0.0, 0.0, 0.0, 0.0, 0.5, 0.0, 0.0, 0.0, 0.0, 0.0, 0.0, 0.0, 1.0, 1.0, 0.0, 0.0, 0.0, 0.0, 0.0, 0.0, 0.0, 0.0, 0.0, 0.0, 0.0, 0.0, 0.0, 0.0, 0.0, 0.0, 0.0, 0.0, 0.0, 0.0, 0.0, 0.0, 0.0, 0.0, 0.0, 0.5, 0.0, 0.0, 0.0, 0.0, 0.0, 0.0, 0.0, 0.0, 0.0, 0.0, 1.0, 0.0, 0.0, 0.0, 0.0, 0.0, 0.0, 0.0, 0.0, 0.0, 0.0, 0.0, 0.0, 0.0, 0.0, 0.0, 0.0, 0.0, 0.0, 0.0, 0.0, 0.0, 0.0, 0.0, 0.0]\n",
      "\n",
      "Test per class recalls: [0.7701149582862854, 0.5, 0.20000000298023224, 0.6875, 0.6000000238418579, 0.5, 0.9285714030265808, 0.4615384638309479, 0.3333333432674408, 0.8484848737716675, 0.5555555820465088, 0.4444444477558136, 0.6000000238418579, 0.4000000059604645, 0.0, 0.0, 0.800000011920929, 0.75, 0.8630136847496033, 0.4444444477558136, 1.0, 0.7142857313156128, 0.800000011920929, 0.8181818127632141, 0.800000011920929, 0.25, 1.0, 0.7272727489471436, 0.0, 0.6666666865348816, 0.5714285969734192, 0.0, 0.0, 0.0, 0.0, 0.6666666865348816, 0.7777777910232544, 0.25, 0.5, 0.0, 0.5714285969734192, 0.5, 0.2857142984867096, 0.625, 0.0, 0.6666666865348816, 0.7400000095367432, 0.8888888955116272, 0.0, 0.0, 0.1666666716337204, 1.0, 0.2857142984867096, 0.6000000238418579, 0.3333333432674408, 0.739130437374115, 0.800000011920929, 0.6666666865348816, 0.0, 0.0, 0.20000000298023224, 0.0, 0.3571428656578064, 1.0, 0.0, 0.6666666865348816, 0.5769230723381042, 0.800000011920929, 0.0, 0.0, 0.6000000238418579, 0.6666666865348816, 0.0, 0.0, 0.8461538553237915, 0.8888888955116272, 0.0, 0.800000011920929, 0.0, 0.4736842215061188, 0.0, 1.0, 0.0, 1.0, 0.0, 1.0, 1.0, 0.0, 0.7222222089767456, 0.0, 1.0, 0.0, 0.5, 0.0, 0.0, 1.0, 1.0, 0.4285714328289032, 0.0, 0.0, 0.0, 0.0, 0.3333333432674408, 0.25, 0.0, 0.6666666865348816, 1.0, 0.0, 0.0, 0.0, 0.0, 0.0, 0.0, 0.0, 0.0, 0.0, 0.5, 0.0, 0.0, 0.0, 0.0, 0.0, 0.0, 0.0, 1.0, 1.0, 0.0, 0.0, 0.0, 0.0, 0.0, 0.0, 0.0, 0.0, 0.0, 0.0, 0.0, 0.0, 0.0, 0.0, 0.0, 0.0, 0.0, 0.0, 0.0, 0.0, 0.0, 0.0, 0.0, 0.0, 0.0, 1.0, 0.0, 0.0, 0.0, 0.0, 0.0, 0.0, 0.0, 0.0, 0.0, 0.0, 1.0, 0.0, 0.0, 0.0, 0.0, 0.0, 0.0, 0.0, 0.0, 0.0, 0.0, 0.0, 0.0, 0.0, 0.0, 0.0, 0.0, 0.0, 0.0, 0.0, 0.0, 0.0, 0.0, 0.0, 0.0]\n",
      "\n"
     ]
    }
   ],
   "source": [
    "# import training_utils\n",
    "# importlib.reload(training_utils)\n",
    "from training_utils import execute_train_test\n",
    "import torch.nn as nn\n",
    "import torch.optim as optim\n",
    "\n",
    "# Setting-up training, executing training and then running tests\n",
    "batch_size = 32\n",
    "epochs = 30\n",
    "num_classes = ind_df['povo'].nunique()\n",
    "model = ViTClassifier(num_classes).to(device)\n",
    "criterion = nn.CrossEntropyLoss()\n",
    "opt = optim.Adam(model.parameters(), lr=5e-5, weight_decay=1e-5)\n",
    "model_name = 'vit_povo'\n",
    "column_name = 'povo'\n",
    "\n",
    "execute_train_test(povo_dataset, device, batch_size, epochs, num_classes, model, \\\n",
    "                   criterion, opt, model_name, column_name)"
   ]
  },
  {
   "cell_type": "code",
   "execution_count": 13,
   "id": "15cadd8d-96a2-4f7a-aa6f-6164a8787dcb",
   "metadata": {},
   "outputs": [],
   "source": [
    "# Cleaning up memory\n",
    "clean_mem([model])"
   ]
  },
  {
   "cell_type": "code",
   "execution_count": 14,
   "id": "0871d528-56a5-4773-8e47-92426a19c1cb",
   "metadata": {
    "scrolled": true
   },
   "outputs": [
    {
     "name": "stderr",
     "output_type": "stream",
     "text": [
      "Training model:   3%|▎          | 1/30 [06:45<3:15:52, 405.26s/it]"
     ]
    },
    {
     "name": "stdout",
     "output_type": "stream",
     "text": [
      "Best model saved at epoch 1\n",
      "Epoch 1, Loss: 1157.1243, Validation Accuracy: 0.5851\n"
     ]
    },
    {
     "name": "stderr",
     "output_type": "stream",
     "text": [
      "Training model:   7%|▋          | 2/30 [13:35<3:10:34, 408.37s/it]"
     ]
    },
    {
     "name": "stdout",
     "output_type": "stream",
     "text": [
      "Best model saved at epoch 2\n",
      "Epoch 2, Loss: 616.2764, Validation Accuracy: 0.8017\n"
     ]
    },
    {
     "name": "stderr",
     "output_type": "stream",
     "text": [
      "Training model:  10%|█          | 3/30 [20:25<3:04:03, 409.02s/it]"
     ]
    },
    {
     "name": "stdout",
     "output_type": "stream",
     "text": [
      "Best model saved at epoch 3\n",
      "Epoch 3, Loss: 225.7432, Validation Accuracy: 0.8996\n"
     ]
    },
    {
     "name": "stderr",
     "output_type": "stream",
     "text": [
      "Training model:  13%|█▍         | 4/30 [27:06<2:55:53, 405.92s/it]"
     ]
    },
    {
     "name": "stdout",
     "output_type": "stream",
     "text": [
      "Best model saved at epoch 4\n",
      "Epoch 4, Loss: 73.8225, Validation Accuracy: 0.9302\n"
     ]
    },
    {
     "name": "stderr",
     "output_type": "stream",
     "text": [
      "Training model:  17%|█▊         | 5/30 [33:47<2:48:21, 404.06s/it]"
     ]
    },
    {
     "name": "stdout",
     "output_type": "stream",
     "text": [
      "Best model saved at epoch 5\n",
      "Epoch 5, Loss: 39.4820, Validation Accuracy: 0.9417\n"
     ]
    },
    {
     "name": "stderr",
     "output_type": "stream",
     "text": [
      "Training model:  20%|██▏        | 6/30 [40:29<2:41:22, 403.46s/it]"
     ]
    },
    {
     "name": "stdout",
     "output_type": "stream",
     "text": [
      "Best model saved at epoch 6\n",
      "Epoch 6, Loss: 26.8176, Validation Accuracy: 0.9441\n"
     ]
    },
    {
     "name": "stderr",
     "output_type": "stream",
     "text": [
      "Training model:  23%|██▌        | 7/30 [47:28<2:36:36, 408.53s/it]"
     ]
    },
    {
     "name": "stdout",
     "output_type": "stream",
     "text": [
      "Best model saved at epoch 7\n",
      "Epoch 7, Loss: 20.3569, Validation Accuracy: 0.9480\n"
     ]
    },
    {
     "name": "stderr",
     "output_type": "stream",
     "text": [
      "Training model:  27%|██▉        | 8/30 [54:41<2:32:36, 416.22s/it]"
     ]
    },
    {
     "name": "stdout",
     "output_type": "stream",
     "text": [
      "Best model saved at epoch 8\n",
      "Epoch 8, Loss: 17.0003, Validation Accuracy: 0.9512\n"
     ]
    },
    {
     "name": "stderr",
     "output_type": "stream",
     "text": [
      "Training model:  30%|██▋      | 9/30 [1:01:51<2:27:13, 420.66s/it]"
     ]
    },
    {
     "name": "stdout",
     "output_type": "stream",
     "text": [
      "Best model saved at epoch 9\n",
      "Epoch 9, Loss: 14.7842, Validation Accuracy: 0.9611\n"
     ]
    },
    {
     "name": "stderr",
     "output_type": "stream",
     "text": [
      "Training model:  33%|██▋     | 10/30 [1:09:00<2:21:00, 423.03s/it]"
     ]
    },
    {
     "name": "stdout",
     "output_type": "stream",
     "text": [
      "Epoch 10, Loss: 25.9399, Validation Accuracy: 0.9544\n"
     ]
    },
    {
     "name": "stderr",
     "output_type": "stream",
     "text": [
      "Training model:  37%|██▉     | 11/30 [1:16:11<2:14:45, 425.53s/it]"
     ]
    },
    {
     "name": "stdout",
     "output_type": "stream",
     "text": [
      "Best model saved at epoch 11\n",
      "Epoch 11, Loss: 6.9868, Validation Accuracy: 0.9667\n"
     ]
    },
    {
     "name": "stderr",
     "output_type": "stream",
     "text": [
      "Training model:  40%|███▏    | 12/30 [1:23:20<2:07:57, 426.55s/it]"
     ]
    },
    {
     "name": "stdout",
     "output_type": "stream",
     "text": [
      "Best model saved at epoch 12\n",
      "Epoch 12, Loss: 3.0205, Validation Accuracy: 0.9679\n"
     ]
    },
    {
     "name": "stderr",
     "output_type": "stream",
     "text": [
      "Training model:  43%|███▍    | 13/30 [1:30:25<2:00:45, 426.19s/it]"
     ]
    },
    {
     "name": "stdout",
     "output_type": "stream",
     "text": [
      "Epoch 13, Loss: 3.2245, Validation Accuracy: 0.9647\n"
     ]
    },
    {
     "name": "stderr",
     "output_type": "stream",
     "text": [
      "Training model:  47%|███▋    | 14/30 [1:37:29<1:53:25, 425.36s/it]"
     ]
    },
    {
     "name": "stdout",
     "output_type": "stream",
     "text": [
      "Epoch 14, Loss: 23.4334, Validation Accuracy: 0.9425\n"
     ]
    },
    {
     "name": "stderr",
     "output_type": "stream",
     "text": [
      "Training model:  50%|████    | 15/30 [1:44:24<1:45:34, 422.31s/it]"
     ]
    },
    {
     "name": "stdout",
     "output_type": "stream",
     "text": [
      "Epoch 15, Loss: 9.4396, Validation Accuracy: 0.9405\n"
     ]
    },
    {
     "name": "stderr",
     "output_type": "stream",
     "text": [
      "Training model:  50%|████    | 15/30 [1:51:19<1:51:19, 445.32s/it]\n"
     ]
    },
    {
     "name": "stdout",
     "output_type": "stream",
     "text": [
      "Early-stopping training!\n"
     ]
    },
    {
     "data": {
      "image/png": "[encoded data removed]",
      "text/plain": [
       "<Figure size 800x400 with 2 Axes>"
      ]
     },
     "metadata": {},
     "output_type": "display_data"
    },
    {
     "name": "stdout",
     "output_type": "stream",
     "text": [
      "Per class precision: [0.97119140625, 0.93603515625, 0.912109375, 0.84326171875, 0.9892578125, 0.97802734375, 0.91552734375, 1.0, 0.7001953125, 1.0, 1.0, 0.947265625, 0.96875, 1.0, 0.98291015625, 0.9208984375, 0.8857421875, 0.91650390625, 0.9521484375, 0.966796875, 0.94140625, 0.9736328125, 0.94384765625, 0.9814453125, 1.0, 0.990234375, 0.91162109375, 0.89306640625, 0.767578125, 0.962890625, 1.0, 1.0, 1.0, 0.89208984375, 0.9404296875, 0.99072265625, 0.91357421875, 0.92041015625, 0.93701171875]\n",
      "\n",
      "Per class recall: [0.9443359375, 0.9013671875, 1.0, 0.9150390625, 1.0, 0.865234375, 1.0, 1.0, 0.94580078125, 0.93115234375, 0.98388671875, 0.98193359375, 0.91162109375, 0.73095703125, 1.0, 0.94580078125, 0.939453125, 0.990234375, 0.9833984375, 0.94580078125, 1.0, 0.9736328125, 0.9765625, 1.0, 1.0, 0.97119140625, 0.96875, 0.8623046875, 1.0, 0.9287109375, 1.0, 1.0, 0.9228515625, 0.8427734375, 0.908203125, 0.91455078125, 0.8916015625, 0.9287109375, 0.89892578125]\n",
      "\n",
      "Test accuracy: 0.9643069505691528\n",
      "\n",
      "Test per class precisions: [1.0, 0.9019607901573181, 0.9032257795333862, 1.0, 0.9852941036224365, 1.0, 1.0, 1.0, 0.939393937587738, 0.9295774698257446, 1.0, 0.976190447807312, 0.9599999785423279, 0.95652174949646, 1.0, 0.8695651888847351, 0.9473684430122375, 0.9729729890823364, 0.9545454382896423, 1.0, 0.9230769276618958, 1.0, 0.9607843160629272, 0.9772727489471436, 1.0, 1.0, 0.8888888955116272, 0.9729729890823364, 1.0, 1.0, 1.0, 1.0, 1.0, 0.9375, 0.9056603908538818, 0.9411764740943909, 0.9344262480735779, 0.9718309640884399, 0.9577465057373047]\n",
      "\n",
      "Test per class recalls: [0.9333333373069763, 0.9200000166893005, 0.9333333373069763, 0.9629629850387573, 1.0, 0.9189189076423645, 1.0, 1.0, 0.96875, 0.9850746393203735, 1.0, 1.0, 0.9599999785423279, 1.0, 1.0, 1.0, 0.9473684430122375, 1.0, 0.9767441749572754, 0.9444444179534912, 1.0, 0.9464285969734192, 0.9800000190734863, 1.0, 1.0, 0.9682539701461792, 1.0, 0.9473684430122375, 1.0, 0.9736841917037964, 1.0, 1.0, 0.8840579986572266, 0.9259259104728699, 0.9056603908538818, 0.9552238583564758, 0.949999988079071, 0.9583333134651184, 0.9714285731315613]\n",
      "\n"
     ]
    },
    {
     "name": "stderr",
     "output_type": "stream",
     "text": [
      "Computing embeddings: 100%|████| 23/23 [02:55<00:00,  7.65s/it]\n",
      "/home/lui/anaconda3/envs/ind_thesis/lib/python3.10/site-packages/sklearn/utils/deprecation.py:151: FutureWarning: 'force_all_finite' was renamed to 'ensure_all_finite' in 1.6 and will be removed in 1.8.\n",
      "  warnings.warn(\n"
     ]
    }
   ],
   "source": [
    "from training_utils import compute_classifier_embeddings\n",
    "\n",
    "# Retraining model with augmented dataset to see the difference in the results\n",
    "batch_size = 32\n",
    "epochs = 30\n",
    "num_classes = len(filtered_categories)\n",
    "model = ViTClassifier(num_classes).to(device)\n",
    "criterion = nn.CrossEntropyLoss(weight=povo_class_weights)\n",
    "opt = optim.Adam(model.parameters(), lr=5e-5, weight_decay=1e-5)\n",
    "model_name = 'balanced_vit_povo'\n",
    "column_name = 'povo'\n",
    "\n",
    "execute_train_test(povo_augmented_dataset, device, batch_size, epochs, num_classes, model, \\\n",
    "                   criterion, opt, model_name, column_name)\n",
    "\n",
    "povo_vit_trimap, povo_vit_tsne, \\\n",
    "povo_vit_umap, povo_image_indices = compute_classifier_embeddings(povo_dataloader, model, \\\n",
    "                                                                  device)"
   ]
  },
  {
   "cell_type": "code",
   "execution_count": 15,
   "id": "799005dd-9445-498d-839e-b4ab7999f97b",
   "metadata": {},
   "outputs": [],
   "source": [
    "# Cleaning up memory\n",
    "clean_mem([model])"
   ]
  },
  {
   "cell_type": "markdown",
   "id": "ef0a9205-5eaf-4bbe-ba8c-79f0d81653d8",
   "metadata": {},
   "source": [
    "#### *categoria* Column"
   ]
  },
  {
   "cell_type": "code",
   "execution_count": 16,
   "id": "04fade66-3cd8-4a50-a8f1-da9b84b1f780",
   "metadata": {},
   "outputs": [
    {
     "name": "stdout",
     "output_type": "stream",
     "text": [
      "Quantile X Data Percentage:\n",
      "Q-10: 216.60, 99.71% of data\n",
      "Q-25: 507.50, 93.33% of data\n",
      "Q-50: 1060.50, 79.68% of data\n",
      "Q-75: 1344.50, 58.09% of data\n",
      "Q-90: 2270.70, 26.50% of data\n",
      "\n"
     ]
    }
   ],
   "source": [
    "# Now rebalancing the 'categoria' column\n",
    "categoria_labels, name_to_num, num_to_name = preparing_image_labels(ind_df, 'categoria')\n",
    "categoria_dataset = ImageDataset(categoria_labels, transform=transform)\n",
    "categoria_dataloader = DataLoader(categoria_dataset, batch_size=512, shuffle=True, \\\n",
    "                                  num_workers=0, pin_memory=True)\n",
    "\n",
    "categories, categories_keys, categories_freq, qs, \\\n",
    "masks = study_class_distribution(categoria_labels)\n",
    "\n",
    "# Filtering out 'etnobotânica' (and 'armas')\n",
    "filter_out = [name_to_num['etnobotânica']]\n",
    "filtered_categories = {}\n",
    "filtered_categories_names = {}\n",
    "for c in set(name_to_num.values()) - set(filter_out):\n",
    "    filtered_categories[categories_keys[c]] = categories[categories_keys[c]]\n",
    "    filtered_categories_names[num_to_name[categories_keys[c]]] = categories[categories_keys[c]]"
   ]
  },
  {
   "cell_type": "code",
   "execution_count": 17,
   "id": "9493d23c-372a-4c29-a1b1-13bb41f7f1f9",
   "metadata": {},
   "outputs": [],
   "source": [
    "# Filtering dataframe for selected categories\n",
    "threshold_multiplier = 1.5\n",
    "minority_classes, majority_classes, labels_minority, labels_majority, \\\n",
    "categoria_augmented_dataset = filter_image_data_distribution(ind_df, \\\n",
    "                                                             filtered_categories_names, \\\n",
    "                                                             transform, threshold_multiplier, \\\n",
    "                                                             'categoria')"
   ]
  },
  {
   "cell_type": "code",
   "execution_count": 18,
   "id": "051ce382-430c-4026-8484-145c1da501d1",
   "metadata": {},
   "outputs": [
    {
     "data": {
      "image/png": "[encoded data removed]",
      "text/plain": [
       "<Figure size 1000x400 with 2 Axes>"
      ]
     },
     "metadata": {},
     "output_type": "display_data"
    }
   ],
   "source": [
    "# Plotting old and new class distributions\n",
    "from training_utils import plot_class_distributions\n",
    "\n",
    "plot_class_distributions(categories, filtered_categories, labels_minority, labels_majority, \\\n",
    "                         threshold_multiplier, 'categoria')"
   ]
  },
  {
   "cell_type": "code",
   "execution_count": 19,
   "id": "3f03e8aa-db16-4cfc-a7f3-3b0dc41f4186",
   "metadata": {},
   "outputs": [],
   "source": [
    "# Because the dataset is still unbalanced, we also create class weights for the loss function\n",
    "from training_utils import compute_class_weights\n",
    "\n",
    "categoria_class_weights = compute_class_weights(filtered_categories, labels_minority, \\\n",
    "                                                labels_majority, device, threshold_multiplier)"
   ]
  },
  {
   "cell_type": "code",
   "execution_count": null,
   "id": "b47f319d-f46f-4197-bc9b-7006224bac68",
   "metadata": {
    "scrolled": true
   },
   "outputs": [
    {
     "name": "stderr",
     "output_type": "stream",
     "text": [
      "Training model:   3%|▎       | 1/30 [03:59<1:55:44, 239.48s/it]"
     ]
    },
    {
     "name": "stdout",
     "output_type": "stream",
     "text": [
      "Best model saved at epoch 1\n",
      "Epoch 1, Loss: 380.8095, Validation Accuracy: 0.7392\n"
     ]
    },
    {
     "name": "stderr",
     "output_type": "stream",
     "text": [
      "Training model:   7%|▌       | 2/30 [07:59<1:51:53, 239.78s/it]"
     ]
    },
    {
     "name": "stdout",
     "output_type": "stream",
     "text": [
      "Best model saved at epoch 2\n",
      "Epoch 2, Loss: 197.3095, Validation Accuracy: 0.8368\n"
     ]
    },
    {
     "name": "stderr",
     "output_type": "stream",
     "text": [
      "Training model:  10%|▊       | 3/30 [11:52<1:46:32, 236.76s/it]"
     ]
    },
    {
     "name": "stdout",
     "output_type": "stream",
     "text": [
      "Best model saved at epoch 3\n",
      "Epoch 3, Loss: 114.9604, Validation Accuracy: 0.8563\n"
     ]
    },
    {
     "name": "stderr",
     "output_type": "stream",
     "text": [
      "Training model:  13%|█       | 4/30 [15:45<1:41:53, 235.15s/it]"
     ]
    },
    {
     "name": "stdout",
     "output_type": "stream",
     "text": [
      "Epoch 4, Loss: 67.2075, Validation Accuracy: 0.8545\n"
     ]
    },
    {
     "name": "stderr",
     "output_type": "stream",
     "text": [
      "Training model:  17%|█▎      | 5/30 [19:34<1:37:01, 232.87s/it]"
     ]
    },
    {
     "name": "stdout",
     "output_type": "stream",
     "text": [
      "Best model saved at epoch 5\n",
      "Epoch 5, Loss: 42.2985, Validation Accuracy: 0.8681\n"
     ]
    },
    {
     "name": "stderr",
     "output_type": "stream",
     "text": [
      "Training model:  20%|█▌      | 6/30 [23:21<1:32:25, 231.06s/it]"
     ]
    },
    {
     "name": "stdout",
     "output_type": "stream",
     "text": [
      "Epoch 6, Loss: 26.2095, Validation Accuracy: 0.8510\n"
     ]
    }
   ],
   "source": [
    "# Setting-up training, executing training and then running tests\n",
    "batch_size = 32\n",
    "epochs = 30\n",
    "num_classes = ind_df['categoria'].nunique()\n",
    "model = ViTClassifier(num_classes).to(device)\n",
    "criterion = nn.CrossEntropyLoss()\n",
    "opt = optim.Adam(model.parameters(), lr=2e-5, weight_decay=1e-5)\n",
    "model_name = 'vit_categoria'\n",
    "column_name = 'categoria'\n",
    "\n",
    "execute_train_test(categoria_dataset, device, batch_size, epochs, num_classes, model, \\\n",
    "                   criterion, opt, model_name, column_name)"
   ]
  },
  {
   "cell_type": "code",
   "execution_count": null,
   "id": "b870b664-c0e4-43b1-b2a0-b96bfd2461cf",
   "metadata": {},
   "outputs": [],
   "source": [
    "# Cleaning up memory\n",
    "clean_mem([model])"
   ]
  },
  {
   "cell_type": "code",
   "execution_count": null,
   "id": "4ddf8fac-6f67-4ea7-ab8c-8d2be9add2e1",
   "metadata": {
    "scrolled": true
   },
   "outputs": [],
   "source": [
    "# Retraining model with augmented dataset to see the difference in the results\n",
    "batch_size = 32\n",
    "epochs = 30\n",
    "num_classes = len(filtered_categories)\n",
    "model = ViTClassifier(num_classes).to(device)\n",
    "criterion = nn.CrossEntropyLoss(weight=categoria_class_weights)\n",
    "opt = optim.Adam(model.parameters(), lr=2e-5, weight_decay=1e-5)\n",
    "model_name = 'balanced_vit_categoria'\n",
    "column_name = 'categoria'\n",
    "\n",
    "execute_train_test(categoria_augmented_dataset, device, batch_size, epochs, num_classes, \\\n",
    "                   model, criterion, opt, model_name, column_name)\n",
    "\n",
    "categoria_vit_trimap, categoria_vit_tsne, categoria_vit_umap, \\\n",
    "categoria_image_indices = compute_classifier_embeddings(categoria_dataloader, model, device)"
   ]
  },
  {
   "cell_type": "code",
   "execution_count": null,
   "id": "8f58fdaa-04d0-44fc-93a0-5ebbf9b7a4d0",
   "metadata": {},
   "outputs": [],
   "source": [
    "# Cleaning up memory\n",
    "clean_mem([model])"
   ]
  },
  {
   "cell_type": "markdown",
   "id": "81730faf-1ab3-4473-9268-04b25559bc14",
   "metadata": {},
   "source": [
    "### Visualizing and Comparing Projections"
   ]
  },
  {
   "cell_type": "code",
   "execution_count": null,
   "id": "7622319c-08ac-475d-8376-c66bd3e76fec",
   "metadata": {},
   "outputs": [],
   "source": [
    "from training_utils import normalize\n",
    "\n",
    "# Normalizing data for later plot on tool\n",
    "norm_factor = 12\n",
    "vanilla_vit_trimap = normalize(vanilla_vit_trimap, norm_factor)\n",
    "vanilla_vit_tsne = normalize(vanilla_vit_tsne, norm_factor)\n",
    "vanilla_vit_umap = normalize(vanilla_vit_umap, norm_factor)\n",
    "\n",
    "povo_vit_trimap = normalize(povo_vit_trimap, norm_factor)\n",
    "povo_vit_tsne = normalize(povo_vit_tsne, norm_factor)\n",
    "povo_vit_umap = normalize(povo_vit_umap, norm_factor)\n",
    "\n",
    "categoria_vit_trimap = normalize(categoria_vit_trimap, norm_factor)\n",
    "categoria_vit_tsne = normalize(categoria_vit_tsne, norm_factor)\n",
    "categoria_vit_umap = normalize(categoria_vit_umap, norm_factor)"
   ]
  },
  {
   "cell_type": "code",
   "execution_count": null,
   "id": "63fce310-fb5f-4218-afb7-5ffcb02dbf1a",
   "metadata": {},
   "outputs": [],
   "source": [
    "import matplotlib.pyplot as plt\n",
    "\n",
    "# Visualizing resulting projections\n",
    "plt.figure(figsize=(12,8))\n",
    "plt.suptitle('Comparing Projections of ViT Models')\n",
    "\n",
    "# Plotting vanilla ViT projections\n",
    "for i, (vanilla_vit, proj_name) in enumerate(zip([vanilla_vit_trimap, \\\n",
    "                                                  vanilla_vit_tsne, vanilla_vit_umap], \\\n",
    "                                                 ['TriMap', 't-SNE', 'UMAP'])):\n",
    "    plt.subplot(3, 3, i+1)\n",
    "    plt.scatter(vanilla_vit[:, 0], vanilla_vit[:, 1], c='b')\n",
    "    plt.title(\"Vanilla ViT with \" + proj_name)\n",
    "    plt.xlabel(\"\")\n",
    "    plt.ylabel(\"\")\n",
    "    plt.xticks([])\n",
    "    plt.yticks([])\n",
    "\n",
    "# Plotting ViT fine-tuned on 'povo' projections\n",
    "for i, (povo_vit, proj_name) in enumerate(zip([povo_vit_trimap, \\\n",
    "                                               povo_vit_tsne, povo_vit_umap], \\\n",
    "                                              ['TriMap', 't-SNE', 'UMAP'])):\n",
    "    plt.subplot(3, 3, i+4)\n",
    "    plt.scatter(povo_vit[:, 0], povo_vit[:, 1], c='r')\n",
    "    plt.title(\"ViT Fine-Tuned on 'povo' with \" + proj_name)\n",
    "    plt.xlabel(\"\")\n",
    "    plt.ylabel(\"\")\n",
    "    plt.xticks([])\n",
    "    plt.yticks([])\n",
    "\n",
    "# Plotting ViT fine-tuned on 'categoria' projections\n",
    "for i, (categoria_vit, proj_name) in enumerate(zip([categoria_vit_trimap, \\\n",
    "                                                    categoria_vit_tsne, categoria_vit_umap], \\\n",
    "                                                   ['TriMap', 't-SNE', 'UMAP'])):\n",
    "    plt.subplot(3, 3, i+7)\n",
    "    plt.scatter(categoria_vit[:, 0], categoria_vit[:, 1], c='g')\n",
    "    plt.title(\"ViT Fine-Tuned on 'categoria' with \" + proj_name)\n",
    "    plt.xlabel(\"\")\n",
    "    plt.ylabel(\"\")\n",
    "    plt.xticks([])\n",
    "    plt.yticks([])\n",
    "\n",
    "plt.tight_layout()\n",
    "plt.show()"
   ]
  },
  {
   "cell_type": "markdown",
   "id": "2d358406-41c1-40ba-8580-398ff90a1872",
   "metadata": {},
   "source": [
    "### Visualizing Clusters"
   ]
  },
  {
   "cell_type": "code",
   "execution_count": null,
   "id": "7b7ccb9a-0d2f-4f97-adc5-686a4310b555",
   "metadata": {},
   "outputs": [],
   "source": [
    "# import training_utils\n",
    "# importlib.reload(training_utils)\n",
    "from training_utils import visualizing_clusters\n",
    "\n",
    "# Filtering dataframe to get only the part that contains images\n",
    "filtered_df = ind_df.loc[ind_df['image_path'].notna()]\n",
    "\n",
    "# Visualizing 'povo' cluster\n",
    "visualizing_clusters(filtered_df, povo_vit_umap, povo_image_indices, 'povo', 'UMAP')"
   ]
  },
  {
   "cell_type": "code",
   "execution_count": null,
   "id": "1a072ba0-1e61-4288-b4ff-27ad22e1c3dc",
   "metadata": {},
   "outputs": [],
   "source": [
    "# Visualizing 'categoria' cluster\n",
    "visualizing_clusters(filtered_df, categoria_vit_umap, categoria_image_indices, \\\n",
    "                     'categoria', 'UMAP')"
   ]
  },
  {
   "cell_type": "code",
   "execution_count": null,
   "id": "09ba8e8d-256f-4681-9fa8-8c1026781225",
   "metadata": {},
   "outputs": [],
   "source": [
    "# Saving outputs for visualization tool\n",
    "from training_utils import saving_outputs\n",
    "\n",
    "saving_outputs(filtered_df, povo_labels, povo_vit_umap, povo_image_indices, 'povo', \\\n",
    "               'povo_vit.csv')\n",
    "\n",
    "saving_outputs(filtered_df, categoria_labels, categoria_vit_umap, categoria_image_indices, \\\n",
    "               'categoria', 'categoria_vit.csv')"
   ]
  }
 ],
 "metadata": {
  "kernelspec": {
   "display_name": "Python 3 (ipykernel)",
   "language": "python",
   "name": "python3"
  },
  "language_info": {
   "codemirror_mode": {
    "name": "ipython",
    "version": 3
   },
   "file_extension": ".py",
   "mimetype": "text/x-python",
   "name": "python",
   "nbconvert_exporter": "python",
   "pygments_lexer": "ipython3",
   "version": "3.10.15"
  }
 },
 "nbformat": 4,
 "nbformat_minor": 5
}
