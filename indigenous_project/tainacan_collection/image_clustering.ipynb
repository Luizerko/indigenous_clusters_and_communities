{
 "cells": [
  {
   "cell_type": "code",
   "execution_count": 1,
   "id": "6ef9795d-0158-4db9-8f3a-ec9139c1f258",
   "metadata": {},
   "outputs": [
    {
     "name": "stdout",
     "output_type": "stream",
     "text": [
      "Dataframe columns: \n",
      "Index(['url', 'thumbnail', 'creation_date', 'modification_date',\n",
      "       'numero_do_item', 'tripticos', 'categoria', 'nome_do_item',\n",
      "       'nome_do_item_dic', 'colecao', 'coletor', 'doador', 'modo_de_aquisicao',\n",
      "       'data_de_aquisicao', 'ano_de_aquisicao', 'data_de_confeccao', 'autoria',\n",
      "       'nome_etnico', 'descricao', 'dimensoes', 'funcao', 'materia_prima',\n",
      "       'tecnica_confeccao', 'descritor_tematico', 'descritor_comum',\n",
      "       'numero_de_pecas', 'itens_relacionados', 'responsavel_guarda',\n",
      "       'inst_detentora', 'povo', 'autoidentificacao', 'lingua',\n",
      "       'estado_de_origem', 'geolocalizacao', 'pais_de_origem', 'exposicao',\n",
      "       'referencias', 'disponibilidade', 'qualificacao', 'historia_adm',\n",
      "       'notas_gerais', 'observacao', 'conservacao', 'image_path'],\n",
      "      dtype='object')\n"
     ]
    }
   ],
   "source": [
    "import pandas as pd\n",
    "\n",
    "# Loading dataset\n",
    "ind_df = pd.read_csv('data/indigenous_collection_processed.csv', index_col='id')\n",
    "print(f'Dataframe columns: \\n{ind_df.columns}')"
   ]
  },
  {
   "cell_type": "code",
   "execution_count": 2,
   "id": "dc645b59-5f75-4644-8482-a2aeb836d2ae",
   "metadata": {},
   "outputs": [],
   "source": [
    "import importlib\n",
    "from IPython.core.magic import register_cell_magic\n",
    "\n",
    "# Creating skip cell command\n",
    "@register_cell_magic\n",
    "def skip(line, cell):\n",
    "    return"
   ]
  },
  {
   "cell_type": "code",
   "execution_count": 3,
   "id": "bd1297d5-556c-4811-b8d4-1761e8750542",
   "metadata": {},
   "outputs": [],
   "source": [
    "# Centralizing main imports so we can run the models separately\n",
    "import random\n",
    "from tqdm.notebook import tqdm\n",
    "from PIL import Image\n",
    "\n",
    "import numpy as np\n",
    "import torch\n",
    "import torch.nn as nn\n",
    "import torch.optim as optim\n",
    "from torch.utils.data import DataLoader\n",
    "from torchvision import transforms\n",
    "\n",
    "import matplotlib.pyplot as plt\n",
    "\n",
    "from image_training_utils import *\n",
    "\n",
    "# import image_training_utils\n",
    "# importlib.reload(image_training_utils)\n",
    "# from image_training_utils import *"
   ]
  },
  {
   "cell_type": "markdown",
   "id": "561deae7-07e5-412b-86b4-4f42b9ce3b52",
   "metadata": {},
   "source": [
    "# Image Clustering"
   ]
  },
  {
   "cell_type": "markdown",
   "id": "79dfc3e7-84fa-48da-a625-239a17b0e021",
   "metadata": {},
   "source": [
    "Clustering experiments with image feature extractors. The idea is to fine-tune some pre-trained models on our dataset and then remove the last layer of the model to cluster on the embedding space projections."
   ]
  },
  {
   "cell_type": "markdown",
   "id": "6ecfe485-3be5-4694-8198-c50a3d03555e",
   "metadata": {},
   "source": [
    "## Dataset Preparation"
   ]
  },
  {
   "cell_type": "markdown",
   "id": "31a1f9c8-c490-4d69-a6e1-f8aa2d1280e7",
   "metadata": {},
   "source": [
    "For fine-tuning the model on our dataset, we are going to try a few different labels and study how they affect the generated emebdding space. For now, we focus *povo* and *categoria*."
   ]
  },
  {
   "cell_type": "code",
   "execution_count": 4,
   "id": "7ce8b405-dd10-44cd-8d6c-31d4c4d81131",
   "metadata": {},
   "outputs": [
    {
     "name": "stdout",
     "output_type": "stream",
     "text": [
      "1 corrupted images\n"
     ]
    }
   ],
   "source": [
    "# Filtering out corrupted images\n",
    "corrupted_images = []\n",
    "for index, row in ind_df.loc[ind_df['image_path'].notna()].iterrows():\n",
    "    try:\n",
    "        Image.open(row['image_path'])\n",
    "    except Exception as e:\n",
    "        corrupted_images.append(row['image_path'])\n",
    "        ind_df.loc[index, 'image_path'] = pd.NA\n",
    "print(f'{len(corrupted_images)} corrupted images')\n",
    "\n",
    "# Creating 'image_path_br' column\n",
    "ind_df['image_path_br'] = ind_df['image_path'].values\n",
    "ind_df.loc[ind_df['image_path_br'].notna(), 'image_path_br'] = \\\n",
    "    ind_df.loc[ind_df['image_path_br'].notna(), \\\n",
    "               'image_path'].apply(lambda path: \\\n",
    "                                   f\"data/br_images/{path.split('/')[-1].split('.')[0]}.png\")"
   ]
  },
  {
   "cell_type": "markdown",
   "id": "dd9804fc-d317-492a-88c1-72cad645cfb4",
   "metadata": {},
   "source": [
    "## ViT Base Patch-16"
   ]
  },
  {
   "cell_type": "markdown",
   "id": "99dd4318-0161-463e-94dc-ba1987cdb366",
   "metadata": {},
   "source": [
    "### Pre-trained Embedding Space"
   ]
  },
  {
   "cell_type": "code",
   "execution_count": 5,
   "id": "8eb70f6d-7d44-40f5-b2f5-94053a767665",
   "metadata": {
    "scrolled": true
   },
   "outputs": [],
   "source": [
    "# Getting the proper device\n",
    "device = torch.device(\"cuda\" if torch.cuda.is_available() else \"cpu\")\n",
    "\n",
    "# Building dataset for column 'povo' (though no specific column is used on off-the-shelf model)\n",
    "vit_transform = transforms.Compose([\n",
    "    transforms.ToTensor(),\n",
    "    transforms.Resize((224, 224)),\n",
    "    transforms.Normalize(mean=[0.5, 0.5, 0.5], std=[0.5, 0.5, 0.5])\n",
    "])\n",
    "povo_labels, povo_name_to_num, povo_num_to_name = preparing_image_labels(ind_df, 'povo')\n",
    "povo_dataset = ImageDataset(povo_labels, transform=vit_transform, augment=False)"
   ]
  },
  {
   "cell_type": "code",
   "execution_count": 6,
   "id": "34e247fc-988b-4850-b908-ed363357f2b7",
   "metadata": {
    "scrolled": true
   },
   "outputs": [
    {
     "name": "stderr",
     "output_type": "stream",
     "text": [
      "Computing embeddings: 100%|█████████████████████████████████████████| 23/23 [03:00<00:00,  7.86s/it]\n",
      "/home/lui/anaconda3/envs/ind_thesis/lib/python3.10/site-packages/sklearn/utils/deprecation.py:151: FutureWarning: 'force_all_finite' was renamed to 'ensure_all_finite' in 1.6 and will be removed in 1.8.\n",
      "  warnings.warn(\n"
     ]
    }
   ],
   "source": [
    "# Projecting data onto the off-the-shelf pre-trained embedding space from ViT\n",
    "from transformers import ViTModel\n",
    "\n",
    "# Loading model\n",
    "model = ViTModel.from_pretrained('google/vit-base-patch16-224-in21k')\n",
    "model.to(device)\n",
    "\n",
    "# Getting data\n",
    "povo_dataloader = DataLoader(povo_dataset, batch_size=512, shuffle=True, \\\n",
    "                             num_workers=0, pin_memory=True)\n",
    "\n",
    "# Computing image embeddings\n",
    "image_embeddings, _ = get_embeddings(model, povo_dataloader, device)\n",
    "image_embeddings = np.concatenate(image_embeddings, axis=0)\n",
    "\n",
    "# Computing data projection\n",
    "vanilla_vit_trimap, vanilla_vit_tsne, vanilla_vit_umap = data_projections(image_embeddings)\n",
    "\n",
    "# Cleaning up memory\n",
    "clean_mem([model, image_embeddings])"
   ]
  },
  {
   "cell_type": "markdown",
   "id": "3f18e80f-1305-4675-8f89-e70f6ee00187",
   "metadata": {},
   "source": [
    "### Fine-Tuning Embedding Space"
   ]
  },
  {
   "cell_type": "code",
   "execution_count": 7,
   "id": "397cc9e7-c214-4327-bc09-827d8b0413c2",
   "metadata": {},
   "outputs": [],
   "source": [
    "# Creating our own ViT classifier (multi-)head for fine-tuning\n",
    "class ViTClassifier(nn.Module):\n",
    "    def __init__(self, num_classes1, num_classes2=0, freeze=0):\n",
    "        super(ViTClassifier, self).__init__()\n",
    "        self.vit = ViTModel.from_pretrained('google/vit-base-patch16-224-in21k')\n",
    "        self.classifier1 = nn.Linear(self.vit.config.hidden_size, num_classes1)\n",
    "        self.multi_head = False\n",
    "        \n",
    "        # Multi-head architecture\n",
    "        if num_classes2 > 0:\n",
    "            self.classifier2 = nn.Linear(self.vit.config.hidden_size, num_classes2)\n",
    "            self.multi_head = True\n",
    "        \n",
    "        self.freeze_layers(freeze)\n",
    "\n",
    "    def forward(self, x):\n",
    "        outputs = self.vit(x)\n",
    "        \n",
    "        # Getting embeddings from last_hidden_state of CLS token (maybe pooler_output?)\n",
    "        embeddings = outputs['last_hidden_state'][:, 0, :]\n",
    "        # embeddings = outputs['pooler_output']\n",
    "\n",
    "        logits1 = self.classifier1(embeddings)\n",
    "        if self.multi_head:\n",
    "            logits2 = self.classifier2(embeddings)\n",
    "            return logits1, logits2\n",
    "        return logits1\n",
    "\n",
    "    # Freezing early layers so we don't lose generalization and speed up training\n",
    "    def freeze_layers(self, freeze):\n",
    "        if freeze <= 0:\n",
    "            return\n",
    "\n",
    "        # Accounting for the embedding freeze\n",
    "        freeze -= 1\n",
    "        \n",
    "        for name, param in self.vit.named_parameters():\n",
    "            if \"embeddings\" in name:\n",
    "                param.requires_grad = False\n",
    "            elif int(name.split('.')[2]) < freeze:\n",
    "                param.requires_grad = False\n",
    "            else:\n",
    "                break"
   ]
  },
  {
   "cell_type": "markdown",
   "id": "a0093a1e-f85f-48b9-b75e-391fb8cd390b",
   "metadata": {},
   "source": [
    "#### *povo* Column"
   ]
  },
  {
   "cell_type": "code",
   "execution_count": 8,
   "id": "9f1eed02-7da5-4671-8136-390d5530246d",
   "metadata": {
    "scrolled": true
   },
   "outputs": [
    {
     "name": "stdout",
     "output_type": "stream",
     "text": [
      "Quantile X Data Percentage:\n",
      "Q-10: 1.00, 99.84% of data\n",
      "Q-25: 4.00, 99.18% of data\n",
      "Q-50: 19.00, 95.96% of data\n",
      "Q-75: 65.75, 83.18% of data\n",
      "Q-90: 158.20, 63.25% of data\n",
      "\n"
     ]
    }
   ],
   "source": [
    "# Studying data distribution to filter out rare classes\n",
    "povo_categories, categories_keys, categories_freq, \\\n",
    "qs, masks = study_class_distribution(povo_labels)\n",
    "\n",
    "# Filtering classes so that we retain around 85% of data\n",
    "povo_filtered_categories = {}\n",
    "povo_filtered_categories_names = {}\n",
    "for c in masks[3][0]:\n",
    "    povo_filtered_categories[categories_keys[c]] = povo_categories[categories_keys[c]]\n",
    "    \n",
    "    povo_filtered_categories_names[povo_num_to_name[categories_keys[c]]] = \\\n",
    "    povo_categories[categories_keys[c]]"
   ]
  },
  {
   "cell_type": "code",
   "execution_count": 9,
   "id": "fd6a5e63-5680-4a09-a96e-c6fbb91b28b1",
   "metadata": {},
   "outputs": [],
   "source": [
    "# Filtering dataframe for selected categories\n",
    "threshold_multiplier = 2\n",
    "minority_classes, majority_classes, labels_minority, labels_majority, \\\n",
    "val_labels, test_labels, povo_augmented_dataset, povo_balanced_val_dataset, \\\n",
    "povo_balanced_test_dataset = filter_image_data_distribution(ind_df, \\\n",
    "                                                            povo_filtered_categories_names, \\\n",
    "                                                            vit_transform, \\\n",
    "                                                            threshold_multiplier, \\\n",
    "                                                            'povo')"
   ]
  },
  {
   "cell_type": "code",
   "execution_count": 10,
   "id": "fa94d49e-e893-4a83-8917-b34f6a83031e",
   "metadata": {
    "scrolled": true
   },
   "outputs": [
    {
     "data": {
      "image/png": "[encoded data removed]",
      "text/plain": [
       "<Figure size 1000x400 with 2 Axes>"
      ]
     },
     "metadata": {},
     "output_type": "display_data"
    }
   ],
   "source": [
    "# Plotting old and new class distributions\n",
    "plot_class_distributions(povo_categories, povo_filtered_categories, labels_minority, \\\n",
    "                         labels_majority, threshold_multiplier, 'povo')"
   ]
  },
  {
   "cell_type": "code",
   "execution_count": 11,
   "id": "be368210-2317-4991-aac4-12dc1fd6e9dc",
   "metadata": {},
   "outputs": [],
   "source": [
    "# Because the dataset is still unbalanced, we also create class weights for the loss function\n",
    "povo_class_weights = compute_class_weights(povo_filtered_categories, labels_minority, \\\n",
    "                                           labels_majority, device, threshold_multiplier)"
   ]
  },
  {
   "cell_type": "code",
   "execution_count": 12,
   "id": "08fe3bdc-df2c-40ed-b0c7-a2ac7989e256",
   "metadata": {
    "scrolled": true
   },
   "outputs": [
    {
     "name": "stderr",
     "output_type": "stream",
     "text": [
      "Training model:   5%|██▎                                          | 1/20 [04:18<1:21:42, 258.02s/it]"
     ]
    },
    {
     "name": "stdout",
     "output_type": "stream",
     "text": [
      "Best model saved at epoch 1\n",
      "Epoch 1, Loss: 1101.3755, Validation Accuracy: 0.3675\n"
     ]
    },
    {
     "name": "stderr",
     "output_type": "stream",
     "text": [
      "Training model:  10%|████▌                                        | 2/20 [08:40<1:18:12, 260.70s/it]"
     ]
    },
    {
     "name": "stdout",
     "output_type": "stream",
     "text": [
      "Best model saved at epoch 2\n",
      "Epoch 2, Loss: 814.8781, Validation Accuracy: 0.4562\n"
     ]
    },
    {
     "name": "stderr",
     "output_type": "stream",
     "text": [
      "Training model:  15%|██████▊                                      | 3/20 [13:00<1:13:49, 260.55s/it]"
     ]
    },
    {
     "name": "stdout",
     "output_type": "stream",
     "text": [
      "Best model saved at epoch 3\n",
      "Epoch 3, Loss: 631.8130, Validation Accuracy: 0.5202\n"
     ]
    },
    {
     "name": "stderr",
     "output_type": "stream",
     "text": [
      "Training model:  20%|█████████                                    | 4/20 [17:30<1:10:28, 264.28s/it]"
     ]
    },
    {
     "name": "stdout",
     "output_type": "stream",
     "text": [
      "Best model saved at epoch 4\n",
      "Epoch 4, Loss: 475.3842, Validation Accuracy: 0.5557\n"
     ]
    },
    {
     "name": "stderr",
     "output_type": "stream",
     "text": [
      "Training model:  25%|███████████▎                                 | 5/20 [21:51<1:05:43, 262.87s/it]"
     ]
    },
    {
     "name": "stdout",
     "output_type": "stream",
     "text": [
      "Best model saved at epoch 5\n",
      "Epoch 5, Loss: 341.8694, Validation Accuracy: 0.6049\n"
     ]
    },
    {
     "name": "stderr",
     "output_type": "stream",
     "text": [
      "Training model:  30%|█████████████▌                               | 6/20 [26:10<1:01:04, 261.72s/it]"
     ]
    },
    {
     "name": "stdout",
     "output_type": "stream",
     "text": [
      "Best model saved at epoch 6\n",
      "Epoch 6, Loss: 232.0569, Validation Accuracy: 0.6335\n"
     ]
    },
    {
     "name": "stderr",
     "output_type": "stream",
     "text": [
      "Training model:  35%|████████████████▍                              | 7/20 [30:30<56:34, 261.12s/it]"
     ]
    },
    {
     "name": "stdout",
     "output_type": "stream",
     "text": [
      "Best model saved at epoch 7\n",
      "Epoch 7, Loss: 154.2967, Validation Accuracy: 0.6631\n"
     ]
    },
    {
     "name": "stderr",
     "output_type": "stream",
     "text": [
      "Training model:  40%|██████████████████▊                            | 8/20 [34:45<51:49, 259.16s/it]"
     ]
    },
    {
     "name": "stdout",
     "output_type": "stream",
     "text": [
      "Epoch 8, Loss: 98.5479, Validation Accuracy: 0.6631\n"
     ]
    },
    {
     "name": "stderr",
     "output_type": "stream",
     "text": [
      "Training model:  45%|█████████████████████▏                         | 9/20 [39:02<47:22, 258.39s/it]"
     ]
    },
    {
     "name": "stdout",
     "output_type": "stream",
     "text": [
      "Epoch 9, Loss: 77.6082, Validation Accuracy: 0.6433\n"
     ]
    },
    {
     "name": "stderr",
     "output_type": "stream",
     "text": [
      "Training model:  50%|███████████████████████                       | 10/20 [43:23<43:12, 259.24s/it]"
     ]
    },
    {
     "name": "stdout",
     "output_type": "stream",
     "text": [
      "Best model saved at epoch 10\n",
      "Epoch 10, Loss: 54.7237, Validation Accuracy: 0.6680\n"
     ]
    },
    {
     "name": "stderr",
     "output_type": "stream",
     "text": [
      "Training model:  55%|█████████████████████████▎                    | 11/20 [47:44<38:56, 259.67s/it]"
     ]
    },
    {
     "name": "stdout",
     "output_type": "stream",
     "text": [
      "Best model saved at epoch 11\n",
      "Epoch 11, Loss: 35.1590, Validation Accuracy: 0.6768\n"
     ]
    },
    {
     "name": "stderr",
     "output_type": "stream",
     "text": [
      "Training model:  60%|███████████████████████████▌                  | 12/20 [52:04<34:38, 259.75s/it]"
     ]
    },
    {
     "name": "stdout",
     "output_type": "stream",
     "text": [
      "Best model saved at epoch 12\n",
      "Epoch 12, Loss: 26.2393, Validation Accuracy: 0.6788\n"
     ]
    },
    {
     "name": "stderr",
     "output_type": "stream",
     "text": [
      "Training model:  65%|█████████████████████████████▉                | 13/20 [56:27<30:25, 260.72s/it]"
     ]
    },
    {
     "name": "stdout",
     "output_type": "stream",
     "text": [
      "Best model saved at epoch 13\n",
      "Epoch 13, Loss: 16.3205, Validation Accuracy: 0.6837\n"
     ]
    },
    {
     "name": "stderr",
     "output_type": "stream",
     "text": [
      "Training model:  70%|██████████████████████████████▊             | 14/20 [1:00:48<26:04, 260.81s/it]"
     ]
    },
    {
     "name": "stdout",
     "output_type": "stream",
     "text": [
      "Best model saved at epoch 14\n",
      "Epoch 14, Loss: 11.7834, Validation Accuracy: 0.6897\n"
     ]
    },
    {
     "name": "stderr",
     "output_type": "stream",
     "text": [
      "Training model:  75%|█████████████████████████████████           | 15/20 [1:05:05<21:39, 259.82s/it]"
     ]
    },
    {
     "name": "stdout",
     "output_type": "stream",
     "text": [
      "Epoch 15, Loss: 8.9830, Validation Accuracy: 0.6867\n"
     ]
    },
    {
     "name": "stderr",
     "output_type": "stream",
     "text": [
      "Training model:  80%|███████████████████████████████████▏        | 16/20 [1:09:24<17:18, 259.66s/it]"
     ]
    },
    {
     "name": "stdout",
     "output_type": "stream",
     "text": [
      "Epoch 16, Loss: 7.1768, Validation Accuracy: 0.6887\n"
     ]
    },
    {
     "name": "stderr",
     "output_type": "stream",
     "text": [
      "Training model:  85%|█████████████████████████████████████▍      | 17/20 [1:13:35<12:51, 257.06s/it]"
     ]
    },
    {
     "name": "stdout",
     "output_type": "stream",
     "text": [
      "Epoch 17, Loss: 5.5614, Validation Accuracy: 0.6867\n"
     ]
    },
    {
     "name": "stderr",
     "output_type": "stream",
     "text": [
      "Training model:  90%|███████████████████████████████████████▌    | 18/20 [1:17:45<08:29, 254.90s/it]"
     ]
    },
    {
     "name": "stdout",
     "output_type": "stream",
     "text": [
      "Epoch 18, Loss: 4.4217, Validation Accuracy: 0.6867\n"
     ]
    },
    {
     "name": "stderr",
     "output_type": "stream",
     "text": [
      "Training model:  95%|█████████████████████████████████████████▊  | 19/20 [1:21:55<04:13, 253.43s/it]"
     ]
    },
    {
     "name": "stdout",
     "output_type": "stream",
     "text": [
      "Epoch 19, Loss: 3.5640, Validation Accuracy: 0.6867\n"
     ]
    },
    {
     "name": "stderr",
     "output_type": "stream",
     "text": [
      "Training model: 100%|████████████████████████████████████████████| 20/20 [1:26:04<00:00, 258.24s/it]\n"
     ]
    },
    {
     "name": "stdout",
     "output_type": "stream",
     "text": [
      "Epoch 20, Loss: 2.9472, Validation Accuracy: 0.6828\n"
     ]
    },
    {
     "data": {
      "image/png": "[encoded data removed]",
      "text/plain": [
       "<Figure size 800x400 with 2 Axes>"
      ]
     },
     "metadata": {},
     "output_type": "display_data"
    },
    {
     "name": "stdout",
     "output_type": "stream",
     "text": [
      "Validation accuracy: 0.689453125\n",
      "Validation average per class precision: 0.3021\n",
      "Validation average per class recall: 0.2798\n",
      "\n"
     ]
    },
    {
     "name": "stderr",
     "output_type": "stream",
     "text": [
      "/home/lui/Documents/uva/thesis/indigenous_project/tainacan_collection/image_training_utils.py:686: FutureWarning: You are using `torch.load` with `weights_only=False` (the current default value), which uses the default pickle module implicitly. It is possible to construct malicious pickle data which will execute arbitrary code during unpickling (See https://github.com/pytorch/pytorch/blob/main/SECURITY.md#untrusted-models for more details). In a future release, the default value for `weights_only` will be flipped to `True`. This limits the functions that could be executed during unpickling. Arbitrary objects will no longer be allowed to be loaded via this mode unless they are explicitly allowlisted by the user via `torch.serialization.add_safe_globals`. We recommend you start setting `weights_only=True` for any use case where you don't have full control of the loaded file. Please open an issue on GitHub for any issues related to this experimental feature.\n",
      "  checkpoint = torch.load('data/models_weights/' + model_name + '.pth', map_location=device)\n"
     ]
    },
    {
     "name": "stdout",
     "output_type": "stream",
     "text": [
      "Test accuracy: 0.692990243434906\n",
      "Test average per class precision: 0.2762\n",
      "Test average per class recall: 0.2627\n",
      "\n",
      "Test average precision on filtered classes: 0.5813410020409486\n",
      "Test average recall on filtered classes: 0.6257296084211423\n"
     ]
    }
   ],
   "source": [
    "# Recreating datasets for proper training and testing\n",
    "povo_train_val_labels = povo_labels.copy()\n",
    "povo_test_labels_aux = random.sample(list(povo_train_val_labels), \\\n",
    "                                     int(0.1*len(povo_train_val_labels)))\n",
    "povo_test_labels = {}\n",
    "for key in povo_test_labels_aux:\n",
    "    povo_test_labels[key] = povo_train_val_labels[key]\n",
    "    del povo_train_val_labels[key]\n",
    "    \n",
    "povo_train_val_dataset = ImageDataset(povo_train_val_labels, transform=vit_transform, \\\n",
    "                                      augment=False)\n",
    "povo_test_dataset = ImageDataset(povo_test_labels, transform=vit_transform, augment=False)\n",
    "\n",
    "# Setting-up training, executing training and then running tests\n",
    "batch_size = 32\n",
    "epochs = 20\n",
    "num_classes = ind_df['povo'].nunique()\n",
    "model = ViTClassifier(num_classes).to(device)\n",
    "criterion = nn.CrossEntropyLoss()\n",
    "opt = optim.Adam(model.parameters(), lr=5e-5, weight_decay=2e-6)\n",
    "model_name = 'vit_povo'\n",
    "column_name = 'povo'\n",
    "\n",
    "test_prec, test_rec = execute_train_test(povo_train_val_dataset, povo_test_dataset, device, \\\n",
    "                                         batch_size, epochs, num_classes, model, criterion, \\\n",
    "                                         opt, model_name, column_name)\n",
    "prec_rec_on_selected_classes(povo_categories, povo_filtered_categories, test_prec, test_rec)\n",
    "\n",
    "# Cleaning up memory\n",
    "clean_mem([model])"
   ]
  },
  {
   "cell_type": "code",
   "execution_count": 13,
   "id": "0871d528-56a5-4773-8e47-92426a19c1cb",
   "metadata": {
    "scrolled": true
   },
   "outputs": [
    {
     "name": "stderr",
     "output_type": "stream",
     "text": [
      "Training model:   5%|██▎                                          | 1/20 [07:00<2:13:01, 420.05s/it]"
     ]
    },
    {
     "name": "stdout",
     "output_type": "stream",
     "text": [
      "Best model saved at epoch 1\n",
      "Epoch 1, Loss: 1395.8040, Validation Accuracy: 0.4319\n"
     ]
    },
    {
     "name": "stderr",
     "output_type": "stream",
     "text": [
      "Training model:  10%|████▌                                        | 2/20 [14:06<2:07:05, 423.65s/it]"
     ]
    },
    {
     "name": "stdout",
     "output_type": "stream",
     "text": [
      "Best model saved at epoch 2\n",
      "Epoch 2, Loss: 1066.9088, Validation Accuracy: 0.5603\n"
     ]
    },
    {
     "name": "stderr",
     "output_type": "stream",
     "text": [
      "Training model:  15%|██████▊                                      | 3/20 [21:12<2:00:21, 424.79s/it]"
     ]
    },
    {
     "name": "stdout",
     "output_type": "stream",
     "text": [
      "Best model saved at epoch 3\n",
      "Epoch 3, Loss: 753.3412, Validation Accuracy: 0.6260\n"
     ]
    },
    {
     "name": "stderr",
     "output_type": "stream",
     "text": [
      "Training model:  20%|█████████                                    | 4/20 [28:11<1:52:40, 422.54s/it]"
     ]
    },
    {
     "name": "stdout",
     "output_type": "stream",
     "text": [
      "Best model saved at epoch 4\n",
      "Epoch 4, Loss: 450.4153, Validation Accuracy: 0.6808\n"
     ]
    },
    {
     "name": "stderr",
     "output_type": "stream",
     "text": [
      "Training model:  25%|███████████▎                                 | 5/20 [35:09<1:45:14, 420.99s/it]"
     ]
    },
    {
     "name": "stdout",
     "output_type": "stream",
     "text": [
      "Best model saved at epoch 5\n",
      "Epoch 5, Loss: 225.7264, Validation Accuracy: 0.7027\n"
     ]
    },
    {
     "name": "stderr",
     "output_type": "stream",
     "text": [
      "Training model:  30%|█████████████▌                               | 6/20 [42:02<1:37:32, 418.06s/it]"
     ]
    },
    {
     "name": "stdout",
     "output_type": "stream",
     "text": [
      "Epoch 6, Loss: 107.6352, Validation Accuracy: 0.6901\n"
     ]
    },
    {
     "name": "stderr",
     "output_type": "stream",
     "text": [
      "Training model:  35%|███████████████▋                             | 7/20 [49:00<1:30:35, 418.14s/it]"
     ]
    },
    {
     "name": "stdout",
     "output_type": "stream",
     "text": [
      "Best model saved at epoch 7\n",
      "Epoch 7, Loss: 57.2378, Validation Accuracy: 0.7105\n"
     ]
    },
    {
     "name": "stderr",
     "output_type": "stream",
     "text": [
      "Training model:  40%|██████████████████                           | 8/20 [55:34<1:22:05, 410.43s/it]"
     ]
    },
    {
     "name": "stdout",
     "output_type": "stream",
     "text": [
      "Epoch 8, Loss: 36.9797, Validation Accuracy: 0.7105\n"
     ]
    },
    {
     "name": "stderr",
     "output_type": "stream",
     "text": [
      "Training model:  45%|███████████████████▎                       | 9/20 [1:02:09<1:14:21, 405.58s/it]"
     ]
    },
    {
     "name": "stdout",
     "output_type": "stream",
     "text": [
      "Best model saved at epoch 9\n",
      "Epoch 9, Loss: 25.5339, Validation Accuracy: 0.7214\n"
     ]
    },
    {
     "name": "stderr",
     "output_type": "stream",
     "text": [
      "Training model:  50%|█████████████████████                     | 10/20 [1:08:39<1:06:50, 401.01s/it]"
     ]
    },
    {
     "name": "stdout",
     "output_type": "stream",
     "text": [
      "Epoch 10, Loss: 18.9628, Validation Accuracy: 0.6995\n"
     ]
    },
    {
     "name": "stderr",
     "output_type": "stream",
     "text": [
      "Training model:  55%|████████████████████████▏                   | 11/20 [1:15:12<59:44, 398.27s/it]"
     ]
    },
    {
     "name": "stdout",
     "output_type": "stream",
     "text": [
      "Epoch 11, Loss: 24.1516, Validation Accuracy: 0.6792\n"
     ]
    },
    {
     "name": "stderr",
     "output_type": "stream",
     "text": [
      "Training model:  55%|███████████████████████                   | 11/20 [1:21:42<1:06:51, 445.69s/it]\n"
     ]
    },
    {
     "name": "stdout",
     "output_type": "stream",
     "text": [
      "Early-stopping training!\n"
     ]
    },
    {
     "data": {
      "image/png": "[encoded data removed]",
      "text/plain": [
       "<Figure size 800x400 with 2 Axes>"
      ]
     },
     "metadata": {},
     "output_type": "display_data"
    },
    {
     "name": "stdout",
     "output_type": "stream",
     "text": [
      "Validation accuracy: 0.7216796875\n",
      "Validation average per class precision: 0.7472\n",
      "Validation average per class recall: 0.7098\n",
      "\n",
      "Test accuracy: 0.7055749297142029\n",
      "Test average per class precision: 0.6973\n",
      "Test average per class recall: 0.7015\n",
      "\n"
     ]
    },
    {
     "name": "stderr",
     "output_type": "stream",
     "text": [
      "Computing embeddings: 100%|█████████████████████████████████████████| 23/23 [02:43<00:00,  7.11s/it]\n",
      "/home/lui/anaconda3/envs/ind_thesis/lib/python3.10/site-packages/sklearn/utils/deprecation.py:151: FutureWarning: 'force_all_finite' was renamed to 'ensure_all_finite' in 1.6 and will be removed in 1.8.\n",
      "  warnings.warn(\n"
     ]
    }
   ],
   "source": [
    "# Retraining model with augmented dataset to see the difference in the results\n",
    "batch_size = 32\n",
    "epochs = 20\n",
    "num_classes = len(povo_filtered_categories)\n",
    "model = ViTClassifier(num_classes).to(device)\n",
    "criterion = nn.CrossEntropyLoss(weight=povo_class_weights)\n",
    "opt = optim.Adam(model.parameters(), lr=2e-5, weight_decay=2e-6)\n",
    "model_name = 'balanced_vit_povo'\n",
    "column_name = 'povo'\n",
    "\n",
    "execute_train_test(povo_augmented_dataset, povo_balanced_test_dataset, device, batch_size, \\\n",
    "                   epochs, num_classes, model, criterion, opt, model_name, column_name, \\\n",
    "                   povo_balanced_val_dataset)\n",
    "\n",
    "povo_vit_trimap, povo_vit_tsne, \\\n",
    "povo_vit_umap, povo_image_indices = compute_classifier_embeddings(povo_dataloader, model, \\\n",
    "                                                                  device)\n",
    "\n",
    "# Cleaning up memory\n",
    "clean_mem([model])"
   ]
  },
  {
   "cell_type": "code",
   "execution_count": null,
   "id": "de4ae93b-0c01-4264-8334-042474bd2b70",
   "metadata": {
    "scrolled": true
   },
   "outputs": [
    {
     "name": "stderr",
     "output_type": "stream",
     "text": [
      "Training model:   5%|██▎                                          | 1/20 [05:19<1:41:08, 319.39s/it]"
     ]
    },
    {
     "name": "stdout",
     "output_type": "stream",
     "text": [
      "Best model saved at epoch 1\n",
      "Epoch 1, Loss: 1439.3541, Validation Accuracy: 0.3928\n"
     ]
    },
    {
     "name": "stderr",
     "output_type": "stream",
     "text": [
      "Training model:  10%|████▌                                        | 2/20 [10:35<1:35:11, 317.31s/it]"
     ]
    },
    {
     "name": "stdout",
     "output_type": "stream",
     "text": [
      "Best model saved at epoch 2\n",
      "Epoch 2, Loss: 1166.1032, Validation Accuracy: 0.4898\n"
     ]
    },
    {
     "name": "stderr",
     "output_type": "stream",
     "text": [
      "Training model:  15%|██████▊                                      | 3/20 [15:50<1:29:37, 316.33s/it]"
     ]
    },
    {
     "name": "stdout",
     "output_type": "stream",
     "text": [
      "Best model saved at epoch 3\n",
      "Epoch 3, Loss: 904.7330, Validation Accuracy: 0.5696\n"
     ]
    },
    {
     "name": "stderr",
     "output_type": "stream",
     "text": [
      "Training model:  20%|█████████                                    | 4/20 [21:17<1:25:32, 320.77s/it]"
     ]
    },
    {
     "name": "stdout",
     "output_type": "stream",
     "text": [
      "Best model saved at epoch 4\n",
      "Epoch 4, Loss: 642.4938, Validation Accuracy: 0.6385\n"
     ]
    },
    {
     "name": "stderr",
     "output_type": "stream",
     "text": [
      "Training model:  25%|███████████▎                                 | 5/20 [26:54<1:21:36, 326.41s/it]"
     ]
    },
    {
     "name": "stdout",
     "output_type": "stream",
     "text": [
      "Best model saved at epoch 5\n",
      "Epoch 5, Loss: 400.1668, Validation Accuracy: 0.6729\n"
     ]
    },
    {
     "name": "stderr",
     "output_type": "stream",
     "text": [
      "Training model:  30%|█████████████▌                               | 6/20 [32:29<1:16:51, 329.42s/it]"
     ]
    },
    {
     "name": "stdout",
     "output_type": "stream",
     "text": [
      "Best model saved at epoch 6\n",
      "Epoch 6, Loss: 217.1813, Validation Accuracy: 0.7058\n"
     ]
    },
    {
     "name": "stderr",
     "output_type": "stream",
     "text": [
      "Training model:  35%|███████████████▋                             | 7/20 [38:01<1:11:30, 330.06s/it]"
     ]
    },
    {
     "name": "stdout",
     "output_type": "stream",
     "text": [
      "Best model saved at epoch 7\n",
      "Epoch 7, Loss: 111.9521, Validation Accuracy: 0.7121\n"
     ]
    },
    {
     "name": "stderr",
     "output_type": "stream",
     "text": [
      "Training model:  40%|██████████████████                           | 8/20 [43:33<1:06:09, 330.82s/it]"
     ]
    },
    {
     "name": "stdout",
     "output_type": "stream",
     "text": [
      "Best model saved at epoch 8\n",
      "Epoch 8, Loss: 60.5886, Validation Accuracy: 0.7183\n"
     ]
    },
    {
     "name": "stderr",
     "output_type": "stream",
     "text": [
      "Training model:  45%|████████████████████▎                        | 9/20 [49:04<1:00:39, 330.87s/it]"
     ]
    },
    {
     "name": "stdout",
     "output_type": "stream",
     "text": [
      "Epoch 9, Loss: 36.7211, Validation Accuracy: 0.7183\n"
     ]
    }
   ],
   "source": [
    "# Training partially frozen model on balanced dataset to see the difference in results\n",
    "batch_size = 32\n",
    "epochs = 20\n",
    "num_classes = len(povo_filtered_categories)\n",
    "freeze = 7\n",
    "model = ViTClassifier(num_classes, freeze=freeze).to(device)\n",
    "criterion = nn.CrossEntropyLoss(weight=povo_class_weights)\n",
    "opt = optim.Adam(model.parameters(), lr=2e-5, weight_decay=2e-6)\n",
    "model_name = 'frozen_vit_povo'\n",
    "column_name = 'povo'\n",
    "\n",
    "execute_train_test(povo_augmented_dataset, povo_balanced_test_dataset, device, batch_size, \\\n",
    "                   epochs, num_classes, model, criterion, opt, model_name, column_name, \\\n",
    "                   povo_balanced_val_dataset)\n",
    "\n",
    "# Cleaning up memory\n",
    "clean_mem([model])"
   ]
  },
  {
   "cell_type": "markdown",
   "id": "ef0a9205-5eaf-4bbe-ba8c-79f0d81653d8",
   "metadata": {},
   "source": [
    "#### *categoria* Column"
   ]
  },
  {
   "cell_type": "code",
   "execution_count": null,
   "id": "04fade66-3cd8-4a50-a8f1-da9b84b1f780",
   "metadata": {},
   "outputs": [],
   "source": [
    "# Now rebalancing the 'categoria' column\n",
    "categoria_labels, categoria_name_to_num, categoria_num_to_name = \\\n",
    "preparing_image_labels(ind_df, 'categoria')\n",
    "categoria_dataset = ImageDataset(categoria_labels, transform=vit_transform)\n",
    "categoria_dataloader = DataLoader(categoria_dataset, batch_size=512, shuffle=True, \\\n",
    "                                  num_workers=0, pin_memory=True)\n",
    "\n",
    "categoria_categories, categories_keys, categories_freq, qs, \\\n",
    "masks = study_class_distribution(categoria_labels)\n",
    "\n",
    "# Filtering out 'etnobotânica' (and 'armas')\n",
    "filter_out = [categoria_name_to_num['etnobotânica']]\n",
    "categoria_filtered_categories = {}\n",
    "categoria_filtered_categories_names = {}\n",
    "for c in set(categoria_name_to_num.values()) - set(filter_out):\n",
    "    categoria_filtered_categories[categories_keys[c]] = \\\n",
    "    categoria_categories[categories_keys[c]]\n",
    "    \n",
    "    categoria_filtered_categories_names[categoria_num_to_name[categories_keys[c]]] = \\\n",
    "    categoria_categories[categories_keys[c]]"
   ]
  },
  {
   "cell_type": "code",
   "execution_count": null,
   "id": "9493d23c-372a-4c29-a1b1-13bb41f7f1f9",
   "metadata": {},
   "outputs": [],
   "source": [
    "# Filtering dataframe for selected categories\n",
    "threshold_multiplier = 1.5\n",
    "minority_classes, majority_classes, labels_minority, labels_majority, val_labels, \\\n",
    "test_labels, categoria_augmented_dataset, categoria_balanced_val_dataset, \\\n",
    "categoria_balanced_test_dataset = \\\n",
    "filter_image_data_distribution(ind_df, categoria_filtered_categories_names, vit_transform, \\\n",
    "                               threshold_multiplier, 'categoria')"
   ]
  },
  {
   "cell_type": "code",
   "execution_count": null,
   "id": "051ce382-430c-4026-8484-145c1da501d1",
   "metadata": {},
   "outputs": [],
   "source": [
    "# Plotting old and new class distributions\n",
    "plot_class_distributions(categoria_categories, categoria_filtered_categories, \\\n",
    "                         labels_minority, labels_majority, threshold_multiplier, 'categoria')"
   ]
  },
  {
   "cell_type": "code",
   "execution_count": null,
   "id": "3f03e8aa-db16-4cfc-a7f3-3b0dc41f4186",
   "metadata": {},
   "outputs": [],
   "source": [
    "# Because the dataset is still unbalanced, we also create class weights for the loss function\n",
    "categoria_class_weights = compute_class_weights(categoria_filtered_categories, \\\n",
    "                                                labels_minority, labels_majority, device, \\\n",
    "                                                threshold_multiplier)"
   ]
  },
  {
   "cell_type": "code",
   "execution_count": null,
   "id": "b47f319d-f46f-4197-bc9b-7006224bac68",
   "metadata": {
    "scrolled": true
   },
   "outputs": [],
   "source": [
    "# Recreating datasets for proper training and testing\n",
    "categoria_train_val_labels = categoria_labels.copy()\n",
    "categoria_test_labels_aux = random.sample(list(categoria_train_val_labels), \\\n",
    "                                          int(0.1*len(categoria_train_val_labels)))\n",
    "categoria_test_labels = {}\n",
    "for key in categoria_test_labels_aux:\n",
    "    categoria_test_labels[key] = categoria_train_val_labels[key]\n",
    "    del categoria_train_val_labels[key]\n",
    "    \n",
    "categoria_train_val_dataset = ImageDataset(categoria_train_val_labels, \\\n",
    "                                           transform=vit_transform, augment=False)\n",
    "categoria_test_dataset = ImageDataset(categoria_test_labels, \\\n",
    "                                      transform=vit_transform, augment=False)\n",
    "\n",
    "# Setting-up training, executing training and then running tests\n",
    "batch_size = 32\n",
    "epochs = 20\n",
    "num_classes = ind_df['categoria'].nunique()\n",
    "model = ViTClassifier(num_classes).to(device)\n",
    "criterion = nn.CrossEntropyLoss()\n",
    "opt = optim.Adam(model.parameters(), lr=1e-5, weight_decay=2e-6)\n",
    "model_name = 'vit_categoria'\n",
    "column_name = 'categoria'\n",
    "\n",
    "test_prec, test_rec = execute_train_test(categoria_train_val_dataset, categoria_test_dataset, \\\n",
    "                                         device, batch_size, epochs, num_classes, model, \\\n",
    "                                         criterion, opt, model_name, column_name)\n",
    "prec_rec_on_selected_classes(categoria_categories, categoria_filtered_categories, test_prec, \\\n",
    "                             test_rec)\n",
    "\n",
    "# Cleaning up memory\n",
    "clean_mem([model])"
   ]
  },
  {
   "cell_type": "code",
   "execution_count": null,
   "id": "4ddf8fac-6f67-4ea7-ab8c-8d2be9add2e1",
   "metadata": {
    "scrolled": true
   },
   "outputs": [],
   "source": [
    "# Retraining model with augmented dataset to see the difference in the results\n",
    "batch_size = 16\n",
    "epochs = 20\n",
    "num_classes = len(categoria_filtered_categories)\n",
    "model = ViTClassifier(num_classes).to(device)\n",
    "criterion = nn.CrossEntropyLoss(weight=categoria_class_weights)\n",
    "opt = optim.Adam(model.parameters(), lr=3e-6, weight_decay=1e-6)\n",
    "model_name = 'balanced_vit_categoria'\n",
    "column_name = 'categoria'\n",
    "\n",
    "execute_train_test(categoria_augmented_dataset, categoria_balanced_test_dataset, device, \\\n",
    "                   batch_size, epochs, num_classes, model, criterion, opt, model_name, \\\n",
    "                   column_name, categoria_balanced_val_dataset)\n",
    "\n",
    "categoria_vit_trimap, categoria_vit_tsne, categoria_vit_umap, \\\n",
    "categoria_image_indices = compute_classifier_embeddings(categoria_dataloader, model, device)\n",
    "\n",
    "# Cleaning up memory\n",
    "clean_mem([model])"
   ]
  },
  {
   "cell_type": "code",
   "execution_count": null,
   "id": "8f58fdaa-04d0-44fc-93a0-5ebbf9b7a4d0",
   "metadata": {},
   "outputs": [],
   "source": [
    "# Training partially frozen model on balanced dataset to see the difference in results\n",
    "batch_size = 16\n",
    "epochs = 20\n",
    "num_classes = len(categoria_filtered_categories)\n",
    "freeze = 7\n",
    "model = ViTClassifier(num_classes, freeze=freeze).to(device)\n",
    "criterion = nn.CrossEntropyLoss(weight=categoria_class_weights)\n",
    "opt = optim.Adam(model.parameters(), lr=3e-6, weight_decay=1e-6)\n",
    "model_name = 'frozen_vit_categoria'\n",
    "column_name = 'categoria'\n",
    "\n",
    "execute_train_test(categoria_augmented_dataset, categoria_balanced_test_dataset, device, \\\n",
    "                   batch_size, epochs, num_classes, model, criterion, opt, model_name, \\\n",
    "                   column_name, categoria_balanced_val_dataset)\n",
    "\n",
    "# Cleaning up memory\n",
    "clean_mem([model])"
   ]
  },
  {
   "cell_type": "markdown",
   "id": "6c773629-dfd3-43ec-8e5a-c9e8e4117fa7",
   "metadata": {},
   "source": [
    "#### Multi-Head Training"
   ]
  },
  {
   "cell_type": "code",
   "execution_count": null,
   "id": "a574bade-683d-42b5-805a-4e1a41a89c61",
   "metadata": {
    "scrolled": true
   },
   "outputs": [],
   "source": [
    "# Getting data that passes both heads' data-filters\n",
    "povo_set = set(np.array(list(povo_labels.keys()))\\\n",
    "                [np.where(np.isin(np.array(list(povo_labels.values())), \\\n",
    "                np.array(list(povo_filtered_categories.keys()))))[0]])\n",
    "categoria_set = set(np.array(list(categoria_labels.keys()))\\\n",
    "                    [np.where(np.isin(np.array(list(categoria_labels.values())), \\\n",
    "                    np.array(list(categoria_filtered_categories.keys()))))[0]])\n",
    "multi_head_keys = [str(x) for x in povo_set.intersection(categoria_set)]\n",
    "\n",
    "# Studying individual and joint classes' distributions\n",
    "povo_freq = {}\n",
    "categoria_freq = {}\n",
    "multi_freq = {}\n",
    "for key in multi_head_keys:\n",
    "    try:\n",
    "        povo_freq[povo_labels[key]] += 1\n",
    "    except:\n",
    "        povo_freq[povo_labels[key]] = 1\n",
    "\n",
    "    try:\n",
    "        categoria_freq[categoria_labels[key]] += 1\n",
    "    except:\n",
    "        categoria_freq[categoria_labels[key]] = 1\n",
    "\n",
    "    try:\n",
    "        multi_freq[f'{(povo_labels[key], categoria_labels[key])}'] += 1\n",
    "    except:\n",
    "        multi_freq[f'{(povo_labels[key], categoria_labels[key])}'] = 1\n",
    "\n",
    "# Utility function to plot rows on data distribution plot\n",
    "def row_bar_plot(col_freq, name, row, rows=3, cols=1, remove_xticks=False):\n",
    "    plt.subplot(rows, cols, row)\n",
    "    plt.bar(list(col_freq.keys()), list(col_freq.values()))\n",
    "    plt.title(name)\n",
    "\n",
    "    if remove_xticks:\n",
    "        plt.xlabel(\"\")\n",
    "        plt.xticks([])\n",
    "\n",
    "plt.figure(figsize=(10,6))\n",
    "plt.suptitle('Classes Distributions for Multi-Head Data')\n",
    "\n",
    "row_bar_plot(povo_freq, \"'povo' Column\", 1)\n",
    "row_bar_plot(categoria_freq, \"'categoria' Column\", 2)\n",
    "row_bar_plot(multi_freq, \"Both Columns (Joint Distribution)\", 3, remove_xticks=True)\n",
    "\n",
    "plt.tight_layout()\n",
    "plt.show()"
   ]
  },
  {
   "cell_type": "code",
   "execution_count": null,
   "id": "dfa01612-aadc-4200-ae15-dcfb01d448bf",
   "metadata": {
    "scrolled": true
   },
   "outputs": [],
   "source": [
    "# Because of the even worse degree of unbalanced data on the joint distribution, we balance\n",
    "# the dataset taking the 'povo' column into consideration and study the new joint distribution\n",
    "multi_povo_labels = {}\n",
    "multi_categoria_labels = {}\n",
    "for key in multi_head_keys:\n",
    "    multi_povo_labels[key] = povo_labels[key]\n",
    "    multi_categoria_labels[key] = categoria_labels[key]\n",
    "\n",
    "# Reusing previous dataset infrastructure to build multi-label dataset\n",
    "multi_povo_categories, categories_keys, categories_freq, \\\n",
    "qs, masks = study_class_distribution(multi_povo_labels)\n",
    "multi_povo_filtered_categories = multi_povo_categories\n",
    "multi_povo_filtered_categories_names = {}\n",
    "for c in categories_keys:\n",
    "    multi_povo_filtered_categories_names[povo_num_to_name[c]] = multi_povo_categories[c]\n",
    "\n",
    "multi_categoria_categories, categories_keys, categories_freq, \\\n",
    "qs, masks = study_class_distribution(multi_categoria_labels)\n",
    "multi_categoria_filtered_categories = multi_categoria_categories\n",
    "multi_categoria_filtered_categories_names = {}\n",
    "for c in categories_keys:\n",
    "    multi_categoria_filtered_categories_names[categoria_num_to_name[c]] = \\\n",
    "    multi_categoria_categories[c]"
   ]
  },
  {
   "cell_type": "code",
   "execution_count": null,
   "id": "8ffb1c1a-b60b-4a08-82f0-2484d837e78d",
   "metadata": {
    "scrolled": true
   },
   "outputs": [],
   "source": [
    "# Filtering dataframe for selected categories\n",
    "threshold_multiplier = 2\n",
    "minority_classes, majority_classes, labels_minority, labels_majority, \\\n",
    "val_labels, test_labels, multi_augmented_dataset, multi_balanced_val_dataset, \\\n",
    "multi_balanced_test_dataset = \\\n",
    "multihead_filter_image_data_distribution(ind_df, [multi_povo_filtered_categories_names, \\\n",
    "                                         multi_categoria_filtered_categories_names], \\\n",
    "                                         vit_transform, threshold_multiplier, \\\n",
    "                                         ['povo', 'categoria'])\n",
    "\n",
    "# Plotting old and new class distributions\n",
    "multihead_plot_class_distributions(multi_povo_categories, multi_povo_filtered_categories, \\\n",
    "                                   labels_minority, labels_majority, threshold_multiplier, \\\n",
    "                                   'povo')\n",
    "\n",
    "multihead_plot_class_distributions(multi_categoria_categories, \\\n",
    "                                   multi_categoria_filtered_categories, \\\n",
    "                                   labels_minority, labels_majority, threshold_multiplier, \\\n",
    "                                   'categoria')"
   ]
  },
  {
   "cell_type": "code",
   "execution_count": null,
   "id": "dfb11d70-889b-43f1-819b-12118d21e6f6",
   "metadata": {},
   "outputs": [],
   "source": [
    "# Because the dataset is still unbalanced, we also create class weights for the loss function\n",
    "multi_povo_class_weights = multihead_compute_class_weights(multi_povo_filtered_categories, \\\n",
    "                                                           labels_minority, labels_majority, \\\n",
    "                                                           device, threshold_multiplier, \\\n",
    "                                                           'povo')\n",
    "\n",
    "multi_categoria_class_weights = \\\n",
    "multihead_compute_class_weights(multi_categoria_filtered_categories, labels_minority, \\\n",
    "                                labels_majority, device, threshold_multiplier,'categoria')"
   ]
  },
  {
   "cell_type": "code",
   "execution_count": null,
   "id": "28f343bf-bbd9-496e-9f95-b1a14b914287",
   "metadata": {
    "scrolled": true
   },
   "outputs": [],
   "source": [
    "# Training multi-head model on balanced dataset to see the difference in results\n",
    "batch_size = 16\n",
    "epochs = 20\n",
    "num_classes = [len(multi_povo_filtered_categories), len(multi_categoria_filtered_categories)]\n",
    "model = ViTClassifier(num_classes[0], num_classes[1]).to(device)\n",
    "criterions = [nn.CrossEntropyLoss(weight=multi_povo_class_weights), \\\n",
    "              nn.CrossEntropyLoss(weight=multi_categoria_class_weights)]\n",
    "opt = optim.Adam(model.parameters(), lr=3e-6, weight_decay=1e-6)\n",
    "model_name = 'multihead_vit'\n",
    "column_names = ['povo', 'categoria']\n",
    "arch_name = 'ViT'\n",
    "head_weights = [0.5, 0.5]\n",
    "\n",
    "multihead_execute_train_test(multi_augmented_dataset, multi_balanced_test_dataset, device, \\\n",
    "                             batch_size, epochs, num_classes, model, \\\n",
    "                             criterions, opt, model_name, column_names, \\\n",
    "                             multi_balanced_val_dataset, arch_name, head_weights)\n",
    "\n",
    "# Cleaning up memory\n",
    "clean_mem([model])"
   ]
  },
  {
   "cell_type": "markdown",
   "id": "81730faf-1ab3-4473-9268-04b25559bc14",
   "metadata": {},
   "source": [
    "### Visualizing and Comparing Projections"
   ]
  },
  {
   "cell_type": "code",
   "execution_count": null,
   "id": "7622319c-08ac-475d-8376-c66bd3e76fec",
   "metadata": {},
   "outputs": [],
   "source": [
    "# Normalizing data for later plot on tool\n",
    "norm_factor = 12\n",
    "vanilla_vit_trimap = normalize(vanilla_vit_trimap, norm_factor)\n",
    "vanilla_vit_tsne = normalize(vanilla_vit_tsne, norm_factor)\n",
    "vanilla_vit_umap = normalize(vanilla_vit_umap, norm_factor)\n",
    "\n",
    "povo_vit_trimap = normalize(povo_vit_trimap, norm_factor)\n",
    "povo_vit_tsne = normalize(povo_vit_tsne, norm_factor)\n",
    "povo_vit_umap = normalize(povo_vit_umap, norm_factor)\n",
    "\n",
    "categoria_vit_trimap = normalize(categoria_vit_trimap, norm_factor)\n",
    "categoria_vit_tsne = normalize(categoria_vit_tsne, norm_factor)\n",
    "categoria_vit_umap = normalize(categoria_vit_umap, norm_factor)"
   ]
  },
  {
   "cell_type": "code",
   "execution_count": null,
   "id": "63fce310-fb5f-4218-afb7-5ffcb02dbf1a",
   "metadata": {},
   "outputs": [],
   "source": [
    "# Utility function to plot rows on projection comparison plot\n",
    "def row_scatter_plot(projs, proj_names, row, color, rows=3, cols=3):\n",
    "    for i, (proj, proj_name) in enumerate(zip(projs, proj_names)):\n",
    "        plt.subplot(rows, cols, i+1+(cols*(row-1)))\n",
    "        plt.scatter(proj[:, 0], proj[:, 1], c=color)\n",
    "        plt.title(f\"{proj_name}\")\n",
    "        plt.xlabel(\"\")\n",
    "        plt.ylabel(\"\")\n",
    "        plt.xticks([])\n",
    "        plt.yticks([])\n",
    "\n",
    "# Visualizing resulting projections\n",
    "plt.figure(figsize=(12,8))\n",
    "plt.suptitle('Comparing Projections of ViT Models')\n",
    "\n",
    "# Plotting vanilla ViT projections\n",
    "projs = [vanilla_vit_trimap, vanilla_vit_tsne, vanilla_vit_umap]\n",
    "proj_names = ['Vanilla ViT with TriMap', 'Vanilla ViT with t-SNE', 'Vanilla ViT with UMAP']\n",
    "row_scatter_plot(projs, proj_names, 1, 'b')\n",
    "\n",
    "# Plotting ViT fine-tuned on 'povo' projections\n",
    "projs = [povo_vit_trimap, povo_vit_tsne, povo_vit_umap]\n",
    "proj_names = [\"ViT Fine-Tuned on 'povo' with TriMap\", \"ViT Fine-Tuned on 'povo' with t-SNE\", \\\n",
    "              \"ViT Fine-Tuned on 'povo' with UMAP\"]\n",
    "row_scatter_plot(projs, proj_names, 2, 'r')\n",
    "\n",
    "# Plotting ViT fine-tuned on 'categoria' projections\n",
    "projs = [categoria_vit_trimap, categoria_vit_tsne, categoria_vit_umap]\n",
    "proj_names = [\"ViT Fine-Tuned on 'categoria' with TriMap\", \\\n",
    "              \"ViT Fine-Tuned on 'categoria' with t-SNE\", \\\n",
    "              \"ViT Fine-Tuned on 'categoria' with UMAP\"]\n",
    "row_scatter_plot(projs, proj_names, 2, 'g')\n",
    "\n",
    "# DECIDE IF I WANT TO PLOT FROZEN AND MULTI-HEAD MODELS' PROJECTIONS DEPENDING ON PERFORMANCE\n",
    "\n",
    "plt.tight_layout()\n",
    "plt.show()"
   ]
  },
  {
   "cell_type": "markdown",
   "id": "2d358406-41c1-40ba-8580-398ff90a1872",
   "metadata": {},
   "source": [
    "### Visualizing Clusters"
   ]
  },
  {
   "cell_type": "code",
   "execution_count": null,
   "id": "7b7ccb9a-0d2f-4f97-adc5-686a4310b555",
   "metadata": {
    "scrolled": true
   },
   "outputs": [],
   "source": [
    "# Filtering dataframe to get only the part that contains images\n",
    "filtered_df = ind_df.loc[ind_df['image_path'].notna()]\n",
    "\n",
    "# Visualizing 'povo' cluster\n",
    "visualizing_clusters(filtered_df, povo_vit_umap, povo_image_indices, 'povo', 'UMAP')"
   ]
  },
  {
   "cell_type": "code",
   "execution_count": null,
   "id": "1a072ba0-1e61-4288-b4ff-27ad22e1c3dc",
   "metadata": {},
   "outputs": [],
   "source": [
    "# Visualizing 'categoria' cluster\n",
    "visualizing_clusters(filtered_df, categoria_vit_umap, categoria_image_indices, \\\n",
    "                     'categoria', 'UMAP')"
   ]
  },
  {
   "cell_type": "code",
   "execution_count": null,
   "id": "09ba8e8d-256f-4681-9fa8-8c1026781225",
   "metadata": {},
   "outputs": [],
   "source": [
    "# Saving outputs for visualization tool\n",
    "_ = saving_outputs(filtered_df, povo_labels, povo_vit_umap, povo_image_indices, 'povo', \\\n",
    "                   'povo_vit.csv')\n",
    "\n",
    "_ = saving_outputs(filtered_df, categoria_labels, categoria_vit_umap, \\\n",
    "                   categoria_image_indices, 'categoria', 'categoria_vit.csv')"
   ]
  },
  {
   "cell_type": "markdown",
   "id": "50709824-9e61-4a0e-9963-fd10b5a1f727",
   "metadata": {},
   "source": [
    "## DINOv2"
   ]
  },
  {
   "cell_type": "markdown",
   "id": "c9c9fd41-14e6-48a0-836f-d4ee23073892",
   "metadata": {},
   "source": [
    "### Pre-Trained Embedding Space"
   ]
  },
  {
   "cell_type": "code",
   "execution_count": null,
   "id": "8c387c93-d1e2-458d-85d8-ebc65a74559b",
   "metadata": {},
   "outputs": [],
   "source": [
    "from transformers import AutoImageProcessor, AutoModel\n",
    "\n",
    "# Rebuilding dataset with DINO transform and dataloader with smaller batch_size because of \n",
    "# the model's size\n",
    "dino_transform = transforms.Compose([\n",
    "    transforms.ToTensor(),\n",
    "    transforms.Resize(256, interpolation=transforms.InterpolationMode.BICUBIC),\n",
    "    transforms.CenterCrop((224, 224)),\n",
    "    transforms.Normalize(mean=[0.485, 0.456, 0.406], std=[0.229, 0.224, 0.225])\n",
    "])\n",
    "povo_dataset = ImageDataset(povo_labels, transform=dino_transform, augment=False)\n",
    "povo_dataloader = DataLoader(povo_dataset, batch_size=16, shuffle=True, \\\n",
    "                             num_workers=0, pin_memory=True)\n",
    "\n",
    "# Loading model and pre-processor\n",
    "dino_processor = AutoImageProcessor.from_pretrained('facebook/dinov2-base')\n",
    "model = AutoModel.from_pretrained('facebook/dinov2-base')\n",
    "model.to(device)\n",
    "\n",
    "# Projecting data onto the off-the-shelf pre-trained embedding space from DINOv2\n",
    "image_embeddings, _ = get_embeddings(model, povo_dataloader, device, model_name='dino')\n",
    "image_embeddings = np.concatenate(image_embeddings, axis=0)\n",
    "\n",
    "# Computing data reduced-dimensionality projections\n",
    "_, _, vanilla_dino_umap = data_projections(image_embeddings)\n",
    "\n",
    "# Cleaning up memory\n",
    "clean_mem([model, image_embeddings])"
   ]
  },
  {
   "cell_type": "markdown",
   "id": "d8fba030-df4f-434a-a90e-d08cebc2e38b",
   "metadata": {},
   "source": [
    "### Fine-Tuning Embedding Space"
   ]
  },
  {
   "cell_type": "code",
   "execution_count": null,
   "id": "96872a49-4b39-4693-872a-627e5191ca94",
   "metadata": {},
   "outputs": [],
   "source": [
    "# Creating our own DINO classifier head for fine-tuning\n",
    "class DINOClassifier(nn.Module):\n",
    "    def __init__(self, num_classes1, num_classes2=0, freeze=0):\n",
    "        super(DINOClassifier, self).__init__()\n",
    "        self.dino = AutoModel.from_pretrained('facebook/dinov2-base')\n",
    "        self.classifier1 = nn.Linear(self.dino.config.hidden_size, num_classes1)\n",
    "        self.multi_head = False\n",
    "        \n",
    "        # Multi-head architecture\n",
    "        if num_classes2 > 0:\n",
    "            self.classifier2 = nn.Linear(self.dino.config.hidden_size, num_classes2)\n",
    "            self.multi_head = True\n",
    "        \n",
    "        self.freeze_layers(freeze)\n",
    "    \n",
    "    def forward(self, x):\n",
    "        outputs = self.dino(x)\n",
    "        \n",
    "        # Getting embeddings from last_hidden_state of CLS token (maybe pooler_output?)\n",
    "        embeddings = outputs['last_hidden_state'][:, 0, :]\n",
    "        # embeddings = outputs['pooler_output']\n",
    "\n",
    "        logits1 = self.classifier1(embeddings)\n",
    "        if self.multi_head:\n",
    "            logits2 = self.classifier2(embeddings)\n",
    "            return logits1, logits2\n",
    "        return logits1\n",
    "\n",
    "    # Freezing early layers so we don't lose generalization and speed up training\n",
    "    def freeze_layers(self, freeze):\n",
    "        if freeze <= 0:\n",
    "            return\n",
    "\n",
    "        # Accounting for the embedding freeze\n",
    "        freeze -= 1\n",
    "        \n",
    "        for name, param in self.vit.named_parameters():\n",
    "            if \"embeddings\" in name:\n",
    "                param.requires_grad = False\n",
    "            elif int(name.split('.')[2]) < freeze:\n",
    "                param.requires_grad = False\n",
    "            else:\n",
    "                break"
   ]
  },
  {
   "cell_type": "markdown",
   "id": "e6609639-35a5-4fae-b1a8-799d4a37a585",
   "metadata": {},
   "source": [
    "#### *povo* Column"
   ]
  },
  {
   "cell_type": "code",
   "execution_count": null,
   "id": "a39e11a4-c5cb-4524-9dc5-3f2fca00adaa",
   "metadata": {
    "scrolled": true
   },
   "outputs": [],
   "source": [
    "# Recreating datasets for proper training and testing\n",
    "povo_train_val_dataset = ImageDataset(povo_train_val_labels, transform=dino_transform, \\\n",
    "                                      augment=False)\n",
    "povo_test_dataset = ImageDataset(povo_test_labels, transform=dino_transform, augment=False)\n",
    "\n",
    "# Setting-up training, executing training and then running tests\n",
    "batch_size = 16\n",
    "epochs = 20\n",
    "num_classes = ind_df['povo'].nunique()\n",
    "model = DINOClassifier(num_classes).to(device)\n",
    "criterion = nn.CrossEntropyLoss()\n",
    "opt = optim.Adam(model.parameters(), lr=2e-5, weight_decay=2e-6)\n",
    "model_name = 'dino_povo'\n",
    "column_name = 'povo'\n",
    "\n",
    "test_prec, tes_rec = execute_train_test(povo_train_val_dataset, povo_test_dataset, device, \\\n",
    "                                        batch_size, epochs, num_classes, model, criterion, \\\n",
    "                                        opt, model_name, column_name, \\\n",
    "                                        architecture_name='DINOv2')\n",
    "prec_rec_on_selected_classes(povo_categories, povo_filtered_categories, test_prec, test_rec)\n",
    "\n",
    "# Cleaning up memory\n",
    "clean_mem([model])"
   ]
  },
  {
   "cell_type": "code",
   "execution_count": null,
   "id": "66ed537e-c895-4f46-a748-97bb0cf56995",
   "metadata": {},
   "outputs": [],
   "source": [
    "# Filtering dataframe for selected categories. We need to recompute this part of the dataset\n",
    "# because of the different transform used\n",
    "threshold_multiplier = 2\n",
    "minority_classes, majority_classes, labels_minority, labels_majority, \\\n",
    "val_labels, test_labels, povo_augmented_dataset, povo_balanced_val_dataset, \\\n",
    "povo_balanced_test_dataset = filter_image_data_distribution(ind_df, \\\n",
    "                                                            povo_filtered_categories_names, \\\n",
    "                                                            dino_transform, \\\n",
    "                                                            threshold_multiplier, \\\n",
    "                                                            'povo')"
   ]
  },
  {
   "cell_type": "code",
   "execution_count": null,
   "id": "78db26c8-d6f3-4dbb-8f9f-b6804b352454",
   "metadata": {},
   "outputs": [],
   "source": [
    "# Retraining model with augmented dataset to see the difference in the results\n",
    "batch_size = 16\n",
    "epochs = 20\n",
    "num_classes = len(povo_filtered_categories)\n",
    "model = DINOClassifier(num_classes).to(device)\n",
    "criterion = nn.CrossEntropyLoss(weight=povo_class_weights)\n",
    "opt = optim.Adam(model.parameters(), lr=2e-5, weight_decay=2e-6)\n",
    "model_name = 'balanced_dino_povo'\n",
    "column_name = 'povo'\n",
    "\n",
    "execute_train_test(povo_augmented_dataset, povo_balanced_test_dataset, device, batch_size, \\\n",
    "                   epochs, num_classes, model, criterion, opt, model_name, column_name, \\\n",
    "                   povo_balanced_val_dataset, architecture_name='DINOv2')\n",
    "\n",
    "_, _, \\\n",
    "povo_dino_umap, povo_image_indices = compute_classifier_embeddings(povo_dataloader, model, \\\n",
    "                                                                   device)\n",
    "\n",
    "# Cleaning up memory\n",
    "clean_mem([model])"
   ]
  },
  {
   "cell_type": "code",
   "execution_count": null,
   "id": "38d89dd8-9eea-44e4-8f11-72af1825171b",
   "metadata": {},
   "outputs": [],
   "source": [
    "# Training partially frozen model on balanced dataset to see the difference in results\n",
    "batch_size = 16\n",
    "epochs = 20\n",
    "num_classes = len(povo_filtered_categories)\n",
    "freeze = 7\n",
    "model = DINOClassifier(num_classes, freeze).to(device)\n",
    "criterion = nn.CrossEntropyLoss(weight=povo_class_weights)\n",
    "opt = optim.Adam(model.parameters(), lr=2e-5, weight_decay=2e-6)\n",
    "model_name = 'frozen_dino_povo'\n",
    "column_name = 'povo'\n",
    "\n",
    "execute_train_test(povo_augmented_dataset, povo_balanced_test_dataset, device, \\\n",
    "                   batch_size, epochs, num_classes, model, criterion, opt, model_name, \\\n",
    "                   column_name, povo_balanced_val_dataset, architecture_name='DINOv2')\n",
    "\n",
    "# Cleaning up memory\n",
    "clean_mem([model])"
   ]
  },
  {
   "cell_type": "markdown",
   "id": "064d659b-247f-4ec8-996f-b0f50e36c3ed",
   "metadata": {},
   "source": [
    "#### *categoria* Column"
   ]
  },
  {
   "cell_type": "code",
   "execution_count": null,
   "id": "96c80e65-f3e3-447b-84b6-af6d6f114a10",
   "metadata": {},
   "outputs": [],
   "source": [
    "# Now creating the 'categoria' dataset\n",
    "categoria_dataset = ImageDataset(categoria_labels, transform=dino_transform)\n",
    "categoria_dataloader = DataLoader(categoria_dataset, batch_size=8, shuffle=True, \\\n",
    "                                  num_workers=0, pin_memory=True)\n",
    "\n",
    "# Recreating datasets for proper training and testing\n",
    "categoria_train_val_dataset = ImageDataset(categoria_train_val_labels, \\\n",
    "                                           transform=dino_transform, augment=False)\n",
    "categoria_test_dataset = ImageDataset(categoria_test_labels, transform=dino_transform, \\\n",
    "                                      augment=False)\n",
    "\n",
    "# Setting-up training, executing training and then running tests\n",
    "batch_size = 16\n",
    "epochs = 20\n",
    "num_classes = ind_df['categoria'].nunique()\n",
    "model = DINOClassifier(num_classes).to(device)\n",
    "criterion = nn.CrossEntropyLoss()\n",
    "opt = optim.Adam(model.parameters(), lr=1e-5, weight_decay=2e-6)\n",
    "model_name = 'dino_categoria'\n",
    "column_name = 'categoria'\n",
    "\n",
    "test_prec, test_rec = execute_train_test(categoria_train_val_dataset, categoria_test_dataset, \\\n",
    "                                         device, batch_size, epochs, num_classes, model, \\\n",
    "                                         criterion, opt, model_name, column_name, \\\n",
    "                                         architecture_name='DINOv2')\n",
    "prec_rec_on_selected_classes(categoria_categories, categoria_filtered_categories, test_prec, \\\n",
    "                             test_rec)\n",
    "\n",
    "# Cleaning up memory\n",
    "clean_mem([model])"
   ]
  },
  {
   "cell_type": "code",
   "execution_count": null,
   "id": "8ff0224d-df2c-432e-87c6-4d8f30906601",
   "metadata": {},
   "outputs": [],
   "source": [
    "# Filtering dataframe for selected categories. We need to recompute this part of the dataset\n",
    "# because of the different transform used\n",
    "threshold_multiplier = 1.5\n",
    "minority_classes, majority_classes, labels_minority, labels_majority, \\\n",
    "val_labels, test_labels, categoria_augmented_dataset, categoria_balanced_val_dataset, \\\n",
    "categoria_balanced_test_dataset = \\\n",
    "filter_image_data_distribution(ind_df, categoria_filtered_categories_names, dino_transform, \\\n",
    "                               threshold_multiplier, 'categoria')"
   ]
  },
  {
   "cell_type": "code",
   "execution_count": null,
   "id": "506c7d49-68a2-4593-86a0-b916298e888e",
   "metadata": {},
   "outputs": [],
   "source": [
    "# Retraining model with augmented dataset to see the difference in the results\n",
    "batch_size = 16\n",
    "epochs = 20\n",
    "num_classes = len(categoria_filtered_categories)\n",
    "model = DINOClassifier(num_classes).to(device)\n",
    "criterion = nn.CrossEntropyLoss(weight=povo_class_weights)\n",
    "opt = optim.Adam(model.parameters(), lr=2e-5, weight_decay=2e-6)\n",
    "model_name = 'balanced_dino_categoria'\n",
    "column_name = 'categoria'\n",
    "\n",
    "execute_train_test(categoria_augmented_dataset, categoria_balanced_test_dataset, device, \\\n",
    "                   batch_size, epochs, num_classes, model, criterion, opt, model_name, \\\n",
    "                   column_name, categoria_balanced_val_dataset, architecture_name='DINOv2')\n",
    "\n",
    "_, _, \\\n",
    "categoria_dino_umap, categoria_image_indices = \\\n",
    "compute_classifier_embeddings(categoria_dataloader, model, device)\n",
    "\n",
    "# Cleaning up memory\n",
    "clean_mem([model])"
   ]
  },
  {
   "cell_type": "code",
   "execution_count": null,
   "id": "498b0ccb-5116-4131-ae55-446a32140d08",
   "metadata": {},
   "outputs": [],
   "source": [
    "# Training partially frozen model on balanced dataset to see the difference in results\n",
    "batch_size = 16\n",
    "epochs = 20\n",
    "num_classes = len(categoria_filtered_categories)\n",
    "freeze = 7\n",
    "model = DINOClassifier(num_classes, freeze).to(device)\n",
    "criterion = nn.CrossEntropyLoss(weight=categoria_class_weights)\n",
    "opt = optim.Adam(model.parameters(), lr=2e-5, weight_decay=2e-6)\n",
    "model_name = 'frozen_dino_categoria'\n",
    "column_name = 'categoria'\n",
    "\n",
    "execute_train_test(categoria_augmented_dataset, categoria_balanced_test_dataset, device, \\\n",
    "                   batch_size, epochs, num_classes, model, criterion, opt, model_name, \\\n",
    "                   column_name, categoria_balanced_val_dataset, architecture_name='DINOv2')\n",
    "\n",
    "# Cleaning up memory\n",
    "clean_mem([model])"
   ]
  },
  {
   "cell_type": "markdown",
   "id": "0973b009-6372-4d31-ab43-b0be7ad21ff5",
   "metadata": {},
   "source": [
    "#### Multi-Head Training"
   ]
  },
  {
   "cell_type": "code",
   "execution_count": null,
   "id": "2ba1ceba-58c4-412d-bf76-fa70f4f5cbf6",
   "metadata": {},
   "outputs": [],
   "source": [
    "# Filtering dataframe for selected categories\n",
    "threshold_multiplier = 2\n",
    "minority_classes, majority_classes, labels_minority, labels_majority, \\\n",
    "val_labels, test_labels, multi_augmented_dataset, multi_balanced_val_dataset, \\\n",
    "multi_balanced_test_dataset = \\\n",
    "multihead_filter_image_data_distribution(ind_df, [multi_povo_filtered_categories_names, \\\n",
    "                                         multi_categoria_filtered_categories_names], \\\n",
    "                                         dino_transform, threshold_multiplier, \\\n",
    "                                         ['povo', 'categoria'])"
   ]
  },
  {
   "cell_type": "code",
   "execution_count": null,
   "id": "01a0004c-9c36-4920-866a-bb035d9985e8",
   "metadata": {},
   "outputs": [],
   "source": [
    "# Because the dataset is still unbalanced, we also create class weights for the loss function\n",
    "multi_povo_class_weights = multihead_compute_class_weights(multi_povo_filtered_categories, \\\n",
    "                                                           labels_minority, labels_majority, \\\n",
    "                                                           device, threshold_multiplier, \\\n",
    "                                                           'povo')\n",
    "\n",
    "multi_categoria_class_weights = \\\n",
    "multihead_compute_class_weights(multi_categoria_filtered_categories, labels_minority, \\\n",
    "                                labels_majority, device, threshold_multiplier,'categoria')"
   ]
  },
  {
   "cell_type": "code",
   "execution_count": null,
   "id": "461388ef-352a-4ee7-acec-88a2205152cf",
   "metadata": {
    "scrolled": true
   },
   "outputs": [],
   "source": [
    "import image_training_utils\n",
    "importlib.reload(image_training_utils)\n",
    "from image_training_utils import *\n",
    "\n",
    "# Training multi-head model on balanced dataset to see the difference in results\n",
    "batch_size = 8\n",
    "epochs = 20\n",
    "num_classes = [len(multi_povo_filtered_categories), len(multi_categoria_filtered_categories)]\n",
    "model = DINOClassifier(num_classes[0], num_classes[1]).to(device)\n",
    "criterions = [nn.CrossEntropyLoss(weight=multi_povo_class_weights), \\\n",
    "              nn.CrossEntropyLoss(weight=multi_categoria_class_weights)]\n",
    "opt = optim.Adam(model.parameters(), lr=3e-6, weight_decay=1e-6)\n",
    "model_name = 'multihead_dino'\n",
    "column_names = ['povo', 'categoria']\n",
    "arch_name = 'DINOv2'\n",
    "head_weights = [0.5, 0.5]\n",
    "\n",
    "multihead_execute_train_test(multi_augmented_dataset, multi_balanced_test_dataset, device, \\\n",
    "                             batch_size, epochs, num_classes, model, \\\n",
    "                             criterions, opt, model_name, column_names, \\\n",
    "                             multi_balanced_val_dataset, arch_name, head_weights)\n",
    "\n",
    "# Cleaning up memory\n",
    "clean_mem([model])"
   ]
  },
  {
   "cell_type": "markdown",
   "id": "ff69dbc0-c068-49e5-9ead-cba4df5f6621",
   "metadata": {},
   "source": [
    "### Visualizing and Comparing Projections"
   ]
  },
  {
   "cell_type": "code",
   "execution_count": null,
   "id": "57420473-f668-471a-86fa-e3306d01f59c",
   "metadata": {},
   "outputs": [],
   "source": [
    "# Normalizing data for later plot on tool\n",
    "vanilla_dino_umap = normalize(vanilla_dino_umap, norm_factor)\n",
    "povo_dino_umap = normalize(povo_dino_umap, norm_factor)\n",
    "categoria_dino_umap = normalize(categoria_dino_umap, norm_factor)"
   ]
  },
  {
   "cell_type": "code",
   "execution_count": null,
   "id": "b1ef94fc-64d8-4863-9695-7588e6ca47d6",
   "metadata": {},
   "outputs": [],
   "source": [
    "# Visualizing resulting projections\n",
    "plt.figure(figsize=(12,8))\n",
    "plt.suptitle('Comparing ViT and DINO Projections')\n",
    "\n",
    "# Plotting all ViT projections\n",
    "projs = [vanilla_vit_umap, povo_vit_umap, categoria_vit_umap]\n",
    "proj_names = [\"Vanilla ViT\", \"'povo' ViT\", \"'categoria' ViT\"]\n",
    "row_scatter_plot(projs, proj_names, 1, 'b', 2, 3)\n",
    "\n",
    "# Plotting all DINO projections\n",
    "projs = [vanilla_dino_umap, povo_dino_umap, categoria_dino_umap]\n",
    "proj_names = [\"Vanilla DINO\", \"'povo' DINO\", \"'categoria' DINO\"]\n",
    "row_scatter_plot(projs, proj_names, 2, 'r', 2, 3)\n",
    "\n",
    "plt.tight_layout()\n",
    "plt.show()"
   ]
  }
 ],
 "metadata": {
  "kernelspec": {
   "display_name": "Python 3 (ipykernel)",
   "language": "python",
   "name": "python3"
  },
  "language_info": {
   "codemirror_mode": {
    "name": "ipython",
    "version": 3
   },
   "file_extension": ".py",
   "mimetype": "text/x-python",
   "name": "python",
   "nbconvert_exporter": "python",
   "pygments_lexer": "ipython3",
   "version": "3.10.15"
  }
 },
 "nbformat": 4,
 "nbformat_minor": 5
}
